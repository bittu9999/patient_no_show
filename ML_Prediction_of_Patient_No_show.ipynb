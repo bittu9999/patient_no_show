{
 "cells": [
  {
   "cell_type": "markdown",
   "metadata": {
    "colab_type": "text",
    "id": "KBGiSh-Cd5pY"
   },
   "source": [
    "# Problem statement"
   ]
  },
  {
   "cell_type": "markdown",
   "metadata": {
    "colab_type": "text",
    "id": "BuHI-rfcd5pa"
   },
   "source": [
    "### Prediction of Patient no-show in a clinic/hospital\n",
    "\n",
    "Hospital appointment where the patient does not turn-up is defined as an appointment in which the patient did not visit for the treatment or cancelled the same day. As these appointments are problematic for practices at all levels of the health care system, patients not turning up is a missed revenue opportunity which cannot be re-captured for the practice, and which contribute to both decreased patient and staff satisfaction. Such appointments negatively impact both patients and care teams. The objective is to predict the probability of a patient not turning up for a medical appointment."
   ]
  },
  {
   "cell_type": "markdown",
   "metadata": {
    "colab_type": "text",
    "id": "NnYKuaZZd5pc"
   },
   "source": [
    "## Data:\n",
    "\n",
    "This analysis consists of exploring a dataset containing approximately 100k medical appointments from the Brazilian public health system known as SUS (Single Health System). \n",
    "\n",
    "### Attributes Description:\n",
    "\n",
    "* PatientId: Identification of a patient\n",
    "* AppointmentID: Identification of each appointment\n",
    "* Gender: Male or Female\n",
    "* ScheduledDay: The day someone called or registered the appointment\n",
    "* AppointmentDay: The day of the actual appointment, when they have to visit the doctor\n",
    "* Age: How old is the patient\n",
    "* Neighbourhood: Where the appointment takes place\n",
    "* Scholarship: True or False, indicates if the patient is in the Bolsa Familia program (a social welfare program of the Government of Brazil)\n",
    "* Hypertension: True or False\n",
    "* Diabetes: True or False\n",
    "* Alcoholism: True or False\n",
    "* Handicap: True or False\n",
    "* SMS_received: 1 or more messages sent to the patient\n",
    "* No-show: \"No\" indicates if the patient attended to their appointment and \"Yes\" if they didn't attend"
   ]
  },
  {
   "cell_type": "markdown",
   "metadata": {
    "colab_type": "text",
    "id": "UMp6GOCgd5pd"
   },
   "source": [
    "## Error Metric : Recall"
   ]
  },
  {
   "cell_type": "markdown",
   "metadata": {
    "colab_type": "text",
    "id": "G9D_9-5vd5pe"
   },
   "source": [
    "## Importing the required libraries and packages"
   ]
  },
  {
   "cell_type": "code",
   "execution_count": 185,
   "metadata": {
    "colab": {
     "base_uri": "https://localhost:8080/",
     "height": 70
    },
    "colab_type": "code",
    "id": "2rqQueyld5pf",
    "outputId": "c0227fbe-5210-4525-a415-9ea7c238c592"
   },
   "outputs": [],
   "source": [
    "import numpy as np\n",
    "import pandas as pd\n",
    "from sklearn.model_selection import train_test_split\n",
    "from sklearn.impute import SimpleImputer\n",
    "from sklearn.preprocessing import StandardScaler, OneHotEncoder\n",
    "from sklearn.linear_model import LogisticRegression\n",
    "\n",
    "from sklearn.metrics import accuracy_score,recall_score,precision_score,f1_score \n",
    "from sklearn.metrics import classification_report, confusion_matrix\n",
    "from sklearn.ensemble import RandomForestClassifier,GradientBoostingClassifier\n",
    "from sklearn.feature_selection import SelectFromModel\n",
    "\n",
    "from sklearn.model_selection import GridSearchCV\n",
    "from sklearn.tree import DecisionTreeClassifier\n",
    "from sklearn import tree\n",
    "from sklearn.ensemble import AdaBoostClassifier\n",
    "from sklearn_pandas import DataFrameMapper\n",
    "from sklearn.model_selection import StratifiedShuffleSplit\n",
    "\n",
    "\n",
    "from xgboost import XGBClassifier\n",
    "from IPython.display import Image\n",
    "\n",
    "import matplotlib.pyplot as plt\n",
    "!pip install seaborn\n",
    "import seaborn as sns\n",
    "%matplotlib inline\n",
    "\n",
    "import warnings\n",
    "warnings.filterwarnings(\"ignore\")\n",
    "\n",
    "import datetime\n"
   ]
  },
  {
   "cell_type": "markdown",
   "metadata": {
    "colab_type": "text",
    "id": "XwaPK6hed5pm"
   },
   "source": [
    "## Reading the data"
   ]
  },
  {
   "cell_type": "code",
   "execution_count": 55,
   "metadata": {
    "colab": {
     "base_uri": "https://localhost:8080/",
     "height": 162
    },
    "colab_type": "code",
    "id": "JkxQjdAwd5po",
    "outputId": "6bb7d40e-4b08-45d3-8566-43e17d9935b4",
    "scrolled": true
   },
   "outputs": [],
   "source": [
    "df=pd.read_csv('Dataset (2).csv')"
   ]
  },
  {
   "cell_type": "code",
   "execution_count": 56,
   "metadata": {},
   "outputs": [
    {
     "data": {
      "text/html": [
       "<div>\n",
       "<style scoped>\n",
       "    .dataframe tbody tr th:only-of-type {\n",
       "        vertical-align: middle;\n",
       "    }\n",
       "\n",
       "    .dataframe tbody tr th {\n",
       "        vertical-align: top;\n",
       "    }\n",
       "\n",
       "    .dataframe thead th {\n",
       "        text-align: right;\n",
       "    }\n",
       "</style>\n",
       "<table border=\"1\" class=\"dataframe\">\n",
       "  <thead>\n",
       "    <tr style=\"text-align: right;\">\n",
       "      <th></th>\n",
       "      <th>PatientId</th>\n",
       "      <th>AppointmentID</th>\n",
       "      <th>Gender</th>\n",
       "      <th>ScheduledDay</th>\n",
       "      <th>AppointmentDay</th>\n",
       "      <th>Age</th>\n",
       "      <th>Neighbourhood</th>\n",
       "      <th>Scholarship</th>\n",
       "      <th>Hipertension</th>\n",
       "      <th>Diabetes</th>\n",
       "      <th>Alcoholism</th>\n",
       "      <th>Handcap</th>\n",
       "      <th>SMS_received</th>\n",
       "      <th>No-show</th>\n",
       "    </tr>\n",
       "  </thead>\n",
       "  <tbody>\n",
       "    <tr>\n",
       "      <th>0</th>\n",
       "      <td>2.987250e+13</td>\n",
       "      <td>5642903</td>\n",
       "      <td>F</td>\n",
       "      <td>2016-04-29T18:38:08Z</td>\n",
       "      <td>2016-04-29T00:00:00Z</td>\n",
       "      <td>62</td>\n",
       "      <td>JARDIM DA PENHA</td>\n",
       "      <td>0</td>\n",
       "      <td>1</td>\n",
       "      <td>0</td>\n",
       "      <td>0</td>\n",
       "      <td>0</td>\n",
       "      <td>0</td>\n",
       "      <td>No</td>\n",
       "    </tr>\n",
       "    <tr>\n",
       "      <th>1</th>\n",
       "      <td>5.589978e+14</td>\n",
       "      <td>5642503</td>\n",
       "      <td>M</td>\n",
       "      <td>2016-04-29T16:08:27Z</td>\n",
       "      <td>2016-04-29T00:00:00Z</td>\n",
       "      <td>56</td>\n",
       "      <td>JARDIM DA PENHA</td>\n",
       "      <td>0</td>\n",
       "      <td>0</td>\n",
       "      <td>0</td>\n",
       "      <td>0</td>\n",
       "      <td>0</td>\n",
       "      <td>0</td>\n",
       "      <td>No</td>\n",
       "    </tr>\n",
       "    <tr>\n",
       "      <th>2</th>\n",
       "      <td>4.262962e+12</td>\n",
       "      <td>5642549</td>\n",
       "      <td>F</td>\n",
       "      <td>2016-04-29T16:19:04Z</td>\n",
       "      <td>2016-04-29T00:00:00Z</td>\n",
       "      <td>62</td>\n",
       "      <td>MATA DA PRAIA</td>\n",
       "      <td>0</td>\n",
       "      <td>0</td>\n",
       "      <td>0</td>\n",
       "      <td>0</td>\n",
       "      <td>0</td>\n",
       "      <td>0</td>\n",
       "      <td>No</td>\n",
       "    </tr>\n",
       "    <tr>\n",
       "      <th>3</th>\n",
       "      <td>8.679512e+11</td>\n",
       "      <td>5642828</td>\n",
       "      <td>F</td>\n",
       "      <td>2016-04-29T17:29:31Z</td>\n",
       "      <td>2016-04-29T00:00:00Z</td>\n",
       "      <td>8</td>\n",
       "      <td>PONTAL DE CAMBURI</td>\n",
       "      <td>0</td>\n",
       "      <td>0</td>\n",
       "      <td>0</td>\n",
       "      <td>0</td>\n",
       "      <td>0</td>\n",
       "      <td>0</td>\n",
       "      <td>No</td>\n",
       "    </tr>\n",
       "    <tr>\n",
       "      <th>4</th>\n",
       "      <td>8.841186e+12</td>\n",
       "      <td>5642494</td>\n",
       "      <td>F</td>\n",
       "      <td>2016-04-29T16:07:23Z</td>\n",
       "      <td>2016-04-29T00:00:00Z</td>\n",
       "      <td>56</td>\n",
       "      <td>JARDIM DA PENHA</td>\n",
       "      <td>0</td>\n",
       "      <td>1</td>\n",
       "      <td>1</td>\n",
       "      <td>0</td>\n",
       "      <td>0</td>\n",
       "      <td>0</td>\n",
       "      <td>No</td>\n",
       "    </tr>\n",
       "  </tbody>\n",
       "</table>\n",
       "</div>"
      ],
      "text/plain": [
       "      PatientId  AppointmentID Gender          ScheduledDay  \\\n",
       "0  2.987250e+13        5642903      F  2016-04-29T18:38:08Z   \n",
       "1  5.589978e+14        5642503      M  2016-04-29T16:08:27Z   \n",
       "2  4.262962e+12        5642549      F  2016-04-29T16:19:04Z   \n",
       "3  8.679512e+11        5642828      F  2016-04-29T17:29:31Z   \n",
       "4  8.841186e+12        5642494      F  2016-04-29T16:07:23Z   \n",
       "\n",
       "         AppointmentDay  Age      Neighbourhood  Scholarship  Hipertension  \\\n",
       "0  2016-04-29T00:00:00Z   62    JARDIM DA PENHA            0             1   \n",
       "1  2016-04-29T00:00:00Z   56    JARDIM DA PENHA            0             0   \n",
       "2  2016-04-29T00:00:00Z   62      MATA DA PRAIA            0             0   \n",
       "3  2016-04-29T00:00:00Z    8  PONTAL DE CAMBURI            0             0   \n",
       "4  2016-04-29T00:00:00Z   56    JARDIM DA PENHA            0             1   \n",
       "\n",
       "   Diabetes  Alcoholism  Handcap  SMS_received No-show  \n",
       "0         0           0        0             0      No  \n",
       "1         0           0        0             0      No  \n",
       "2         0           0        0             0      No  \n",
       "3         0           0        0             0      No  \n",
       "4         1           0        0             0      No  "
      ]
     },
     "execution_count": 56,
     "metadata": {},
     "output_type": "execute_result"
    }
   ],
   "source": [
    "## first few records of teh data set\n",
    "df.head()"
   ]
  },
  {
   "cell_type": "markdown",
   "metadata": {
    "colab_type": "text",
    "id": "ch6U60apd5p2"
   },
   "source": [
    "### Renaming all columns with correct spellings"
   ]
  },
  {
   "cell_type": "code",
   "execution_count": 57,
   "metadata": {
    "colab": {},
    "colab_type": "code",
    "id": "HRIq6HIzd5p3"
   },
   "outputs": [],
   "source": [
    "df.rename(columns={'Hipertension': 'Hypertension', 'Handcap': 'Handicapped' }, inplace=True)"
   ]
  },
  {
   "cell_type": "markdown",
   "metadata": {
    "colab_type": "text",
    "id": "_RizbADhd5ps"
   },
   "source": [
    "## Exploratory Data Analysis"
   ]
  },
  {
   "cell_type": "code",
   "execution_count": 58,
   "metadata": {
    "colab": {
     "base_uri": "https://localhost:8080/",
     "height": 34
    },
    "colab_type": "code",
    "id": "8KPjjLppd5pt",
    "outputId": "d4e181d0-bd57-4431-83e3-9bc4db68de1a"
   },
   "outputs": [
    {
     "data": {
      "text/plain": [
       "(110527, 14)"
      ]
     },
     "execution_count": 58,
     "metadata": {},
     "output_type": "execute_result"
    }
   ],
   "source": [
    "## checking teh shape of the data set\n",
    "## data set has 110527 rows and 14 columns \n",
    "df.shape"
   ]
  },
  {
   "cell_type": "code",
   "execution_count": 59,
   "metadata": {
    "colab": {
     "base_uri": "https://localhost:8080/",
     "height": 296
    },
    "colab_type": "code",
    "id": "oVgxp8j_d5py",
    "outputId": "6803e9b1-edc0-4758-833e-92f0bdbcd927"
   },
   "outputs": [
    {
     "data": {
      "text/html": [
       "<div>\n",
       "<style scoped>\n",
       "    .dataframe tbody tr th:only-of-type {\n",
       "        vertical-align: middle;\n",
       "    }\n",
       "\n",
       "    .dataframe tbody tr th {\n",
       "        vertical-align: top;\n",
       "    }\n",
       "\n",
       "    .dataframe thead th {\n",
       "        text-align: right;\n",
       "    }\n",
       "</style>\n",
       "<table border=\"1\" class=\"dataframe\">\n",
       "  <thead>\n",
       "    <tr style=\"text-align: right;\">\n",
       "      <th></th>\n",
       "      <th>PatientId</th>\n",
       "      <th>AppointmentID</th>\n",
       "      <th>Gender</th>\n",
       "      <th>ScheduledDay</th>\n",
       "      <th>AppointmentDay</th>\n",
       "      <th>Age</th>\n",
       "      <th>Neighbourhood</th>\n",
       "      <th>Scholarship</th>\n",
       "      <th>Hypertension</th>\n",
       "      <th>Diabetes</th>\n",
       "      <th>Alcoholism</th>\n",
       "      <th>Handicapped</th>\n",
       "      <th>SMS_received</th>\n",
       "      <th>No-show</th>\n",
       "    </tr>\n",
       "  </thead>\n",
       "  <tbody>\n",
       "    <tr>\n",
       "      <th>110522</th>\n",
       "      <td>2.572134e+12</td>\n",
       "      <td>5651768</td>\n",
       "      <td>F</td>\n",
       "      <td>2016-05-03T09:15:35Z</td>\n",
       "      <td>2016-06-07T00:00:00Z</td>\n",
       "      <td>56</td>\n",
       "      <td>MARIA ORTIZ</td>\n",
       "      <td>0</td>\n",
       "      <td>0</td>\n",
       "      <td>0</td>\n",
       "      <td>0</td>\n",
       "      <td>0</td>\n",
       "      <td>1</td>\n",
       "      <td>No</td>\n",
       "    </tr>\n",
       "    <tr>\n",
       "      <th>110523</th>\n",
       "      <td>3.596266e+12</td>\n",
       "      <td>5650093</td>\n",
       "      <td>F</td>\n",
       "      <td>2016-05-03T07:27:33Z</td>\n",
       "      <td>2016-06-07T00:00:00Z</td>\n",
       "      <td>51</td>\n",
       "      <td>MARIA ORTIZ</td>\n",
       "      <td>0</td>\n",
       "      <td>0</td>\n",
       "      <td>0</td>\n",
       "      <td>0</td>\n",
       "      <td>0</td>\n",
       "      <td>1</td>\n",
       "      <td>No</td>\n",
       "    </tr>\n",
       "    <tr>\n",
       "      <th>110524</th>\n",
       "      <td>1.557663e+13</td>\n",
       "      <td>5630692</td>\n",
       "      <td>F</td>\n",
       "      <td>2016-04-27T16:03:52Z</td>\n",
       "      <td>2016-06-07T00:00:00Z</td>\n",
       "      <td>21</td>\n",
       "      <td>MARIA ORTIZ</td>\n",
       "      <td>0</td>\n",
       "      <td>0</td>\n",
       "      <td>0</td>\n",
       "      <td>0</td>\n",
       "      <td>0</td>\n",
       "      <td>1</td>\n",
       "      <td>No</td>\n",
       "    </tr>\n",
       "    <tr>\n",
       "      <th>110525</th>\n",
       "      <td>9.213493e+13</td>\n",
       "      <td>5630323</td>\n",
       "      <td>F</td>\n",
       "      <td>2016-04-27T15:09:23Z</td>\n",
       "      <td>2016-06-07T00:00:00Z</td>\n",
       "      <td>38</td>\n",
       "      <td>MARIA ORTIZ</td>\n",
       "      <td>0</td>\n",
       "      <td>0</td>\n",
       "      <td>0</td>\n",
       "      <td>0</td>\n",
       "      <td>0</td>\n",
       "      <td>1</td>\n",
       "      <td>No</td>\n",
       "    </tr>\n",
       "    <tr>\n",
       "      <th>110526</th>\n",
       "      <td>3.775115e+14</td>\n",
       "      <td>5629448</td>\n",
       "      <td>F</td>\n",
       "      <td>2016-04-27T13:30:56Z</td>\n",
       "      <td>2016-06-07T00:00:00Z</td>\n",
       "      <td>54</td>\n",
       "      <td>MARIA ORTIZ</td>\n",
       "      <td>0</td>\n",
       "      <td>0</td>\n",
       "      <td>0</td>\n",
       "      <td>0</td>\n",
       "      <td>0</td>\n",
       "      <td>1</td>\n",
       "      <td>No</td>\n",
       "    </tr>\n",
       "  </tbody>\n",
       "</table>\n",
       "</div>"
      ],
      "text/plain": [
       "           PatientId  AppointmentID Gender          ScheduledDay  \\\n",
       "110522  2.572134e+12        5651768      F  2016-05-03T09:15:35Z   \n",
       "110523  3.596266e+12        5650093      F  2016-05-03T07:27:33Z   \n",
       "110524  1.557663e+13        5630692      F  2016-04-27T16:03:52Z   \n",
       "110525  9.213493e+13        5630323      F  2016-04-27T15:09:23Z   \n",
       "110526  3.775115e+14        5629448      F  2016-04-27T13:30:56Z   \n",
       "\n",
       "              AppointmentDay  Age Neighbourhood  Scholarship  Hypertension  \\\n",
       "110522  2016-06-07T00:00:00Z   56   MARIA ORTIZ            0             0   \n",
       "110523  2016-06-07T00:00:00Z   51   MARIA ORTIZ            0             0   \n",
       "110524  2016-06-07T00:00:00Z   21   MARIA ORTIZ            0             0   \n",
       "110525  2016-06-07T00:00:00Z   38   MARIA ORTIZ            0             0   \n",
       "110526  2016-06-07T00:00:00Z   54   MARIA ORTIZ            0             0   \n",
       "\n",
       "        Diabetes  Alcoholism  Handicapped  SMS_received No-show  \n",
       "110522         0           0            0             1      No  \n",
       "110523         0           0            0             1      No  \n",
       "110524         0           0            0             1      No  \n",
       "110525         0           0            0             1      No  \n",
       "110526         0           0            0             1      No  "
      ]
     },
     "execution_count": 59,
     "metadata": {},
     "output_type": "execute_result"
    }
   ],
   "source": [
    "## last few records of the data set\n",
    "df.tail()"
   ]
  },
  {
   "cell_type": "markdown",
   "metadata": {},
   "source": [
    "### Summary Stats"
   ]
  },
  {
   "cell_type": "code",
   "execution_count": 60,
   "metadata": {
    "scrolled": true
   },
   "outputs": [
    {
     "data": {
      "text/html": [
       "<div>\n",
       "<style scoped>\n",
       "    .dataframe tbody tr th:only-of-type {\n",
       "        vertical-align: middle;\n",
       "    }\n",
       "\n",
       "    .dataframe tbody tr th {\n",
       "        vertical-align: top;\n",
       "    }\n",
       "\n",
       "    .dataframe thead th {\n",
       "        text-align: right;\n",
       "    }\n",
       "</style>\n",
       "<table border=\"1\" class=\"dataframe\">\n",
       "  <thead>\n",
       "    <tr style=\"text-align: right;\">\n",
       "      <th></th>\n",
       "      <th>PatientId</th>\n",
       "      <th>AppointmentID</th>\n",
       "      <th>Gender</th>\n",
       "      <th>ScheduledDay</th>\n",
       "      <th>AppointmentDay</th>\n",
       "      <th>Age</th>\n",
       "      <th>Neighbourhood</th>\n",
       "      <th>Scholarship</th>\n",
       "      <th>Hypertension</th>\n",
       "      <th>Diabetes</th>\n",
       "      <th>Alcoholism</th>\n",
       "      <th>Handicapped</th>\n",
       "      <th>SMS_received</th>\n",
       "      <th>No-show</th>\n",
       "    </tr>\n",
       "  </thead>\n",
       "  <tbody>\n",
       "    <tr>\n",
       "      <th>count</th>\n",
       "      <td>1.105270e+05</td>\n",
       "      <td>1.105270e+05</td>\n",
       "      <td>110527</td>\n",
       "      <td>110527</td>\n",
       "      <td>110527</td>\n",
       "      <td>110527.000000</td>\n",
       "      <td>110527</td>\n",
       "      <td>110527.000000</td>\n",
       "      <td>110527.000000</td>\n",
       "      <td>110527.000000</td>\n",
       "      <td>110527.000000</td>\n",
       "      <td>110527.000000</td>\n",
       "      <td>110527.000000</td>\n",
       "      <td>110527</td>\n",
       "    </tr>\n",
       "    <tr>\n",
       "      <th>unique</th>\n",
       "      <td>NaN</td>\n",
       "      <td>NaN</td>\n",
       "      <td>2</td>\n",
       "      <td>103549</td>\n",
       "      <td>27</td>\n",
       "      <td>NaN</td>\n",
       "      <td>81</td>\n",
       "      <td>NaN</td>\n",
       "      <td>NaN</td>\n",
       "      <td>NaN</td>\n",
       "      <td>NaN</td>\n",
       "      <td>NaN</td>\n",
       "      <td>NaN</td>\n",
       "      <td>2</td>\n",
       "    </tr>\n",
       "    <tr>\n",
       "      <th>top</th>\n",
       "      <td>NaN</td>\n",
       "      <td>NaN</td>\n",
       "      <td>F</td>\n",
       "      <td>2016-05-06T07:09:54Z</td>\n",
       "      <td>2016-06-06T00:00:00Z</td>\n",
       "      <td>NaN</td>\n",
       "      <td>JARDIM CAMBURI</td>\n",
       "      <td>NaN</td>\n",
       "      <td>NaN</td>\n",
       "      <td>NaN</td>\n",
       "      <td>NaN</td>\n",
       "      <td>NaN</td>\n",
       "      <td>NaN</td>\n",
       "      <td>No</td>\n",
       "    </tr>\n",
       "    <tr>\n",
       "      <th>freq</th>\n",
       "      <td>NaN</td>\n",
       "      <td>NaN</td>\n",
       "      <td>71840</td>\n",
       "      <td>24</td>\n",
       "      <td>4692</td>\n",
       "      <td>NaN</td>\n",
       "      <td>7717</td>\n",
       "      <td>NaN</td>\n",
       "      <td>NaN</td>\n",
       "      <td>NaN</td>\n",
       "      <td>NaN</td>\n",
       "      <td>NaN</td>\n",
       "      <td>NaN</td>\n",
       "      <td>88208</td>\n",
       "    </tr>\n",
       "    <tr>\n",
       "      <th>mean</th>\n",
       "      <td>1.474963e+14</td>\n",
       "      <td>5.675305e+06</td>\n",
       "      <td>NaN</td>\n",
       "      <td>NaN</td>\n",
       "      <td>NaN</td>\n",
       "      <td>37.088874</td>\n",
       "      <td>NaN</td>\n",
       "      <td>0.098266</td>\n",
       "      <td>0.197246</td>\n",
       "      <td>0.071865</td>\n",
       "      <td>0.030400</td>\n",
       "      <td>0.022248</td>\n",
       "      <td>0.321026</td>\n",
       "      <td>NaN</td>\n",
       "    </tr>\n",
       "    <tr>\n",
       "      <th>std</th>\n",
       "      <td>2.560949e+14</td>\n",
       "      <td>7.129575e+04</td>\n",
       "      <td>NaN</td>\n",
       "      <td>NaN</td>\n",
       "      <td>NaN</td>\n",
       "      <td>23.110205</td>\n",
       "      <td>NaN</td>\n",
       "      <td>0.297675</td>\n",
       "      <td>0.397921</td>\n",
       "      <td>0.258265</td>\n",
       "      <td>0.171686</td>\n",
       "      <td>0.161543</td>\n",
       "      <td>0.466873</td>\n",
       "      <td>NaN</td>\n",
       "    </tr>\n",
       "    <tr>\n",
       "      <th>min</th>\n",
       "      <td>3.921784e+04</td>\n",
       "      <td>5.030230e+06</td>\n",
       "      <td>NaN</td>\n",
       "      <td>NaN</td>\n",
       "      <td>NaN</td>\n",
       "      <td>-1.000000</td>\n",
       "      <td>NaN</td>\n",
       "      <td>0.000000</td>\n",
       "      <td>0.000000</td>\n",
       "      <td>0.000000</td>\n",
       "      <td>0.000000</td>\n",
       "      <td>0.000000</td>\n",
       "      <td>0.000000</td>\n",
       "      <td>NaN</td>\n",
       "    </tr>\n",
       "    <tr>\n",
       "      <th>25%</th>\n",
       "      <td>4.172614e+12</td>\n",
       "      <td>5.640286e+06</td>\n",
       "      <td>NaN</td>\n",
       "      <td>NaN</td>\n",
       "      <td>NaN</td>\n",
       "      <td>18.000000</td>\n",
       "      <td>NaN</td>\n",
       "      <td>0.000000</td>\n",
       "      <td>0.000000</td>\n",
       "      <td>0.000000</td>\n",
       "      <td>0.000000</td>\n",
       "      <td>0.000000</td>\n",
       "      <td>0.000000</td>\n",
       "      <td>NaN</td>\n",
       "    </tr>\n",
       "    <tr>\n",
       "      <th>50%</th>\n",
       "      <td>3.173184e+13</td>\n",
       "      <td>5.680573e+06</td>\n",
       "      <td>NaN</td>\n",
       "      <td>NaN</td>\n",
       "      <td>NaN</td>\n",
       "      <td>37.000000</td>\n",
       "      <td>NaN</td>\n",
       "      <td>0.000000</td>\n",
       "      <td>0.000000</td>\n",
       "      <td>0.000000</td>\n",
       "      <td>0.000000</td>\n",
       "      <td>0.000000</td>\n",
       "      <td>0.000000</td>\n",
       "      <td>NaN</td>\n",
       "    </tr>\n",
       "    <tr>\n",
       "      <th>75%</th>\n",
       "      <td>9.439172e+13</td>\n",
       "      <td>5.725524e+06</td>\n",
       "      <td>NaN</td>\n",
       "      <td>NaN</td>\n",
       "      <td>NaN</td>\n",
       "      <td>55.000000</td>\n",
       "      <td>NaN</td>\n",
       "      <td>0.000000</td>\n",
       "      <td>0.000000</td>\n",
       "      <td>0.000000</td>\n",
       "      <td>0.000000</td>\n",
       "      <td>0.000000</td>\n",
       "      <td>1.000000</td>\n",
       "      <td>NaN</td>\n",
       "    </tr>\n",
       "    <tr>\n",
       "      <th>max</th>\n",
       "      <td>9.999816e+14</td>\n",
       "      <td>5.790484e+06</td>\n",
       "      <td>NaN</td>\n",
       "      <td>NaN</td>\n",
       "      <td>NaN</td>\n",
       "      <td>115.000000</td>\n",
       "      <td>NaN</td>\n",
       "      <td>1.000000</td>\n",
       "      <td>1.000000</td>\n",
       "      <td>1.000000</td>\n",
       "      <td>1.000000</td>\n",
       "      <td>4.000000</td>\n",
       "      <td>1.000000</td>\n",
       "      <td>NaN</td>\n",
       "    </tr>\n",
       "  </tbody>\n",
       "</table>\n",
       "</div>"
      ],
      "text/plain": [
       "           PatientId  AppointmentID  Gender          ScheduledDay  \\\n",
       "count   1.105270e+05   1.105270e+05  110527                110527   \n",
       "unique           NaN            NaN       2                103549   \n",
       "top              NaN            NaN       F  2016-05-06T07:09:54Z   \n",
       "freq             NaN            NaN   71840                    24   \n",
       "mean    1.474963e+14   5.675305e+06     NaN                   NaN   \n",
       "std     2.560949e+14   7.129575e+04     NaN                   NaN   \n",
       "min     3.921784e+04   5.030230e+06     NaN                   NaN   \n",
       "25%     4.172614e+12   5.640286e+06     NaN                   NaN   \n",
       "50%     3.173184e+13   5.680573e+06     NaN                   NaN   \n",
       "75%     9.439172e+13   5.725524e+06     NaN                   NaN   \n",
       "max     9.999816e+14   5.790484e+06     NaN                   NaN   \n",
       "\n",
       "              AppointmentDay            Age   Neighbourhood    Scholarship  \\\n",
       "count                 110527  110527.000000          110527  110527.000000   \n",
       "unique                    27            NaN              81            NaN   \n",
       "top     2016-06-06T00:00:00Z            NaN  JARDIM CAMBURI            NaN   \n",
       "freq                    4692            NaN            7717            NaN   \n",
       "mean                     NaN      37.088874             NaN       0.098266   \n",
       "std                      NaN      23.110205             NaN       0.297675   \n",
       "min                      NaN      -1.000000             NaN       0.000000   \n",
       "25%                      NaN      18.000000             NaN       0.000000   \n",
       "50%                      NaN      37.000000             NaN       0.000000   \n",
       "75%                      NaN      55.000000             NaN       0.000000   \n",
       "max                      NaN     115.000000             NaN       1.000000   \n",
       "\n",
       "         Hypertension       Diabetes     Alcoholism    Handicapped  \\\n",
       "count   110527.000000  110527.000000  110527.000000  110527.000000   \n",
       "unique            NaN            NaN            NaN            NaN   \n",
       "top               NaN            NaN            NaN            NaN   \n",
       "freq              NaN            NaN            NaN            NaN   \n",
       "mean         0.197246       0.071865       0.030400       0.022248   \n",
       "std          0.397921       0.258265       0.171686       0.161543   \n",
       "min          0.000000       0.000000       0.000000       0.000000   \n",
       "25%          0.000000       0.000000       0.000000       0.000000   \n",
       "50%          0.000000       0.000000       0.000000       0.000000   \n",
       "75%          0.000000       0.000000       0.000000       0.000000   \n",
       "max          1.000000       1.000000       1.000000       4.000000   \n",
       "\n",
       "         SMS_received No-show  \n",
       "count   110527.000000  110527  \n",
       "unique            NaN       2  \n",
       "top               NaN      No  \n",
       "freq              NaN   88208  \n",
       "mean         0.321026     NaN  \n",
       "std          0.466873     NaN  \n",
       "min          0.000000     NaN  \n",
       "25%          0.000000     NaN  \n",
       "50%          0.000000     NaN  \n",
       "75%          1.000000     NaN  \n",
       "max          1.000000     NaN  "
      ]
     },
     "execution_count": 60,
     "metadata": {},
     "output_type": "execute_result"
    }
   ],
   "source": [
    "df.describe(include='all')"
   ]
  },
  {
   "cell_type": "markdown",
   "metadata": {},
   "source": [
    "### Checking Datatypes & Typecasting obvious ones"
   ]
  },
  {
   "cell_type": "code",
   "execution_count": 61,
   "metadata": {
    "colab": {
     "base_uri": "https://localhost:8080/",
     "height": 235
    },
    "colab_type": "code",
    "id": "RTzhGG1dsdst",
    "outputId": "d45169c6-cfce-44f6-dedc-7268d11c3e25"
   },
   "outputs": [
    {
     "data": {
      "text/plain": [
       "PatientId         float64\n",
       "AppointmentID       int64\n",
       "Gender             object\n",
       "ScheduledDay       object\n",
       "AppointmentDay     object\n",
       "Age                 int64\n",
       "Neighbourhood      object\n",
       "Scholarship         int64\n",
       "Hypertension        int64\n",
       "Diabetes            int64\n",
       "Alcoholism          int64\n",
       "Handicapped         int64\n",
       "SMS_received        int64\n",
       "No-show            object\n",
       "dtype: object"
      ]
     },
     "execution_count": 61,
     "metadata": {},
     "output_type": "execute_result"
    }
   ],
   "source": [
    "df.dtypes"
   ]
  },
  {
   "cell_type": "code",
   "execution_count": 62,
   "metadata": {
    "colab": {},
    "colab_type": "code",
    "id": "ZuvRlTapd5qN"
   },
   "outputs": [],
   "source": [
    "## list out the categorical columns of the data set.\n",
    "col_names=['PatientId','AppointmentID', 'Gender','Neighbourhood','Scholarship', 'Hypertension','Diabetes','Alcoholism','Handicapped', 'SMS_received', 'No-show']\n",
    "## using astype function convert all the above listed columns.\n",
    "df[col_names] = df[col_names].astype('category')"
   ]
  },
  {
   "cell_type": "code",
   "execution_count": 63,
   "metadata": {},
   "outputs": [
    {
     "data": {
      "text/plain": [
       "PatientId         category\n",
       "AppointmentID     category\n",
       "Gender            category\n",
       "ScheduledDay        object\n",
       "AppointmentDay      object\n",
       "Age                  int64\n",
       "Neighbourhood     category\n",
       "Scholarship       category\n",
       "Hypertension      category\n",
       "Diabetes          category\n",
       "Alcoholism        category\n",
       "Handicapped       category\n",
       "SMS_received      category\n",
       "No-show           category\n",
       "dtype: object"
      ]
     },
     "execution_count": 63,
     "metadata": {},
     "output_type": "execute_result"
    }
   ],
   "source": [
    "## again check the data type of the data set after type casting\n",
    "df.dtypes"
   ]
  },
  {
   "cell_type": "markdown",
   "metadata": {},
   "source": [
    "### Analysis on Patient ID and Appointment ID"
   ]
  },
  {
   "cell_type": "code",
   "execution_count": 64,
   "metadata": {
    "colab": {
     "base_uri": "https://localhost:8080/",
     "height": 67
    },
    "colab_type": "code",
    "id": "wglTkP-8sGU-",
    "outputId": "3c0bbc38-963b-437e-fba4-c12f18285d27"
   },
   "outputs": [
    {
     "name": "stdout",
     "output_type": "stream",
     "text": [
      "The number of unique Patient ID's in the  data set\n",
      "62299\n",
      "The number of unique Appointment ID's in the  data set\n",
      "110527\n"
     ]
    }
   ],
   "source": [
    "## number of unique patientID's\n",
    "print(\"The number of unique Patient ID's in the  data set\")\n",
    "print(df['PatientId'].nunique())\n",
    "\n",
    "## number of unique AppointmentID's\n",
    "print(\"The number of unique Appointment ID's in the  data set\")\n",
    "print(df['AppointmentID'].nunique())"
   ]
  },
  {
   "cell_type": "markdown",
   "metadata": {},
   "source": [
    "__Observation:__ \n",
    "- Clearly Appointment ID is unique for each row and offers zero variance. Hence it can be deleted. \n",
    "\n",
    "- Patient ID is not unique and hence it cannot be deleted. Will address this attribute later with other categorical columns"
   ]
  },
  {
   "cell_type": "markdown",
   "metadata": {
    "colab_type": "text",
    "id": "bmHAkt6Od5p7"
   },
   "source": [
    "#### Dropping Zero Variance features like Appointment ID"
   ]
  },
  {
   "cell_type": "code",
   "execution_count": 65,
   "metadata": {},
   "outputs": [],
   "source": [
    "df=df.drop(['AppointmentID'], axis=1)"
   ]
  },
  {
   "cell_type": "markdown",
   "metadata": {
    "colab_type": "text",
    "id": "nUJ_qq8pd5qX"
   },
   "source": [
    "### Analysing Numerical features"
   ]
  },
  {
   "cell_type": "code",
   "execution_count": 66,
   "metadata": {},
   "outputs": [
    {
     "data": {
      "text/plain": [
       "PatientId         category\n",
       "Gender            category\n",
       "ScheduledDay        object\n",
       "AppointmentDay      object\n",
       "Age                  int64\n",
       "Neighbourhood     category\n",
       "Scholarship       category\n",
       "Hypertension      category\n",
       "Diabetes          category\n",
       "Alcoholism        category\n",
       "Handicapped       category\n",
       "SMS_received      category\n",
       "No-show           category\n",
       "dtype: object"
      ]
     },
     "execution_count": 66,
     "metadata": {},
     "output_type": "execute_result"
    }
   ],
   "source": [
    "## data type of the data set\n",
    "df.dtypes"
   ]
  },
  {
   "cell_type": "markdown",
   "metadata": {},
   "source": [
    "#### Handling Age Attribute"
   ]
  },
  {
   "cell_type": "code",
   "execution_count": 67,
   "metadata": {},
   "outputs": [
    {
     "data": {
      "text/plain": [
       "-1         1\n",
       " 99        1\n",
       " 102       2\n",
       " 100       4\n",
       " 115       5\n",
       "        ... \n",
       " 53     1651\n",
       " 49     1652\n",
       " 52     1746\n",
       " 1      2273\n",
       " 0      3539\n",
       "Name: Age, Length: 104, dtype: int64"
      ]
     },
     "execution_count": 67,
     "metadata": {},
     "output_type": "execute_result"
    }
   ],
   "source": [
    "## short the age column in ascecnding order \n",
    "df.Age.value_counts(sort=True, ascending=True)"
   ]
  },
  {
   "cell_type": "markdown",
   "metadata": {
    "colab_type": "text",
    "id": "LphRu2bwd5qc"
   },
   "source": [
    "__Observation__: Age cannot have negative values, but very high chance that it can 0 or 1 and as both levels have equal distribution adding it to either will not make difference"
   ]
  },
  {
   "cell_type": "code",
   "execution_count": 68,
   "metadata": {
    "colab": {},
    "colab_type": "code",
    "id": "d4QP9yVCd5ql"
   },
   "outputs": [],
   "source": [
    "df.loc[df.Age < 0, ['Age']] = 0"
   ]
  },
  {
   "cell_type": "code",
   "execution_count": 69,
   "metadata": {
    "colab": {
     "base_uri": "https://localhost:8080/",
     "height": 284
    },
    "colab_type": "code",
    "id": "YjCM-U1md5qo",
    "outputId": "5af707fb-b14a-4d10-a3b8-89ff54c730fd"
   },
   "outputs": [
    {
     "data": {
      "text/plain": [
       "count    110527.000000\n",
       "mean         37.088883\n",
       "std          23.110190\n",
       "min           0.000000\n",
       "25%          18.000000\n",
       "50%          37.000000\n",
       "75%          55.000000\n",
       "max         115.000000\n",
       "Name: Age, dtype: float64"
      ]
     },
     "execution_count": 69,
     "metadata": {},
     "output_type": "execute_result"
    }
   ],
   "source": [
    "## Summary Stats fo the age column\n",
    "df['Age'].describe()"
   ]
  },
  {
   "cell_type": "markdown",
   "metadata": {},
   "source": [
    "#### Effect of Age on No-show attribute"
   ]
  },
  {
   "cell_type": "code",
   "execution_count": 70,
   "metadata": {
    "colab": {
     "base_uri": "https://localhost:8080/",
     "height": 336
    },
    "colab_type": "code",
    "id": "6MJ1ndDrsyMX",
    "outputId": "c88c9d05-24f2-41f4-e1ad-0eb2ebd8e564",
    "scrolled": true
   },
   "outputs": [
    {
     "data": {
      "image/png": "[encoded data removed]",
      "text/plain": [
       "<Figure size 720x360 with 1 Axes>"
      ]
     },
     "metadata": {
      "needs_background": "light"
     },
     "output_type": "display_data"
    }
   ],
   "source": [
    "## hist plot of age wrt no-show\n",
    "df['Age'].hist(figsize=(10, 5));"
   ]
  },
  {
   "cell_type": "markdown",
   "metadata": {},
   "source": [
    "__Observation:__ Age is clearly a right skewed one. Applying transforms? Log ?"
   ]
  },
  {
   "cell_type": "code",
   "execution_count": 71,
   "metadata": {},
   "outputs": [],
   "source": [
    "def getProbOfNoShow(col, target, df, forGraph=True):\n",
    "    crosstab = pd.crosstab(index = df[col], columns = df[target])\n",
    "    crosstab.columns = pd.Index(list(crosstab.columns))\n",
    "    crosstab = crosstab.reset_index() \n",
    "    crosstab['TotalCount'] = crosstab['Yes'] + crosstab['No']\n",
    "    crosstab['probNoShowUp'] = crosstab['Yes'] / crosstab['TotalCount']\n",
    "    \n",
    "    print(crosstab.head())\n",
    "    if forGraph:\n",
    "        return crosstab[[col, 'probNoShowUp']]\n",
    "    else:\n",
    "        return crosstab[[col, 'TotalCount', 'probNoShowUp']]"
   ]
  },
  {
   "cell_type": "code",
   "execution_count": 72,
   "metadata": {
    "scrolled": true
   },
   "outputs": [
    {
     "name": "stdout",
     "output_type": "stream",
     "text": [
      "   Age    No  Yes  TotalCount  probNoShowUp\n",
      "0    0  2901  639        3540      0.180508\n",
      "1    1  1858  415        2273      0.182578\n",
      "2    2  1366  252        1618      0.155748\n",
      "3    3  1236  277        1513      0.183080\n",
      "4    4  1017  282        1299      0.217090\n"
     ]
    }
   ],
   "source": [
    "data = getProbOfNoShow('Age', 'No-show', df)"
   ]
  },
  {
   "cell_type": "code",
   "execution_count": 79,
   "metadata": {},
   "outputs": [],
   "source": [
    "import seaborn as sns\n",
    "import matplotlib.pyplot as plt"
   ]
  },
  {
   "cell_type": "code",
   "execution_count": 80,
   "metadata": {
    "scrolled": false
   },
   "outputs": [
    {
     "data": {
      "image/png": "[encoded data removed]",
      "text/plain": [
       "<Figure size 360x360 with 1 Axes>"
      ]
     },
     "metadata": {
      "needs_background": "light"
     },
     "output_type": "display_data"
    }
   ],
   "source": [
    "sns.lmplot(data = data, x = 'Age', y = 'probNoShowUp', fit_reg = True)\n",
    "plt.xticks(np.arange(np.min(df['Age']), np.max(df['Age']), 10))\n",
    "plt.title('Probability of Not Showing up with respect to Age')\n",
    "plt.show()"
   ]
  },
  {
   "cell_type": "code",
   "execution_count": 81,
   "metadata": {},
   "outputs": [
    {
     "name": "stdout",
     "output_type": "stream",
     "text": [
      "[0, 20, 40, 60, 80, 100, 120]\n"
     ]
    }
   ],
   "source": [
    "## bining the age column based on above plot\n",
    "\n",
    "bins = list(np.arange(np.min(df['Age']), np.max(df['Age'])+20, 20))\n",
    "print(bins)"
   ]
  },
  {
   "cell_type": "code",
   "execution_count": 82,
   "metadata": {},
   "outputs": [
    {
     "name": "stdout",
     "output_type": "stream",
     "text": [
      "[0, 20, 40, 60, 80, 100]\n"
     ]
    }
   ],
   "source": [
    "labels = bins[:-1]\n",
    "print(labels)\n",
    "df['Age_binned'] = pd.cut(df['Age'], bins=bins, labels=labels, include_lowest=True)"
   ]
  },
  {
   "cell_type": "code",
   "execution_count": 83,
   "metadata": {},
   "outputs": [
    {
     "data": {
      "text/html": [
       "<div>\n",
       "<style scoped>\n",
       "    .dataframe tbody tr th:only-of-type {\n",
       "        vertical-align: middle;\n",
       "    }\n",
       "\n",
       "    .dataframe tbody tr th {\n",
       "        vertical-align: top;\n",
       "    }\n",
       "\n",
       "    .dataframe thead th {\n",
       "        text-align: right;\n",
       "    }\n",
       "</style>\n",
       "<table border=\"1\" class=\"dataframe\">\n",
       "  <thead>\n",
       "    <tr style=\"text-align: right;\">\n",
       "      <th></th>\n",
       "      <th>Age</th>\n",
       "      <th>Age_binned</th>\n",
       "    </tr>\n",
       "  </thead>\n",
       "  <tbody>\n",
       "    <tr>\n",
       "      <th>58014</th>\n",
       "      <td>102</td>\n",
       "      <td>100</td>\n",
       "    </tr>\n",
       "    <tr>\n",
       "      <th>63912</th>\n",
       "      <td>115</td>\n",
       "      <td>100</td>\n",
       "    </tr>\n",
       "    <tr>\n",
       "      <th>63915</th>\n",
       "      <td>115</td>\n",
       "      <td>100</td>\n",
       "    </tr>\n",
       "    <tr>\n",
       "      <th>68127</th>\n",
       "      <td>115</td>\n",
       "      <td>100</td>\n",
       "    </tr>\n",
       "    <tr>\n",
       "      <th>76284</th>\n",
       "      <td>115</td>\n",
       "      <td>100</td>\n",
       "    </tr>\n",
       "    <tr>\n",
       "      <th>90372</th>\n",
       "      <td>102</td>\n",
       "      <td>100</td>\n",
       "    </tr>\n",
       "    <tr>\n",
       "      <th>97666</th>\n",
       "      <td>115</td>\n",
       "      <td>100</td>\n",
       "    </tr>\n",
       "  </tbody>\n",
       "</table>\n",
       "</div>"
      ],
      "text/plain": [
       "       Age Age_binned\n",
       "58014  102        100\n",
       "63912  115        100\n",
       "63915  115        100\n",
       "68127  115        100\n",
       "76284  115        100\n",
       "90372  102        100\n",
       "97666  115        100"
      ]
     },
     "execution_count": 83,
     "metadata": {},
     "output_type": "execute_result"
    }
   ],
   "source": [
    "df.loc[df.Age > 100, ['Age','Age_binned']]"
   ]
  },
  {
   "cell_type": "code",
   "execution_count": 84,
   "metadata": {},
   "outputs": [],
   "source": [
    "## drop the age column\n",
    "df = df.drop(['Age'], axis=1)"
   ]
  },
  {
   "cell_type": "markdown",
   "metadata": {
    "colab_type": "text",
    "id": "9JKliQt4ukB0"
   },
   "source": [
    "### Analysing Categorical Columns"
   ]
  },
  {
   "cell_type": "code",
   "execution_count": 85,
   "metadata": {
    "colab": {
     "base_uri": "https://localhost:8080/",
     "height": 235
    },
    "colab_type": "code",
    "id": "8qSHUtuc0qDH",
    "outputId": "4197b257-be3d-44ac-e7e5-5537f5df20dc",
    "scrolled": true
   },
   "outputs": [
    {
     "data": {
      "text/html": [
       "<div>\n",
       "<style scoped>\n",
       "    .dataframe tbody tr th:only-of-type {\n",
       "        vertical-align: middle;\n",
       "    }\n",
       "\n",
       "    .dataframe tbody tr th {\n",
       "        vertical-align: top;\n",
       "    }\n",
       "\n",
       "    .dataframe thead th {\n",
       "        text-align: right;\n",
       "    }\n",
       "</style>\n",
       "<table border=\"1\" class=\"dataframe\">\n",
       "  <thead>\n",
       "    <tr style=\"text-align: right;\">\n",
       "      <th></th>\n",
       "      <th>PatientId</th>\n",
       "      <th>Gender</th>\n",
       "      <th>Neighbourhood</th>\n",
       "      <th>Scholarship</th>\n",
       "      <th>Hypertension</th>\n",
       "      <th>Diabetes</th>\n",
       "      <th>Alcoholism</th>\n",
       "      <th>Handicapped</th>\n",
       "      <th>SMS_received</th>\n",
       "      <th>No-show</th>\n",
       "      <th>Age_binned</th>\n",
       "    </tr>\n",
       "  </thead>\n",
       "  <tbody>\n",
       "    <tr>\n",
       "      <th>count</th>\n",
       "      <td>1.105270e+05</td>\n",
       "      <td>110527</td>\n",
       "      <td>110527</td>\n",
       "      <td>110527</td>\n",
       "      <td>110527</td>\n",
       "      <td>110527</td>\n",
       "      <td>110527</td>\n",
       "      <td>110527</td>\n",
       "      <td>110527</td>\n",
       "      <td>110527</td>\n",
       "      <td>110527</td>\n",
       "    </tr>\n",
       "    <tr>\n",
       "      <th>unique</th>\n",
       "      <td>6.229900e+04</td>\n",
       "      <td>2</td>\n",
       "      <td>81</td>\n",
       "      <td>2</td>\n",
       "      <td>2</td>\n",
       "      <td>2</td>\n",
       "      <td>2</td>\n",
       "      <td>5</td>\n",
       "      <td>2</td>\n",
       "      <td>2</td>\n",
       "      <td>6</td>\n",
       "    </tr>\n",
       "    <tr>\n",
       "      <th>top</th>\n",
       "      <td>8.221459e+14</td>\n",
       "      <td>F</td>\n",
       "      <td>JARDIM CAMBURI</td>\n",
       "      <td>0</td>\n",
       "      <td>0</td>\n",
       "      <td>0</td>\n",
       "      <td>0</td>\n",
       "      <td>0</td>\n",
       "      <td>0</td>\n",
       "      <td>No</td>\n",
       "      <td>0</td>\n",
       "    </tr>\n",
       "    <tr>\n",
       "      <th>freq</th>\n",
       "      <td>8.800000e+01</td>\n",
       "      <td>71840</td>\n",
       "      <td>7717</td>\n",
       "      <td>99666</td>\n",
       "      <td>88726</td>\n",
       "      <td>102584</td>\n",
       "      <td>107167</td>\n",
       "      <td>108286</td>\n",
       "      <td>75045</td>\n",
       "      <td>88208</td>\n",
       "      <td>31849</td>\n",
       "    </tr>\n",
       "  </tbody>\n",
       "</table>\n",
       "</div>"
      ],
      "text/plain": [
       "           PatientId  Gender   Neighbourhood  Scholarship  Hypertension  \\\n",
       "count   1.105270e+05  110527          110527       110527        110527   \n",
       "unique  6.229900e+04       2              81            2             2   \n",
       "top     8.221459e+14       F  JARDIM CAMBURI            0             0   \n",
       "freq    8.800000e+01   71840            7717        99666         88726   \n",
       "\n",
       "        Diabetes  Alcoholism  Handicapped  SMS_received No-show  Age_binned  \n",
       "count     110527      110527       110527        110527  110527      110527  \n",
       "unique         2           2            5             2       2           6  \n",
       "top            0           0            0             0      No           0  \n",
       "freq      102584      107167       108286         75045   88208       31849  "
      ]
     },
     "execution_count": 85,
     "metadata": {},
     "output_type": "execute_result"
    }
   ],
   "source": [
    "df.describe(include='category')"
   ]
  },
  {
   "cell_type": "code",
   "execution_count": 86,
   "metadata": {
    "colab": {},
    "colab_type": "code",
    "id": "KDjMwLu_wbnI"
   },
   "outputs": [],
   "source": [
    "## custom Function for Bar Plots\n",
    "\n",
    "def barplot(column,df):\n",
    "    bar_plot1 = sns.countplot(x=column, data=df)\n",
    "    \n",
    "    total = len(df[column])\n",
    "    for p in bar_plot1.patches:\n",
    "        percentage = '{:.2f}%'.format(100 * p.get_height()/total)\n",
    "        height = p.get_height()\n",
    "        bar_plot1.text(p.get_x()+ p.get_width()/2, height + 400, percentage, ha=\"center\")"
   ]
  },
  {
   "cell_type": "markdown",
   "metadata": {},
   "source": [
    "#### Univariate Analysis on Categorical Columns"
   ]
  },
  {
   "cell_type": "code",
   "execution_count": 87,
   "metadata": {
    "colab": {
     "base_uri": "https://localhost:8080/",
     "height": 279
    },
    "colab_type": "code",
    "id": "aZA979F71FNl",
    "outputId": "cf75ac9c-456e-4ca8-dd35-db66b5adbbb5"
   },
   "outputs": [
    {
     "data": {
      "image/png": "[encoded data removed]",
      "text/plain": [
       "<Figure size 432x288 with 1 Axes>"
      ]
     },
     "metadata": {
      "needs_background": "light"
     },
     "output_type": "display_data"
    }
   ],
   "source": [
    "barplot(\"Age_binned\",df)"
   ]
  },
  {
   "cell_type": "code",
   "execution_count": 88,
   "metadata": {},
   "outputs": [
    {
     "data": {
      "image/png": "[encoded data removed]",
      "text/plain": [
       "<Figure size 432x288 with 1 Axes>"
      ]
     },
     "metadata": {
      "needs_background": "light"
     },
     "output_type": "display_data"
    }
   ],
   "source": [
    "barplot(\"Scholarship\",df)"
   ]
  },
  {
   "cell_type": "code",
   "execution_count": 89,
   "metadata": {},
   "outputs": [
    {
     "data": {
      "image/png": "[encoded data removed]",
      "text/plain": [
       "<Figure size 432x288 with 1 Axes>"
      ]
     },
     "metadata": {
      "needs_background": "light"
     },
     "output_type": "display_data"
    }
   ],
   "source": [
    "barplot(\"Hypertension\",df)"
   ]
  },
  {
   "cell_type": "code",
   "execution_count": 90,
   "metadata": {},
   "outputs": [
    {
     "data": {
      "image/png": "[encoded data removed]",
      "text/plain": [
       "<Figure size 432x288 with 1 Axes>"
      ]
     },
     "metadata": {
      "needs_background": "light"
     },
     "output_type": "display_data"
    }
   ],
   "source": [
    "barplot(\"Diabetes\",df)"
   ]
  },
  {
   "cell_type": "code",
   "execution_count": 91,
   "metadata": {},
   "outputs": [
    {
     "data": {
      "image/png": "[encoded data removed]",
      "text/plain": [
       "<Figure size 432x288 with 1 Axes>"
      ]
     },
     "metadata": {
      "needs_background": "light"
     },
     "output_type": "display_data"
    }
   ],
   "source": [
    "barplot(\"Handicapped\",df)"
   ]
  },
  {
   "cell_type": "code",
   "execution_count": 92,
   "metadata": {},
   "outputs": [
    {
     "data": {
      "image/png": "[encoded data removed]",
      "text/plain": [
       "<Figure size 432x288 with 1 Axes>"
      ]
     },
     "metadata": {
      "needs_background": "light"
     },
     "output_type": "display_data"
    }
   ],
   "source": [
    "barplot(\"Alcoholism\",df)"
   ]
  },
  {
   "cell_type": "code",
   "execution_count": 93,
   "metadata": {},
   "outputs": [
    {
     "data": {
      "image/png": "[encoded data removed]",
      "text/plain": [
       "<Figure size 432x288 with 1 Axes>"
      ]
     },
     "metadata": {
      "needs_background": "light"
     },
     "output_type": "display_data"
    }
   ],
   "source": [
    "barplot(\"Gender\",df)"
   ]
  },
  {
   "cell_type": "code",
   "execution_count": 94,
   "metadata": {},
   "outputs": [
    {
     "data": {
      "image/png": "[encoded data removed]",
      "text/plain": [
       "<Figure size 432x288 with 1 Axes>"
      ]
     },
     "metadata": {
      "needs_background": "light"
     },
     "output_type": "display_data"
    }
   ],
   "source": [
    "barplot(\"SMS_received\",df)"
   ]
  },
  {
   "cell_type": "markdown",
   "metadata": {},
   "source": [
    "__Observation__: Using Univariate plots on categorical columns, it is very difficult to find out which attribute is related to the target or not. \n",
    "\n",
    "From the above plots, few things can be inferred though\n",
    "- Handicapped attribute can be merged to binary as other levels have less representation and also no proper information shared by the client on other levels.\n",
    "\n",
    "- Chi-square test of independence and Bivariate plots can be meaningful "
   ]
  },
  {
   "cell_type": "markdown",
   "metadata": {},
   "source": [
    "#### Binning of Handicapped attrribute"
   ]
  },
  {
   "cell_type": "code",
   "execution_count": 95,
   "metadata": {},
   "outputs": [],
   "source": [
    "df['Handicapped']=df['Handicapped'].astype('int')\n",
    "df.loc[df.Handicapped > 1, 'Handicapped'] = 1\n",
    "df['Handicapped']=df['Handicapped'].astype('category')"
   ]
  },
  {
   "cell_type": "code",
   "execution_count": 96,
   "metadata": {},
   "outputs": [
    {
     "data": {
      "text/plain": [
       "0    108286\n",
       "1      2241\n",
       "Name: Handicapped, dtype: int64"
      ]
     },
     "execution_count": 96,
     "metadata": {},
     "output_type": "execute_result"
    }
   ],
   "source": [
    "df['Handicapped'].value_counts()"
   ]
  },
  {
   "cell_type": "markdown",
   "metadata": {},
   "source": [
    " Performing Chi-Square test of independence"
   ]
  },
  {
   "cell_type": "code",
   "execution_count": 97,
   "metadata": {},
   "outputs": [],
   "source": [
    "from scipy.stats import chi2_contingency\n",
    "from scipy.stats import chi2\n",
    "\n",
    "## conda install -c anaconda statsmodels\n",
    "import statsmodels.api as sm"
   ]
  },
  {
   "cell_type": "code",
   "execution_count": 98,
   "metadata": {},
   "outputs": [
    {
     "data": {
      "text/plain": [
       "Index(['PatientId', 'Gender', 'Neighbourhood', 'Scholarship', 'Hypertension',\n",
       "       'Diabetes', 'Alcoholism', 'Handicapped', 'SMS_received', 'No-show',\n",
       "       'Age_binned'],\n",
       "      dtype='object')"
      ]
     },
     "execution_count": 98,
     "metadata": {},
     "output_type": "execute_result"
    }
   ],
   "source": [
    "cat_cols = df.select_dtypes('category').columns\n",
    "cat_cols"
   ]
  },
  {
   "cell_type": "code",
   "execution_count": 99,
   "metadata": {},
   "outputs": [],
   "source": [
    "# Adding formula for chi-square"
   ]
  },
  {
   "cell_type": "code",
   "execution_count": 102,
   "metadata": {},
   "outputs": [],
   "source": [
    "def find_chi2_independence(cat_col, target, df, alpha=0.05):\n",
    "    data = df[[target, cat_col]]\n",
    "    tab = sm.stats.Table.from_data(data)\n",
    "    tab = tab.table_orig.to_numpy()\n",
    "    print(f\"---------------{target} Vs {cat_col} Chi Square Test of Independence -------------------\")\n",
    "    print(f\"\\n Contingency table :\\n\")\n",
    "    print(tab)\n",
    "    \n",
    "    stat, p, dof, expected = chi2_contingency(tab)\n",
    "    print(f\"\\n Expected table :\\n\")\n",
    "    print(expected)\n",
    "    \n",
    "    print(f\"The p value returned = {p} and degrees of freedom returned = {dof}\")\n",
    "    \n",
    "    # interpret p-value\n",
    "    print('significance(alpha) = %.3f' % (alpha))\n",
    "\n",
    "    if p <= alpha:\n",
    "        print('Dependent (reject H0)')\n",
    "    else:\n",
    "        print('Independent (fail to reject H0)') "
   ]
  },
  {
   "cell_type": "code",
   "execution_count": 103,
   "metadata": {},
   "outputs": [
    {
     "name": "stdout",
     "output_type": "stream",
     "text": [
      "---------------No-show Vs PatientId Chi Square Test of Independence -------------------\n",
      "\n",
      " Contingency table :\n",
      "\n",
      "[[1 1 1 ... 1 1 1]\n",
      " [0 0 0 ... 0 0 0]]\n",
      "\n",
      " Expected table :\n",
      "\n",
      "[[0.79806744 0.79806744 0.79806744 ... 0.79806744 0.79806744 0.79806744]\n",
      " [0.20193256 0.20193256 0.20193256 ... 0.20193256 0.20193256 0.20193256]]\n",
      "The p value returned = 4.498875155354318e-49 and degrees of freedom returned = 62298\n",
      "significance(alpha) = 0.050\n",
      "Dependent (reject H0)\n",
      "---------------No-show Vs Gender Chi Square Test of Independence -------------------\n",
      "\n",
      " Contingency table :\n",
      "\n",
      "[[57246 30962]\n",
      " [14594  7725]]\n",
      "\n",
      " Expected table :\n",
      "\n",
      "[[57333.16492803 30874.83507197]\n",
      " [14506.83507197  7812.16492803]]\n",
      "The p value returned = 0.17338418189785987 and degrees of freedom returned = 1\n",
      "significance(alpha) = 0.050\n",
      "Independent (fail to reject H0)\n",
      "---------------No-show Vs Neighbourhood Chi Square Test of Independence -------------------\n",
      "\n",
      " Contingency table :\n",
      "\n",
      "[[   7 1741  221  220  332 1523  665  254 2223 1974 2631  254  689 1139\n",
      "  1094 1788  258  472  321  709  183  432  533 1543  210  563  854 1562\n",
      "   133  836 1524   32    8 1734    0  855 2591 2058 6252 3246 2157 1169\n",
      "   561 4586 1478  534  658   80  317  106 1862    1  623  364   57  845\n",
      "   994 1278  692 3525 1741  325  372  141  351  352 2635 1060 2063 2262\n",
      "   907  435  117  400 1152 1473 1549 1933 2559  120  710]\n",
      " [   1  521   50   62   91  384  193   58  550  591  703   56  160  237\n",
      "   304  429   47   88   92  140   52  106  149  346   48  137  217  456\n",
      "    42  235  361    3    2  532    2  202  923  451 1465  631  696  258\n",
      "   133 1219  424  110  166   16   54   29  402    0  179   88   12  190\n",
      "   294  275  143  906  474  123  134   37   77   86  496  272  508  484\n",
      "   369  112   28   69  287  363  428  515  573   32  141]]\n",
      "\n",
      " Expected table :\n",
      "\n",
      "[[6.38453952e+00 1.80522855e+03 2.16276276e+02 2.25055018e+02\n",
      "  3.37582527e+02 1.52191461e+03 6.84741864e+02 2.48997041e+02\n",
      "  2.21304101e+03 2.04704298e+03 2.66075685e+03 2.47400907e+02\n",
      "  6.77559257e+02 1.09814080e+03 1.11569828e+03 1.76931552e+03\n",
      "  2.43410569e+02 4.46917767e+02 3.29601853e+02 6.77559257e+02\n",
      "  1.87545849e+02 4.29360283e+02 5.44281994e+02 1.50754940e+03\n",
      "  2.05901400e+02 5.58647208e+02 8.54730229e+02 1.61050009e+03\n",
      "  1.39661802e+02 8.54730229e+02 1.50435713e+03 2.79323604e+01\n",
      "  7.98067441e+00 1.80842082e+03 1.59613488e+00 8.43557285e+02\n",
      "  2.80440899e+03 2.00235121e+03 6.15868644e+03 3.09410747e+03\n",
      "  2.27688641e+03 1.13884224e+03 5.53858804e+02 4.63278149e+03\n",
      "  1.51792427e+03 5.13955432e+02 6.57607571e+02 7.66144743e+01\n",
      "  2.96083020e+02 1.07739104e+02 1.80682469e+03 7.98067441e-01\n",
      "  6.40050087e+02 3.60726483e+02 5.50666534e+01 8.25999801e+02\n",
      "  1.02791086e+03 1.23939874e+03 6.66386313e+02 3.53623683e+03\n",
      "  1.76771938e+03 3.57534213e+02 4.03822125e+02 1.42056004e+02\n",
      "  3.41572865e+02 3.49553539e+02 2.49874916e+03 1.06302583e+03\n",
      "  2.05183139e+03 2.19149319e+03 1.01833405e+03 4.36542890e+02\n",
      "  1.15719779e+02 3.74293630e+02 1.14841905e+03 1.46525182e+03\n",
      "  1.57777933e+03 1.95366909e+03 2.49954722e+03 1.21306251e+02\n",
      "  6.79155392e+02]\n",
      " [1.61546048e+00 4.56771450e+02 5.47237236e+01 5.69449818e+01\n",
      "  8.54174727e+01 3.85085391e+02 1.73258136e+02 6.30029586e+01\n",
      "  5.59958987e+02 5.17957015e+02 6.73243153e+02 6.25990934e+01\n",
      "  1.71440743e+02 2.77859202e+02 2.82301718e+02 4.47684484e+02\n",
      "  6.15894306e+01 1.13082233e+02 8.33981471e+01 1.71440743e+02\n",
      "  4.74541515e+01 1.08639717e+02 1.37718006e+02 3.81450605e+02\n",
      "  5.20986003e+01 1.41352792e+02 2.16269771e+02 4.07499905e+02\n",
      "  3.53381979e+01 2.16269771e+02 3.80642875e+02 7.06763958e+00\n",
      "  2.01932559e+00 4.57579180e+02 4.03865119e-01 2.13442715e+02\n",
      "  7.09591014e+02 5.06648792e+02 1.55831356e+03 7.82892533e+02\n",
      "  5.76113592e+02 2.88157762e+02 1.40141196e+02 1.17221851e+03\n",
      "  3.84075728e+02 1.30044568e+02 1.66392429e+02 1.93855257e+01\n",
      "  7.49169796e+01 2.72608955e+01 4.57175315e+02 2.01932559e-01\n",
      "  1.61949913e+02 9.12735169e+01 1.39333466e+01 2.09000199e+02\n",
      "  2.60089137e+02 3.13601265e+02 1.68613687e+02 8.94763171e+02\n",
      "  4.47280619e+02 9.04657866e+01 1.02177875e+02 3.59439956e+01\n",
      "  8.64271355e+01 8.84464610e+01 6.32250844e+02 2.68974169e+02\n",
      "  5.19168610e+02 5.54506808e+02 2.57665946e+02 1.10457110e+02\n",
      "  2.92802211e+01 9.47063704e+01 2.90580953e+02 3.70748179e+02\n",
      "  3.99220670e+02 4.94330906e+02 6.32452776e+02 3.06937490e+01\n",
      "  1.71844608e+02]]\n",
      "The p value returned = 1.5424359262217237e-60 and degrees of freedom returned = 80\n",
      "significance(alpha) = 0.050\n",
      "Dependent (reject H0)\n",
      "---------------No-show Vs Scholarship Chi Square Test of Independence -------------------\n",
      "\n",
      " Contingency table :\n",
      "\n",
      "[[79925  8283]\n",
      " [19741  2578]]\n",
      "\n",
      " Expected table :\n",
      "\n",
      "[[79540.18952835  8667.81047165]\n",
      " [20125.81047165  2193.18952835]]\n",
      "The p value returned = 3.906624913845394e-22 and degrees of freedom returned = 1\n",
      "significance(alpha) = 0.050\n",
      "Dependent (reject H0)\n",
      "---------------No-show Vs Hypertension Chi Square Test of Independence -------------------\n",
      "\n",
      " Contingency table :\n",
      "\n",
      "[[70179 18029]\n",
      " [18547  3772]]\n",
      "\n",
      " Expected table :\n",
      "\n",
      "[[70809.3317289 17398.6682711]\n",
      " [17916.6682711  4402.3317289]]\n",
      "The p value returned = 1.9176109238263203e-32 and degrees of freedom returned = 1\n",
      "significance(alpha) = 0.050\n",
      "Dependent (reject H0)\n",
      "---------------No-show Vs Diabetes Chi Square Test of Independence -------------------\n",
      "\n",
      " Contingency table :\n",
      "\n",
      "[[81695  6513]\n",
      " [20889  1430]]\n",
      "\n",
      " Expected table :\n",
      "\n",
      "[[81868.95031983  6339.04968017]\n",
      " [20715.04968017  1603.95031983]]\n",
      "The p value returned = 4.849904575233736e-07 and degrees of freedom returned = 1\n",
      "significance(alpha) = 0.050\n",
      "Dependent (reject H0)\n",
      "---------------No-show Vs Alcoholism Chi Square Test of Independence -------------------\n",
      "\n",
      " Contingency table :\n",
      "\n",
      "[[85525  2683]\n",
      " [21642   677]]\n",
      "\n",
      " Expected table :\n",
      "\n",
      "[[85526.4933998  2681.5066002]\n",
      " [21640.5066002   678.4933998]]\n",
      "The p value returned = 0.9654188731603915 and degrees of freedom returned = 1\n",
      "significance(alpha) = 0.050\n",
      "Independent (fail to reject H0)\n",
      "---------------No-show Vs Handicapped Chi Square Test of Independence -------------------\n",
      "\n",
      " Contingency table :\n",
      "\n",
      "[[86374  1834]\n",
      " [21912   407]]\n",
      "\n",
      " Expected table :\n",
      "\n",
      "[[86419.53086576  1788.46913424]\n",
      " [21866.46913424   452.53086576]]\n",
      "The p value returned = 0.01666818189588988 and degrees of freedom returned = 1\n",
      "significance(alpha) = 0.050\n",
      "Dependent (reject H0)\n",
      "---------------No-show Vs SMS_received Chi Square Test of Independence -------------------\n",
      "\n",
      " Contingency table :\n",
      "\n",
      "[[62510 25698]\n",
      " [12535  9784]]\n",
      "\n",
      " Expected table :\n",
      "\n",
      "[[59890.97107494 28317.02892506]\n",
      " [15154.02892506  7164.97107494]]\n",
      "The p value returned = 0.0 and degrees of freedom returned = 1\n",
      "significance(alpha) = 0.050\n",
      "Dependent (reject H0)\n",
      "---------------No-show Vs No-show Chi Square Test of Independence -------------------\n",
      "\n",
      " Contingency table :\n",
      "\n",
      "[[88208     0]\n",
      " [    0 22319]]\n",
      "\n",
      " Expected table :\n",
      "\n",
      "[[70395.9327947 17812.0672053]\n",
      " [17812.0672053  4506.9327947]]\n",
      "The p value returned = 0.0 and degrees of freedom returned = 1\n",
      "significance(alpha) = 0.050\n",
      "Dependent (reject H0)\n",
      "---------------No-show Vs Age_binned Chi Square Test of Independence -------------------\n",
      "\n",
      " Contingency table :\n",
      "\n",
      "[[24753 22209 24490 14373  2379     4]\n",
      " [ 7096  6626  5591  2537   466     3]]\n",
      "\n",
      " Expected table :\n",
      "\n",
      "[[2.54176499e+04 2.30122746e+04 2.40066667e+04 1.34953204e+04\n",
      "  2.27050187e+03 5.58647208e+00]\n",
      " [6.43135009e+03 5.82272535e+03 6.07433332e+03 3.41467958e+03\n",
      "  5.74498132e+02 1.41352792e+00]]\n",
      "The p value returned = 6.7494943599125046e-124 and degrees of freedom returned = 5\n",
      "significance(alpha) = 0.050\n",
      "Dependent (reject H0)\n"
     ]
    }
   ],
   "source": [
    "for col in cat_cols:\n",
    "    find_chi2_independence(col, 'No-show', df)"
   ]
  },
  {
   "cell_type": "markdown",
   "metadata": {},
   "source": [
    "__Observation__: \n",
    "- PatientId, Neighbourhood, Scholarship, Hypertension, Diabetes, SMS_received, Age_binned attributes tend to influence the target\n",
    "\n",
    "- Gender & Alcoholism doesn't have any dependency with target\n",
    "\n",
    "Let us also run probabilistic approach for categorical columns"
   ]
  },
  {
   "cell_type": "markdown",
   "metadata": {},
   "source": [
    "### Probabilistic Analysis of Categorical columns on No show"
   ]
  },
  {
   "cell_type": "code",
   "execution_count": 104,
   "metadata": {},
   "outputs": [],
   "source": [
    "def probStatusCategorical(col_list):\n",
    "    rows = []\n",
    "    for item in col_list:\n",
    "        for level in df[item].unique():\n",
    "            row = {'Condition': item}\n",
    "            ## Finding count of rows with that level in categorical column\n",
    "            total = len(df[df[item] == level])\n",
    "            ## Finding count of rows where level and Yes in No-show match\n",
    "            n = len(df[(df[item] == level) & (df['No-show'] == 'Yes')])\n",
    "            row.update({'Level': level, 'Probability': n / total})\n",
    "            rows.append(row)\n",
    "    return pd.DataFrame(rows)"
   ]
  },
  {
   "cell_type": "code",
   "execution_count": 105,
   "metadata": {
    "scrolled": true
   },
   "outputs": [
    {
     "data": {
      "image/png": "[encoded data removed]",
      "text/plain": [
       "<Figure size 720x720 with 1 Axes>"
      ]
     },
     "metadata": {
      "needs_background": "light"
     },
     "output_type": "display_data"
    }
   ],
   "source": [
    "plt.figure(figsize=(10,10))\n",
    "sns.barplot(data = probStatusCategorical(['Diabetes', 'Alcoholism', 'Handicapped', \n",
    "                                          'SMS_received', 'Gender', 'Hypertension','Scholarship']),\n",
    "            x = 'Condition', y = 'Probability', hue = 'Level', palette = 'Set2')\n",
    "plt.title('Probability of not showing up')\n",
    "plt.ylabel('Probability')\n",
    "plt.show()"
   ]
  },
  {
   "cell_type": "markdown",
   "metadata": {},
   "source": [
    "__Observation:__ \n",
    "- 1) Clearly SMS received status and Scholarship Status drive no-show up's\n",
    "- 2) Gender and Alcoholism are not contributing to the target (No-show class)"
   ]
  },
  {
   "cell_type": "markdown",
   "metadata": {},
   "source": [
    "### Dealing High Cardinal Categorical Attributes\n",
    "\n",
    "- We have two attributes namely PatientID and Neighbourhood that have high cardinality. Also Chi-square test of independence shows that these two columns influence target variable.\n",
    "\n",
    "- But given some limitations with known techniques under ML till date, we would like to handle these variables using Categorical Embeddings. Hence proceeding further we will not be using these variables in our analysis\n",
    "\n",
    "- Before we step in to DL module, we can still use pandas techniques like crosstab to find the probabilistic nature of these variables on No-show attribute"
   ]
  },
  {
   "cell_type": "code",
   "execution_count": 106,
   "metadata": {},
   "outputs": [
    {
     "name": "stdout",
     "output_type": "stream",
     "text": [
      "      PatientId  No  Yes  TotalCount  probNoShowUp\n",
      "0   39217.84439   1    0           1           0.0\n",
      "1   43741.75652   1    0           1           0.0\n",
      "2   93779.52927   1    0           1           0.0\n",
      "3  141724.16655   1    0           1           0.0\n",
      "4  537615.28476   1    0           1           0.0\n"
     ]
    }
   ],
   "source": [
    "patient_df = getProbOfNoShow('PatientId', 'No-show', df, forGraph=False)\n",
    "patient_df.to_csv('patientID_VS_NoShow.csv', index=False)"
   ]
  },
  {
   "cell_type": "code",
   "execution_count": 107,
   "metadata": {},
   "outputs": [
    {
     "name": "stdout",
     "output_type": "stream",
     "text": [
      "         Neighbourhood    No  Yes  TotalCount  probNoShowUp\n",
      "0            AEROPORTO     7    1           8      0.125000\n",
      "1           ANDORINHAS  1741  521        2262      0.230327\n",
      "2      ANTÔNIO HONÓRIO   221   50         271      0.184502\n",
      "3  ARIOVALDO FAVALESSA   220   62         282      0.219858\n",
      "4       BARRO VERMELHO   332   91         423      0.215130\n"
     ]
    }
   ],
   "source": [
    "neigh_df = getProbOfNoShow('Neighbourhood', 'No-show', df, forGraph=False)\n",
    "neigh_df.to_csv('Neighbourhood_VS_NoShow.csv', index=False)"
   ]
  },
  {
   "cell_type": "code",
   "execution_count": 108,
   "metadata": {},
   "outputs": [],
   "source": [
    "### Dropping off the above columns\n",
    "df = df.drop(['Neighbourhood','PatientId','Gender','Alcoholism'], axis=1)"
   ]
  },
  {
   "cell_type": "code",
   "execution_count": 109,
   "metadata": {},
   "outputs": [
    {
     "data": {
      "text/plain": [
       "Index(['ScheduledDay', 'AppointmentDay', 'Scholarship', 'Hypertension',\n",
       "       'Diabetes', 'Handicapped', 'SMS_received', 'No-show', 'Age_binned'],\n",
       "      dtype='object')"
      ]
     },
     "execution_count": 109,
     "metadata": {},
     "output_type": "execute_result"
    }
   ],
   "source": [
    "df.columns"
   ]
  },
  {
   "cell_type": "markdown",
   "metadata": {
    "colab_type": "text",
    "id": "mFrmfKPad5qt"
   },
   "source": [
    "## Feature Engineering"
   ]
  },
  {
   "cell_type": "markdown",
   "metadata": {
    "colab_type": "text",
    "id": "5MPYEfJWd5qu"
   },
   "source": [
    "### Generating new features from scheduled and appointment date features"
   ]
  },
  {
   "cell_type": "code",
   "execution_count": 113,
   "metadata": {
    "colab": {},
    "colab_type": "code",
    "id": "iRuXxZ8Qd5qv"
   },
   "outputs": [],
   "source": [
    "df['Scheduled_DateTime'] = pd.to_datetime(df['ScheduledDay'])\n",
    "df['Scheduled_date'] = df['Scheduled_DateTime'].dt.date\n",
    "df['Scheduled_month']=df['Scheduled_DateTime'].dt.month\n",
    "df['Scheduled_hour'] = df['Scheduled_DateTime'].dt.hour\n",
    "df['Scheduled_weekday']=df['Scheduled_DateTime'].dt.weekday\n"
   ]
  },
  {
   "cell_type": "code",
   "execution_count": 114,
   "metadata": {
    "colab": {},
    "colab_type": "code",
    "id": "KmJvY-qEd5qz"
   },
   "outputs": [],
   "source": [
    "df['Appointment_DateTime'] = pd.to_datetime(df['AppointmentDay'])\n",
    "df['Appointment_date'] = df['Appointment_DateTime'].dt.date\n",
    "df['Appointment_month']=df['Appointment_DateTime'].dt.month\n",
    "df['Appointment_hour'] = df['Appointment_DateTime'].dt.hour\n",
    "df['Appointment_weekday']=df['Appointment_DateTime'].dt.weekday"
   ]
  },
  {
   "cell_type": "code",
   "execution_count": 115,
   "metadata": {
    "colab": {},
    "colab_type": "code",
    "id": "YF7mKBNRljfb"
   },
   "outputs": [
    {
     "data": {
      "text/plain": [
       "datetime.date(2015, 11, 10)"
      ]
     },
     "execution_count": 115,
     "metadata": {},
     "output_type": "execute_result"
    }
   ],
   "source": [
    "np.min(df['Scheduled_date'])"
   ]
  },
  {
   "cell_type": "code",
   "execution_count": 116,
   "metadata": {
    "colab": {},
    "colab_type": "code",
    "id": "rH7t6ogFlji0"
   },
   "outputs": [
    {
     "data": {
      "text/plain": [
       "datetime.date(2016, 6, 8)"
      ]
     },
     "execution_count": 116,
     "metadata": {},
     "output_type": "execute_result"
    }
   ],
   "source": [
    "np.max(df['Scheduled_date'])"
   ]
  },
  {
   "cell_type": "code",
   "execution_count": 117,
   "metadata": {},
   "outputs": [
    {
     "data": {
      "text/html": [
       "<div>\n",
       "<style scoped>\n",
       "    .dataframe tbody tr th:only-of-type {\n",
       "        vertical-align: middle;\n",
       "    }\n",
       "\n",
       "    .dataframe tbody tr th {\n",
       "        vertical-align: top;\n",
       "    }\n",
       "\n",
       "    .dataframe thead th {\n",
       "        text-align: right;\n",
       "    }\n",
       "</style>\n",
       "<table border=\"1\" class=\"dataframe\">\n",
       "  <thead>\n",
       "    <tr style=\"text-align: right;\">\n",
       "      <th></th>\n",
       "      <th>Appointment_DateTime</th>\n",
       "      <th>Appointment_date</th>\n",
       "      <th>Appointment_month</th>\n",
       "      <th>Appointment_hour</th>\n",
       "      <th>Appointment_weekday</th>\n",
       "    </tr>\n",
       "  </thead>\n",
       "  <tbody>\n",
       "    <tr>\n",
       "      <th>0</th>\n",
       "      <td>2016-04-29 00:00:00+00:00</td>\n",
       "      <td>2016-04-29</td>\n",
       "      <td>4</td>\n",
       "      <td>0</td>\n",
       "      <td>4</td>\n",
       "    </tr>\n",
       "    <tr>\n",
       "      <th>1</th>\n",
       "      <td>2016-04-29 00:00:00+00:00</td>\n",
       "      <td>2016-04-29</td>\n",
       "      <td>4</td>\n",
       "      <td>0</td>\n",
       "      <td>4</td>\n",
       "    </tr>\n",
       "    <tr>\n",
       "      <th>2</th>\n",
       "      <td>2016-04-29 00:00:00+00:00</td>\n",
       "      <td>2016-04-29</td>\n",
       "      <td>4</td>\n",
       "      <td>0</td>\n",
       "      <td>4</td>\n",
       "    </tr>\n",
       "    <tr>\n",
       "      <th>3</th>\n",
       "      <td>2016-04-29 00:00:00+00:00</td>\n",
       "      <td>2016-04-29</td>\n",
       "      <td>4</td>\n",
       "      <td>0</td>\n",
       "      <td>4</td>\n",
       "    </tr>\n",
       "    <tr>\n",
       "      <th>4</th>\n",
       "      <td>2016-04-29 00:00:00+00:00</td>\n",
       "      <td>2016-04-29</td>\n",
       "      <td>4</td>\n",
       "      <td>0</td>\n",
       "      <td>4</td>\n",
       "    </tr>\n",
       "    <tr>\n",
       "      <th>...</th>\n",
       "      <td>...</td>\n",
       "      <td>...</td>\n",
       "      <td>...</td>\n",
       "      <td>...</td>\n",
       "      <td>...</td>\n",
       "    </tr>\n",
       "    <tr>\n",
       "      <th>110522</th>\n",
       "      <td>2016-06-07 00:00:00+00:00</td>\n",
       "      <td>2016-06-07</td>\n",
       "      <td>6</td>\n",
       "      <td>0</td>\n",
       "      <td>1</td>\n",
       "    </tr>\n",
       "    <tr>\n",
       "      <th>110523</th>\n",
       "      <td>2016-06-07 00:00:00+00:00</td>\n",
       "      <td>2016-06-07</td>\n",
       "      <td>6</td>\n",
       "      <td>0</td>\n",
       "      <td>1</td>\n",
       "    </tr>\n",
       "    <tr>\n",
       "      <th>110524</th>\n",
       "      <td>2016-06-07 00:00:00+00:00</td>\n",
       "      <td>2016-06-07</td>\n",
       "      <td>6</td>\n",
       "      <td>0</td>\n",
       "      <td>1</td>\n",
       "    </tr>\n",
       "    <tr>\n",
       "      <th>110525</th>\n",
       "      <td>2016-06-07 00:00:00+00:00</td>\n",
       "      <td>2016-06-07</td>\n",
       "      <td>6</td>\n",
       "      <td>0</td>\n",
       "      <td>1</td>\n",
       "    </tr>\n",
       "    <tr>\n",
       "      <th>110526</th>\n",
       "      <td>2016-06-07 00:00:00+00:00</td>\n",
       "      <td>2016-06-07</td>\n",
       "      <td>6</td>\n",
       "      <td>0</td>\n",
       "      <td>1</td>\n",
       "    </tr>\n",
       "  </tbody>\n",
       "</table>\n",
       "<p>110527 rows × 5 columns</p>\n",
       "</div>"
      ],
      "text/plain": [
       "            Appointment_DateTime Appointment_date  Appointment_month  \\\n",
       "0      2016-04-29 00:00:00+00:00       2016-04-29                  4   \n",
       "1      2016-04-29 00:00:00+00:00       2016-04-29                  4   \n",
       "2      2016-04-29 00:00:00+00:00       2016-04-29                  4   \n",
       "3      2016-04-29 00:00:00+00:00       2016-04-29                  4   \n",
       "4      2016-04-29 00:00:00+00:00       2016-04-29                  4   \n",
       "...                          ...              ...                ...   \n",
       "110522 2016-06-07 00:00:00+00:00       2016-06-07                  6   \n",
       "110523 2016-06-07 00:00:00+00:00       2016-06-07                  6   \n",
       "110524 2016-06-07 00:00:00+00:00       2016-06-07                  6   \n",
       "110525 2016-06-07 00:00:00+00:00       2016-06-07                  6   \n",
       "110526 2016-06-07 00:00:00+00:00       2016-06-07                  6   \n",
       "\n",
       "        Appointment_hour  Appointment_weekday  \n",
       "0                      0                    4  \n",
       "1                      0                    4  \n",
       "2                      0                    4  \n",
       "3                      0                    4  \n",
       "4                      0                    4  \n",
       "...                  ...                  ...  \n",
       "110522                 0                    1  \n",
       "110523                 0                    1  \n",
       "110524                 0                    1  \n",
       "110525                 0                    1  \n",
       "110526                 0                    1  \n",
       "\n",
       "[110527 rows x 5 columns]"
      ]
     },
     "execution_count": 117,
     "metadata": {},
     "output_type": "execute_result"
    }
   ],
   "source": [
    "df[['Appointment_DateTime', 'Appointment_date', 'Appointment_month', 'Appointment_hour', 'Appointment_weekday']]"
   ]
  },
  {
   "cell_type": "markdown",
   "metadata": {
    "colab_type": "text",
    "id": "55j60oyfd5rR"
   },
   "source": [
    "### Creating 'number of days to appointment' \n",
    "\n",
    "This feature may have an impact on our target feature as we tend to forget,hence retrieving new feature from scheduled date and appointment date"
   ]
  },
  {
   "cell_type": "code",
   "execution_count": 118,
   "metadata": {
    "colab": {},
    "colab_type": "code",
    "id": "OQ9IENKrd5rS"
   },
   "outputs": [],
   "source": [
    "fn = lambda row: (row.Appointment_date - row.Scheduled_date).days\n",
    "df['num_of_days'] = df.apply (fn, axis=1)"
   ]
  },
  {
   "cell_type": "code",
   "execution_count": 119,
   "metadata": {
    "colab": {
     "base_uri": "https://localhost:8080/",
     "height": 168
    },
    "colab_type": "code",
    "id": "Fa209PH1d5ra",
    "outputId": "1df7d490-cad1-401e-ea24-3f7622eaeb97"
   },
   "outputs": [
    {
     "data": {
      "text/plain": [
       "count    110527.000000\n",
       "mean         10.183702\n",
       "std          15.254996\n",
       "min          -6.000000\n",
       "25%           0.000000\n",
       "50%           4.000000\n",
       "75%          15.000000\n",
       "max         179.000000\n",
       "Name: num_of_days, dtype: float64"
      ]
     },
     "execution_count": 119,
     "metadata": {},
     "output_type": "execute_result"
    }
   ],
   "source": [
    "df.num_of_days.describe()"
   ]
  },
  {
   "cell_type": "markdown",
   "metadata": {
    "colab_type": "text",
    "id": "zTRzMFOHd5re"
   },
   "source": [
    "__Observation__: We can see some negative values indicating there might be some outliers in the data as appointment date cannot happen before the scheduled date"
   ]
  },
  {
   "cell_type": "code",
   "execution_count": 120,
   "metadata": {},
   "outputs": [],
   "source": [
    "df.loc[df.num_of_days < 0, ['num_of_days']] = 0"
   ]
  },
  {
   "cell_type": "code",
   "execution_count": 121,
   "metadata": {
    "colab": {},
    "colab_type": "code",
    "id": "CipDrGPud5q6"
   },
   "outputs": [],
   "source": [
    "df = df.drop(['ScheduledDay','Scheduled_DateTime','Scheduled_date'], axis=1)\n",
    "df = df.drop(['AppointmentDay','Appointment_DateTime','Appointment_date'], axis=1)"
   ]
  },
  {
   "cell_type": "code",
   "execution_count": 122,
   "metadata": {
    "colab": {
     "base_uri": "https://localhost:8080/",
     "height": 281
    },
    "colab_type": "code",
    "id": "F1IC4UlDd5rM",
    "outputId": "07603e9c-7678-4312-c824-b01f1fefdb61"
   },
   "outputs": [
    {
     "data": {
      "image/png": "[encoded data removed]",
      "text/plain": [
       "<Figure size 432x288 with 1 Axes>"
      ]
     },
     "metadata": {
      "needs_background": "light"
     },
     "output_type": "display_data"
    }
   ],
   "source": [
    "#0:MONDAY 1:TUESDAY 2:WEDNESDAY 3:THURSDAY 4:FRIDAY 5:SATURDAY\n",
    "barplot(\"Appointment_weekday\",df)"
   ]
  },
  {
   "cell_type": "code",
   "execution_count": 123,
   "metadata": {},
   "outputs": [
    {
     "data": {
      "image/png": "[encoded data removed]",
      "text/plain": [
       "<Figure size 432x288 with 1 Axes>"
      ]
     },
     "metadata": {
      "needs_background": "light"
     },
     "output_type": "display_data"
    }
   ],
   "source": [
    "barplot(\"Appointment_hour\",df)"
   ]
  },
  {
   "cell_type": "code",
   "execution_count": 124,
   "metadata": {},
   "outputs": [
    {
     "data": {
      "image/png": "[encoded data removed]",
      "text/plain": [
       "<Figure size 432x288 with 1 Axes>"
      ]
     },
     "metadata": {
      "needs_background": "light"
     },
     "output_type": "display_data"
    }
   ],
   "source": [
    "barplot(\"Scheduled_hour\",df)"
   ]
  },
  {
   "cell_type": "code",
   "execution_count": 125,
   "metadata": {},
   "outputs": [
    {
     "data": {
      "image/png": "[encoded data removed]",
      "text/plain": [
       "<Figure size 432x288 with 1 Axes>"
      ]
     },
     "metadata": {
      "needs_background": "light"
     },
     "output_type": "display_data"
    }
   ],
   "source": [
    "barplot(\"Appointment_month\",df)"
   ]
  },
  {
   "cell_type": "code",
   "execution_count": 126,
   "metadata": {},
   "outputs": [
    {
     "data": {
      "image/png": "[encoded data removed]",
      "text/plain": [
       "<Figure size 432x288 with 1 Axes>"
      ]
     },
     "metadata": {
      "needs_background": "light"
     },
     "output_type": "display_data"
    }
   ],
   "source": [
    "barplot(\"Scheduled_month\",df)"
   ]
  },
  {
   "cell_type": "markdown",
   "metadata": {},
   "source": [
    "__Observation:__ appointment hour has zero variance. So can be deleted"
   ]
  },
  {
   "cell_type": "code",
   "execution_count": 186,
   "metadata": {},
   "outputs": [],
   "source": [
    "## droping the Appointment_hour\n",
    "df = df.drop(['Appointment_hour'], axis=1)"
   ]
  },
  {
   "cell_type": "markdown",
   "metadata": {},
   "source": [
    "### Typecasting newly created features"
   ]
  },
  {
   "cell_type": "code",
   "execution_count": 129,
   "metadata": {},
   "outputs": [
    {
     "data": {
      "text/plain": [
       "Scholarship            category\n",
       "Hypertension           category\n",
       "Diabetes               category\n",
       "Handicapped            category\n",
       "SMS_received           category\n",
       "No-show                category\n",
       "Age_binned             category\n",
       "Scheduled_month           int64\n",
       "Scheduled_hour            int64\n",
       "Scheduled_weekday         int64\n",
       "Appointment_month         int64\n",
       "Appointment_weekday       int64\n",
       "num_of_days               int64\n",
       "dtype: object"
      ]
     },
     "execution_count": 129,
     "metadata": {},
     "output_type": "execute_result"
    }
   ],
   "source": [
    "df.dtypes"
   ]
  },
  {
   "cell_type": "code",
   "execution_count": 131,
   "metadata": {},
   "outputs": [],
   "source": [
    "## converting the columns into categorical type only\n",
    "for col in ['Scheduled_month', 'Scheduled_weekday', 'Appointment_month', 'Appointment_weekday']:\n",
    "    df[col] = df[col].astype('category')"
   ]
  },
  {
   "cell_type": "code",
   "execution_count": 133,
   "metadata": {},
   "outputs": [
    {
     "data": {
      "text/plain": [
       "Scholarship            category\n",
       "Hypertension           category\n",
       "Diabetes               category\n",
       "Handicapped            category\n",
       "SMS_received           category\n",
       "No-show                category\n",
       "Age_binned             category\n",
       "Scheduled_month        category\n",
       "Scheduled_hour            int64\n",
       "Scheduled_weekday      category\n",
       "Appointment_month      category\n",
       "Appointment_weekday    category\n",
       "num_of_days               int64\n",
       "dtype: object"
      ]
     },
     "execution_count": 133,
     "metadata": {},
     "output_type": "execute_result"
    }
   ],
   "source": [
    "## check the data type of teh data set\n",
    "df.dtypes"
   ]
  },
  {
   "cell_type": "markdown",
   "metadata": {},
   "source": [
    "### Effect of num_days on No-show attribute"
   ]
  },
  {
   "cell_type": "code",
   "execution_count": 134,
   "metadata": {
    "scrolled": true
   },
   "outputs": [
    {
     "name": "stdout",
     "output_type": "stream",
     "text": [
      "   num_of_days     No   Yes  TotalCount  probNoShowUp\n",
      "0            0  36771  1797       38568      0.046593\n",
      "1            1   4100  1113        5213      0.213505\n",
      "2            2   5123  1602        6725      0.238216\n",
      "3            3   2093   644        2737      0.235294\n",
      "4            4   4059  1231        5290      0.232703\n"
     ]
    }
   ],
   "source": [
    "data = getProbOfNoShow('num_of_days', 'No-show', df)"
   ]
  },
  {
   "cell_type": "code",
   "execution_count": 135,
   "metadata": {},
   "outputs": [
    {
     "data": {
      "image/png": "[encoded data removed]",
      "text/plain": [
       "<Figure size 360x360 with 1 Axes>"
      ]
     },
     "metadata": {
      "needs_background": "light"
     },
     "output_type": "display_data"
    }
   ],
   "source": [
    "sns.lmplot(data = data, x = 'num_of_days', y = 'probNoShowUp', fit_reg = True)\n",
    "# plt.xticks(np.arange(np.min(df['num_days']), np.max(df['num_days']), 10))\n",
    "plt.title('Probability of Not Showing up with respect to Num of Days to appointment')\n",
    "plt.show()"
   ]
  },
  {
   "cell_type": "markdown",
   "metadata": {},
   "source": [
    "__Observation:__ Num of days prior to appointment has no clear pattern in it."
   ]
  },
  {
   "cell_type": "markdown",
   "metadata": {},
   "source": [
    "### Effect of Scheduled_hour on No-show attribute"
   ]
  },
  {
   "cell_type": "code",
   "execution_count": 136,
   "metadata": {
    "scrolled": true
   },
   "outputs": [
    {
     "name": "stdout",
     "output_type": "stream",
     "text": [
      "   Scheduled_hour     No   Yes  TotalCount  probNoShowUp\n",
      "0               6   1275   303        1578      0.192015\n",
      "1               7  16302  2911       19213      0.151512\n",
      "2               8  12545  2804       15349      0.182683\n",
      "3               9  10297  2526       12823      0.196990\n",
      "4              10   8616  2440       11056      0.220695\n"
     ]
    }
   ],
   "source": [
    "data = getProbOfNoShow('Scheduled_hour', 'No-show', df)"
   ]
  },
  {
   "cell_type": "code",
   "execution_count": 137,
   "metadata": {},
   "outputs": [
    {
     "data": {
      "image/png": "[encoded data removed]",
      "text/plain": [
       "<Figure size 360x360 with 1 Axes>"
      ]
     },
     "metadata": {
      "needs_background": "light"
     },
     "output_type": "display_data"
    }
   ],
   "source": [
    "sns.lmplot(data = data, x = 'Scheduled_hour', y = 'probNoShowUp', fit_reg = True)\n",
    "# plt.xticks(np.arange(np.min(df['num_days']), np.max(df['num_days']), 10))\n",
    "plt.title('Probability of Not Showing up wrt Hour the appointment is booked')\n",
    "plt.show()"
   ]
  },
  {
   "cell_type": "markdown",
   "metadata": {},
   "source": [
    "__Observation__: There is clear trend in above graph, showcasing the effect of scheduled hour on no-show up. We can bin Scheduled hour with bin size of 2 hours"
   ]
  },
  {
   "cell_type": "code",
   "execution_count": 138,
   "metadata": {
    "colab": {},
    "colab_type": "code",
    "id": "y5ty54wzd5r-"
   },
   "outputs": [],
   "source": [
    "#Binning of Scheduled_time\n",
    "def get_session_of_day(x):\n",
    "    if x < 8:\n",
    "        return 'EarlyMorning'\n",
    "    elif (x >= 8) and (x < 12 ):\n",
    "        return 'Morning'\n",
    "    elif (x >= 12) and (x < 16):\n",
    "        return'Noon'\n",
    "    elif (x >= 16) and (x < 20) :\n",
    "        return 'Eve'\n",
    "    elif (x >= 20) and (x < 24):\n",
    "        return'Night'"
   ]
  },
  {
   "cell_type": "code",
   "execution_count": 139,
   "metadata": {
    "colab": {},
    "colab_type": "code",
    "id": "WJc4z6ACd5sB"
   },
   "outputs": [],
   "source": [
    "df['Scheduled_session_of_day'] = df['Scheduled_hour'].apply(get_session_of_day)"
   ]
  },
  {
   "cell_type": "code",
   "execution_count": 140,
   "metadata": {
    "colab": {},
    "colab_type": "code",
    "id": "TYrDYp4hd5sF"
   },
   "outputs": [],
   "source": [
    "df=df.drop('Scheduled_hour',axis=1)"
   ]
  },
  {
   "cell_type": "code",
   "execution_count": 141,
   "metadata": {
    "colab": {
     "base_uri": "https://localhost:8080/",
     "height": 269
    },
    "colab_type": "code",
    "id": "tQPpHLIvd5sI",
    "outputId": "faf8234d-3a33-4469-d175-8a707fd99705"
   },
   "outputs": [
    {
     "data": {
      "text/plain": [
       "Scholarship                 category\n",
       "Hypertension                category\n",
       "Diabetes                    category\n",
       "Handicapped                 category\n",
       "SMS_received                category\n",
       "No-show                     category\n",
       "Age_binned                  category\n",
       "Scheduled_month             category\n",
       "Scheduled_weekday           category\n",
       "Appointment_month           category\n",
       "Appointment_weekday         category\n",
       "num_of_days                    int64\n",
       "Scheduled_session_of_day    category\n",
       "dtype: object"
      ]
     },
     "execution_count": 141,
     "metadata": {},
     "output_type": "execute_result"
    }
   ],
   "source": [
    "df['Scheduled_session_of_day']=df['Scheduled_session_of_day'].astype('category')\n",
    "df.dtypes"
   ]
  },
  {
   "cell_type": "markdown",
   "metadata": {},
   "source": [
    "### Performing Chisquare test of independence on newly added categorical columns"
   ]
  },
  {
   "cell_type": "code",
   "execution_count": 142,
   "metadata": {},
   "outputs": [
    {
     "name": "stdout",
     "output_type": "stream",
     "text": [
      "---------------No-show Vs Scheduled_month Chi Square Test of Independence -------------------\n",
      "\n",
      " Contingency table :\n",
      "\n",
      "[[   42   199  2418 17490 55652 12364     1    42]\n",
      " [   18    82  1196  7849 11769  1386     0    19]]\n",
      "\n",
      " Expected table :\n",
      "\n",
      "[[4.78840464e+01 2.24256951e+02 2.88421573e+03 2.02222309e+04\n",
      "  5.38065049e+04 1.09734273e+04 7.98067441e-01 4.86821139e+01]\n",
      " [1.21159536e+01 5.67430492e+01 7.29784270e+02 5.11676912e+03\n",
      "  1.36144951e+04 2.77657269e+03 2.01932559e-01 1.23178861e+01]]\n",
      "The p value returned = 0.0 and degrees of freedom returned = 7\n",
      "significance(alpha) = 0.050\n",
      "Dependent (reject H0)\n",
      "---------------No-show Vs Scheduled_weekday Chi Square Test of Independence -------------------\n",
      "\n",
      " Contingency table :\n",
      "\n",
      "[[18524 20877 19383 14373 15028    23]\n",
      " [ 4561  5291  4879  3700  3887     1]]\n",
      "\n",
      " Expected table :\n",
      "\n",
      "[[1.84233869e+04 2.08838288e+04 1.93627122e+04 1.44234729e+04\n",
      "  1.50954456e+04 1.91536186e+01]\n",
      " [4.66161314e+03 5.28417122e+03 4.89928776e+03 3.64952715e+03\n",
      "  3.81955436e+03 4.84638143e+00]]\n",
      "The p value returned = 0.10789498364057512 and degrees of freedom returned = 5\n",
      "significance(alpha) = 0.050\n",
      "Independent (fail to reject H0)\n",
      "---------------No-show Vs Appointment_month Chi Square Test of Independence -------------------\n",
      "\n",
      " Contingency table :\n",
      "\n",
      "[[ 2602 64037 21569]\n",
      " [  633 16804  4882]]\n",
      "\n",
      " Expected table :\n",
      "\n",
      "[[ 2581.74817013 64516.56996028 21109.68186959]\n",
      " [  653.25182987 16324.43003972  5341.31813041]]\n",
      "The p value returned = 1.7727517737147313e-15 and degrees of freedom returned = 2\n",
      "significance(alpha) = 0.050\n",
      "Dependent (reject H0)\n",
      "---------------No-show Vs Appointment_weekday Chi Square Test of Independence -------------------\n",
      "\n",
      " Contingency table :\n",
      "\n",
      "[[18025 20488 20774 13909 14982    30]\n",
      " [ 4690  5152  5093  3338  4037     9]]\n",
      "\n",
      " Expected table :\n",
      "\n",
      "[[1.81281019e+04 2.04624492e+04 2.06436105e+04 1.37642691e+04\n",
      "  1.51784447e+04 3.11246302e+01]\n",
      " [4.58689809e+03 5.17755082e+03 5.22338952e+03 3.48273085e+03\n",
      "  3.84055535e+03 7.87536982e+00]]\n",
      "The p value returned = 4.622523600571694e-05 and degrees of freedom returned = 5\n",
      "significance(alpha) = 0.050\n",
      "Dependent (reject H0)\n",
      "---------------No-show Vs Scheduled_session_of_day Chi Square Test of Independence -------------------\n",
      "\n",
      " Contingency table :\n",
      "\n",
      "[[17577  7841 37992    72 24726]\n",
      " [ 3214  2438  9698    31  6938]]\n",
      "\n",
      " Expected table :\n",
      "\n",
      "[[1.65926202e+04 8.20333522e+03 3.80598362e+04 8.22009464e+01\n",
      "  2.52700074e+04]\n",
      " [4.19837984e+03 2.07566478e+03 9.63016376e+03 2.07990536e+01\n",
      "  6.39399256e+03]]\n",
      "The p value returned = 1.750111429867729e-92 and degrees of freedom returned = 4\n",
      "significance(alpha) = 0.050\n",
      "Dependent (reject H0)\n"
     ]
    }
   ],
   "source": [
    "for col in ['Scheduled_month', 'Scheduled_weekday', 'Appointment_month', 'Appointment_weekday', 'Scheduled_session_of_day']:\n",
    "    find_chi2_independence(col, 'No-show', df)"
   ]
  },
  {
   "cell_type": "markdown",
   "metadata": {},
   "source": [
    "__Observation:__ We see most of the newly engineered features show some relation w.r.t to target"
   ]
  },
  {
   "cell_type": "markdown",
   "metadata": {
    "colab": {},
    "colab_type": "code",
    "id": "WsOAKvSaCmzk"
   },
   "source": [
    "### Probabilistic Analysis of newly created features\n",
    "\n",
    "##### Scheduled Month and Appointment Month"
   ]
  },
  {
   "cell_type": "code",
   "execution_count": 143,
   "metadata": {
    "colab": {},
    "colab_type": "code",
    "id": "WsOAKvSaCmzk"
   },
   "outputs": [
    {
     "data": {
      "image/png": "[encoded data removed]",
      "text/plain": [
       "<Figure size 720x720 with 1 Axes>"
      ]
     },
     "metadata": {
      "needs_background": "light"
     },
     "output_type": "display_data"
    }
   ],
   "source": [
    "plt.figure(figsize=(10,10))\n",
    "sns.barplot(data = probStatusCategorical(['Scheduled_month', 'Appointment_month']),\n",
    "            x = 'Condition', y = 'Probability', hue = 'Level', palette = 'Set2')\n",
    "plt.title('Probability of not showing up')\n",
    "plt.ylabel('Probability')\n",
    "plt.show()"
   ]
  },
  {
   "cell_type": "markdown",
   "metadata": {},
   "source": [
    "__Observation__: Suprised to see that appointments are allowed/booked for only three months"
   ]
  },
  {
   "cell_type": "markdown",
   "metadata": {},
   "source": [
    "##### Scheduled Weekday and Appointment Weekday"
   ]
  },
  {
   "cell_type": "code",
   "execution_count": 144,
   "metadata": {
    "colab": {},
    "colab_type": "code",
    "id": "Eh7JH-i9YWuB",
    "scrolled": true
   },
   "outputs": [
    {
     "data": {
      "image/png": "[encoded data removed]",
      "text/plain": [
       "<Figure size 720x720 with 1 Axes>"
      ]
     },
     "metadata": {
      "needs_background": "light"
     },
     "output_type": "display_data"
    }
   ],
   "source": [
    "plt.figure(figsize=(10,10))\n",
    "sns.barplot(data = probStatusCategorical(['Scheduled_weekday', 'Appointment_weekday']),\n",
    "            x = 'Condition', y = 'Probability', hue = 'Level', palette = 'Set2')\n",
    "plt.title('Probability of not showing up')\n",
    "plt.ylabel('Probability')\n",
    "plt.show()"
   ]
  },
  {
   "cell_type": "markdown",
   "metadata": {
    "colab": {},
    "colab_type": "code",
    "id": "LAJ3DxjVWFGq"
   },
   "source": [
    "__Observation__: Weekday seems to have similar/equal pattern on no show ups. \n",
    "\n",
    "Some interesting insights are\n",
    "- Significantly less people called/scheduled for an appointment on Saturday. \n",
    "- More people tend to not show up on Saturday"
   ]
  },
  {
   "cell_type": "markdown",
   "metadata": {
    "colab_type": "text",
    "id": "bwqlMd6Xd5sc"
   },
   "source": [
    "## Checking  target feature distribution"
   ]
  },
  {
   "cell_type": "code",
   "execution_count": 145,
   "metadata": {
    "colab": {
     "base_uri": "https://localhost:8080/",
     "height": 279
    },
    "colab_type": "code",
    "id": "zzMKi_Upd5sc",
    "outputId": "a5f55472-5e09-4994-bf20-d2306bd38dc8"
   },
   "outputs": [
    {
     "data": {
      "image/png": "[encoded data removed]",
      "text/plain": [
       "<Figure size 432x288 with 1 Axes>"
      ]
     },
     "metadata": {
      "needs_background": "light"
     },
     "output_type": "display_data"
    }
   ],
   "source": [
    "barplot(\"No-show\",df)"
   ]
  },
  {
   "cell_type": "code",
   "execution_count": 146,
   "metadata": {
    "colab": {
     "base_uri": "https://localhost:8080/",
     "height": 84
    },
    "colab_type": "code",
    "id": "EfLDFq-Ud5sg",
    "outputId": "15f53008-c720-46e1-c96a-ab13271f77b6"
   },
   "outputs": [
    {
     "name": "stdout",
     "output_type": "stream",
     "text": [
      "The count distribution target classes is as below:\n"
     ]
    },
    {
     "data": {
      "text/plain": [
       "No     88208\n",
       "Yes    22319\n",
       "Name: No-show, dtype: int64"
      ]
     },
     "execution_count": 146,
     "metadata": {},
     "output_type": "execute_result"
    }
   ],
   "source": [
    "print(\"The count distribution target classes is as below:\")\n",
    "\n",
    "df['No-show'].value_counts()"
   ]
  },
  {
   "cell_type": "code",
   "execution_count": 147,
   "metadata": {
    "colab": {
     "base_uri": "https://localhost:8080/",
     "height": 84
    },
    "colab_type": "code",
    "id": "iriVBDOdd5sm",
    "outputId": "6e019257-8365-4dbc-bd95-9e71442f8356"
   },
   "outputs": [
    {
     "name": "stdout",
     "output_type": "stream",
     "text": [
      "The percentage distribution target classes is as below:\n"
     ]
    },
    {
     "data": {
      "text/plain": [
       "No     0.798067\n",
       "Yes    0.201933\n",
       "Name: No-show, dtype: float64"
      ]
     },
     "execution_count": 147,
     "metadata": {},
     "output_type": "execute_result"
    }
   ],
   "source": [
    "print(\"The percentage distribution target classes is as below:\")\n",
    "\n",
    "df['No-show'].value_counts('Yes')"
   ]
  },
  {
   "cell_type": "markdown",
   "metadata": {
    "colab_type": "text",
    "id": "qfZqh2TVKMlR"
   },
   "source": [
    "### Replacing Yes/No in the target column with 1/0"
   ]
  },
  {
   "cell_type": "code",
   "execution_count": 148,
   "metadata": {
    "colab": {
     "base_uri": "https://localhost:8080/",
     "height": 67
    },
    "colab_type": "code",
    "id": "yVeCsPgqJwCI",
    "outputId": "e53993ba-dfab-4732-fedc-ef8e3d3c83f1"
   },
   "outputs": [
    {
     "data": {
      "text/plain": [
       "No     88208\n",
       "Yes    22319\n",
       "Name: No-show, dtype: int64"
      ]
     },
     "execution_count": 148,
     "metadata": {},
     "output_type": "execute_result"
    }
   ],
   "source": [
    "df['No-show'].value_counts()"
   ]
  },
  {
   "cell_type": "code",
   "execution_count": 149,
   "metadata": {
    "colab": {
     "base_uri": "https://localhost:8080/",
     "height": 67
    },
    "colab_type": "code",
    "id": "41tjLHDUJm5n",
    "outputId": "753d84f0-ad77-4f1e-9d7c-267c3c61138c"
   },
   "outputs": [
    {
     "data": {
      "text/plain": [
       "0    88208\n",
       "1    22319\n",
       "Name: No-show, dtype: int64"
      ]
     },
     "execution_count": 149,
     "metadata": {},
     "output_type": "execute_result"
    }
   ],
   "source": [
    "df['No-show'] = df['No-show'].replace(to_replace=['No', 'Yes'], value=[0, 1])\n",
    "df['No-show'].value_counts()"
   ]
  },
  {
   "cell_type": "markdown",
   "metadata": {
    "colab_type": "text",
    "id": "X0o4R4QSYxvB"
   },
   "source": [
    "# Split the data into train and test"
   ]
  },
  {
   "cell_type": "code",
   "execution_count": 150,
   "metadata": {
    "colab": {},
    "colab_type": "code",
    "id": "nu40qDCMYhJz"
   },
   "outputs": [],
   "source": [
    "y=df[\"No-show\"]\n",
    "X=df.drop('No-show', axis=1)\n",
    "X_train, X_val, y_train, y_val = train_test_split(X, y, test_size=0.20,random_state=123, stratify=y)"
   ]
  },
  {
   "cell_type": "code",
   "execution_count": 151,
   "metadata": {
    "colab": {
     "base_uri": "https://localhost:8080/",
     "height": 84
    },
    "colab_type": "code",
    "id": "rNkF067nZC_K",
    "outputId": "f83f2d44-0580-4190-eb7e-31384307435e"
   },
   "outputs": [
    {
     "name": "stdout",
     "output_type": "stream",
     "text": [
      "(88421, 12)\n",
      "(22106, 12)\n",
      "(88421,)\n",
      "(22106,)\n"
     ]
    }
   ],
   "source": [
    "print(X_train.shape)\n",
    "print(X_val.shape)\n",
    "print(y_train.shape)\n",
    "print(y_val.shape)"
   ]
  },
  {
   "cell_type": "markdown",
   "metadata": {
    "colab_type": "text",
    "id": "mhXLf6cyZJ9t"
   },
   "source": [
    "## Split the attributes into numerical and categorical types"
   ]
  },
  {
   "cell_type": "code",
   "execution_count": 152,
   "metadata": {
    "colab": {
     "base_uri": "https://localhost:8080/",
     "height": 34
    },
    "colab_type": "code",
    "id": "lyFFCBJ-ZMtL",
    "outputId": "faaff1f8-3369-4cfb-839e-7154666213f6"
   },
   "outputs": [
    {
     "data": {
      "text/plain": [
       "Index(['num_of_days'], dtype='object')"
      ]
     },
     "execution_count": 152,
     "metadata": {},
     "output_type": "execute_result"
    }
   ],
   "source": [
    "num_attr=X_train.select_dtypes(['int64']).columns\n",
    "num_attr"
   ]
  },
  {
   "cell_type": "code",
   "execution_count": 153,
   "metadata": {
    "colab": {
     "base_uri": "https://localhost:8080/",
     "height": 84
    },
    "colab_type": "code",
    "id": "v77MaP0MZMw1",
    "outputId": "df106421-0e5a-4b31-f4ad-5f6562113816"
   },
   "outputs": [
    {
     "data": {
      "text/plain": [
       "Index(['Scholarship', 'Hypertension', 'Diabetes', 'Handicapped',\n",
       "       'SMS_received', 'Age_binned', 'Scheduled_month', 'Scheduled_weekday',\n",
       "       'Appointment_month', 'Appointment_weekday', 'Scheduled_session_of_day'],\n",
       "      dtype='object')"
      ]
     },
     "execution_count": 153,
     "metadata": {},
     "output_type": "execute_result"
    }
   ],
   "source": [
    "cat_attr = X_train.select_dtypes('category').columns\n",
    "cat_attr"
   ]
  },
  {
   "cell_type": "markdown",
   "metadata": {
    "colab_type": "text",
    "id": "78FZr8TCEtJP"
   },
   "source": [
    "# Preparation for Model buillding\n",
    "\n",
    "## Imputing missing values with median for numerical attributes"
   ]
  },
  {
   "cell_type": "code",
   "execution_count": 154,
   "metadata": {
    "colab": {},
    "colab_type": "code",
    "id": "MElasrMwaRX-"
   },
   "outputs": [],
   "source": [
    "imputer = SimpleImputer(strategy='median')\n",
    "\n",
    "imputer = imputer.fit(X_train[num_attr])\n",
    "\n",
    "X_train[num_attr] = imputer.transform(X_train[num_attr])\n",
    "X_val[num_attr] = imputer.transform(X_val[num_attr])"
   ]
  },
  {
   "cell_type": "code",
   "execution_count": 155,
   "metadata": {
    "colab": {
     "base_uri": "https://localhost:8080/",
     "height": 454
    },
    "colab_type": "code",
    "id": "FQVc5HtDFSsz",
    "outputId": "261ca58f-e6b6-4be3-b4db-c68ddde53a25"
   },
   "outputs": [
    {
     "name": "stdout",
     "output_type": "stream",
     "text": [
      "Scholarship                 0\n",
      "Hypertension                0\n",
      "Diabetes                    0\n",
      "Handicapped                 0\n",
      "SMS_received                0\n",
      "Age_binned                  0\n",
      "Scheduled_month             0\n",
      "Scheduled_weekday           0\n",
      "Appointment_month           0\n",
      "Appointment_weekday         0\n",
      "num_of_days                 0\n",
      "Scheduled_session_of_day    0\n",
      "dtype: int64\n",
      "Scholarship                 0\n",
      "Hypertension                0\n",
      "Diabetes                    0\n",
      "Handicapped                 0\n",
      "SMS_received                0\n",
      "Age_binned                  0\n",
      "Scheduled_month             0\n",
      "Scheduled_weekday           0\n",
      "Appointment_month           0\n",
      "Appointment_weekday         0\n",
      "num_of_days                 0\n",
      "Scheduled_session_of_day    0\n",
      "dtype: int64\n"
     ]
    }
   ],
   "source": [
    "print(X_train.isnull().sum())\n",
    "print(X_val.isnull().sum())"
   ]
  },
  {
   "cell_type": "markdown",
   "metadata": {},
   "source": [
    "## Imputing missing values with mode for categorical attributes"
   ]
  },
  {
   "cell_type": "code",
   "execution_count": 156,
   "metadata": {
    "colab": {},
    "colab_type": "code",
    "id": "M8qkcZOodt4S"
   },
   "outputs": [],
   "source": [
    "imputer = SimpleImputer(strategy='most_frequent')\n",
    "\n",
    "imputer = imputer.fit(X_train[cat_attr])\n",
    "\n",
    "X_train[cat_attr] = imputer.transform(X_train[cat_attr])\n",
    "X_val[cat_attr] = imputer.transform(X_val[cat_attr])"
   ]
  },
  {
   "cell_type": "markdown",
   "metadata": {
    "colab_type": "text",
    "id": "HC6ewXEwFoqn"
   },
   "source": [
    "### Standardizing the numerical attributes and One-hot encoding categorical attributes "
   ]
  },
  {
   "cell_type": "code",
   "execution_count": 157,
   "metadata": {},
   "outputs": [],
   "source": [
    "# DataFrameMapper, a class for mapping pandas data frame columns to different sklearn transformations\n",
    "mapper = DataFrameMapper(\n",
    "  [([continuous_col], StandardScaler()) for continuous_col in num_attr] +\n",
    "  [([categorical_col], OneHotEncoder(handle_unknown='error')) for categorical_col in cat_attr]\n",
    ", df_out=True)"
   ]
  },
  {
   "cell_type": "code",
   "execution_count": 158,
   "metadata": {},
   "outputs": [
    {
     "name": "stdout",
     "output_type": "stream",
     "text": [
      "<class 'sklearn_pandas.dataframe_mapper.DataFrameMapper'>\n"
     ]
    }
   ],
   "source": [
    "print(type(mapper))"
   ]
  },
  {
   "cell_type": "code",
   "execution_count": 187,
   "metadata": {},
   "outputs": [],
   "source": [
    "#mapper.fit(X_train)\n",
    "\n",
    "X_train_final = mapper.transform(X_train)\n",
    "X_val_final = mapper.transform(X_val)"
   ]
  },
  {
   "cell_type": "code",
   "execution_count": 163,
   "metadata": {},
   "outputs": [
    {
     "data": {
      "text/plain": [
       "Index(['num_of_days', 'Scholarship_x0_0', 'Scholarship_x0_1',\n",
       "       'Hypertension_x0_0', 'Hypertension_x0_1', 'Diabetes_x0_0',\n",
       "       'Diabetes_x0_1', 'Handicapped_x0_0', 'Handicapped_x0_1',\n",
       "       'SMS_received_x0_0', 'SMS_received_x0_1', 'Age_binned_x0_0',\n",
       "       'Age_binned_x0_20', 'Age_binned_x0_40', 'Age_binned_x0_60',\n",
       "       'Age_binned_x0_80', 'Age_binned_x0_100', 'Scheduled_month_x0_1',\n",
       "       'Scheduled_month_x0_2', 'Scheduled_month_x0_3', 'Scheduled_month_x0_4',\n",
       "       'Scheduled_month_x0_5', 'Scheduled_month_x0_6', 'Scheduled_month_x0_11',\n",
       "       'Scheduled_month_x0_12', 'Scheduled_weekday_x0_0',\n",
       "       'Scheduled_weekday_x0_1', 'Scheduled_weekday_x0_2',\n",
       "       'Scheduled_weekday_x0_3', 'Scheduled_weekday_x0_4',\n",
       "       'Scheduled_weekday_x0_5', 'Appointment_month_x0_4',\n",
       "       'Appointment_month_x0_5', 'Appointment_month_x0_6',\n",
       "       'Appointment_weekday_x0_0', 'Appointment_weekday_x0_1',\n",
       "       'Appointment_weekday_x0_2', 'Appointment_weekday_x0_3',\n",
       "       'Appointment_weekday_x0_4', 'Appointment_weekday_x0_5',\n",
       "       'Scheduled_session_of_day_x0_EarlyMorning',\n",
       "       'Scheduled_session_of_day_x0_Eve',\n",
       "       'Scheduled_session_of_day_x0_Morning',\n",
       "       'Scheduled_session_of_day_x0_Night',\n",
       "       'Scheduled_session_of_day_x0_Noon'],\n",
       "      dtype='object')"
      ]
     },
     "execution_count": 163,
     "metadata": {},
     "output_type": "execute_result"
    }
   ],
   "source": [
    "X_train_final.columns"
   ]
  },
  {
   "cell_type": "code",
   "execution_count": 164,
   "metadata": {},
   "outputs": [
    {
     "data": {
      "text/html": [
       "<div>\n",
       "<style scoped>\n",
       "    .dataframe tbody tr th:only-of-type {\n",
       "        vertical-align: middle;\n",
       "    }\n",
       "\n",
       "    .dataframe tbody tr th {\n",
       "        vertical-align: top;\n",
       "    }\n",
       "\n",
       "    .dataframe thead th {\n",
       "        text-align: right;\n",
       "    }\n",
       "</style>\n",
       "<table border=\"1\" class=\"dataframe\">\n",
       "  <thead>\n",
       "    <tr style=\"text-align: right;\">\n",
       "      <th></th>\n",
       "      <th>num_of_days</th>\n",
       "      <th>Scholarship_x0_0</th>\n",
       "      <th>Scholarship_x0_1</th>\n",
       "      <th>Hypertension_x0_0</th>\n",
       "      <th>Hypertension_x0_1</th>\n",
       "      <th>Diabetes_x0_0</th>\n",
       "      <th>Diabetes_x0_1</th>\n",
       "      <th>Handicapped_x0_0</th>\n",
       "      <th>Handicapped_x0_1</th>\n",
       "      <th>SMS_received_x0_0</th>\n",
       "      <th>...</th>\n",
       "      <th>Appointment_weekday_x0_1</th>\n",
       "      <th>Appointment_weekday_x0_2</th>\n",
       "      <th>Appointment_weekday_x0_3</th>\n",
       "      <th>Appointment_weekday_x0_4</th>\n",
       "      <th>Appointment_weekday_x0_5</th>\n",
       "      <th>Scheduled_session_of_day_x0_EarlyMorning</th>\n",
       "      <th>Scheduled_session_of_day_x0_Eve</th>\n",
       "      <th>Scheduled_session_of_day_x0_Morning</th>\n",
       "      <th>Scheduled_session_of_day_x0_Night</th>\n",
       "      <th>Scheduled_session_of_day_x0_Noon</th>\n",
       "    </tr>\n",
       "  </thead>\n",
       "  <tbody>\n",
       "    <tr>\n",
       "      <th>29694</th>\n",
       "      <td>-0.207606</td>\n",
       "      <td>1.0</td>\n",
       "      <td>0.0</td>\n",
       "      <td>1.0</td>\n",
       "      <td>0.0</td>\n",
       "      <td>1.0</td>\n",
       "      <td>0.0</td>\n",
       "      <td>1.0</td>\n",
       "      <td>0.0</td>\n",
       "      <td>1.0</td>\n",
       "      <td>...</td>\n",
       "      <td>0.0</td>\n",
       "      <td>0.0</td>\n",
       "      <td>0.0</td>\n",
       "      <td>0.0</td>\n",
       "      <td>0.0</td>\n",
       "      <td>0.0</td>\n",
       "      <td>1.0</td>\n",
       "      <td>0.0</td>\n",
       "      <td>0.0</td>\n",
       "      <td>0.0</td>\n",
       "    </tr>\n",
       "    <tr>\n",
       "      <th>43957</th>\n",
       "      <td>-0.142118</td>\n",
       "      <td>1.0</td>\n",
       "      <td>0.0</td>\n",
       "      <td>1.0</td>\n",
       "      <td>0.0</td>\n",
       "      <td>1.0</td>\n",
       "      <td>0.0</td>\n",
       "      <td>1.0</td>\n",
       "      <td>0.0</td>\n",
       "      <td>0.0</td>\n",
       "      <td>...</td>\n",
       "      <td>0.0</td>\n",
       "      <td>0.0</td>\n",
       "      <td>0.0</td>\n",
       "      <td>1.0</td>\n",
       "      <td>0.0</td>\n",
       "      <td>1.0</td>\n",
       "      <td>0.0</td>\n",
       "      <td>0.0</td>\n",
       "      <td>0.0</td>\n",
       "      <td>0.0</td>\n",
       "    </tr>\n",
       "    <tr>\n",
       "      <th>83223</th>\n",
       "      <td>-0.207606</td>\n",
       "      <td>1.0</td>\n",
       "      <td>0.0</td>\n",
       "      <td>1.0</td>\n",
       "      <td>0.0</td>\n",
       "      <td>1.0</td>\n",
       "      <td>0.0</td>\n",
       "      <td>1.0</td>\n",
       "      <td>0.0</td>\n",
       "      <td>0.0</td>\n",
       "      <td>...</td>\n",
       "      <td>1.0</td>\n",
       "      <td>0.0</td>\n",
       "      <td>0.0</td>\n",
       "      <td>0.0</td>\n",
       "      <td>0.0</td>\n",
       "      <td>1.0</td>\n",
       "      <td>0.0</td>\n",
       "      <td>0.0</td>\n",
       "      <td>0.0</td>\n",
       "      <td>0.0</td>\n",
       "    </tr>\n",
       "    <tr>\n",
       "      <th>66767</th>\n",
       "      <td>-0.666023</td>\n",
       "      <td>1.0</td>\n",
       "      <td>0.0</td>\n",
       "      <td>1.0</td>\n",
       "      <td>0.0</td>\n",
       "      <td>1.0</td>\n",
       "      <td>0.0</td>\n",
       "      <td>1.0</td>\n",
       "      <td>0.0</td>\n",
       "      <td>1.0</td>\n",
       "      <td>...</td>\n",
       "      <td>0.0</td>\n",
       "      <td>0.0</td>\n",
       "      <td>1.0</td>\n",
       "      <td>0.0</td>\n",
       "      <td>0.0</td>\n",
       "      <td>0.0</td>\n",
       "      <td>1.0</td>\n",
       "      <td>0.0</td>\n",
       "      <td>0.0</td>\n",
       "      <td>0.0</td>\n",
       "    </tr>\n",
       "    <tr>\n",
       "      <th>32398</th>\n",
       "      <td>0.447275</td>\n",
       "      <td>1.0</td>\n",
       "      <td>0.0</td>\n",
       "      <td>0.0</td>\n",
       "      <td>1.0</td>\n",
       "      <td>0.0</td>\n",
       "      <td>1.0</td>\n",
       "      <td>1.0</td>\n",
       "      <td>0.0</td>\n",
       "      <td>1.0</td>\n",
       "      <td>...</td>\n",
       "      <td>0.0</td>\n",
       "      <td>0.0</td>\n",
       "      <td>1.0</td>\n",
       "      <td>0.0</td>\n",
       "      <td>0.0</td>\n",
       "      <td>0.0</td>\n",
       "      <td>0.0</td>\n",
       "      <td>1.0</td>\n",
       "      <td>0.0</td>\n",
       "      <td>0.0</td>\n",
       "    </tr>\n",
       "  </tbody>\n",
       "</table>\n",
       "<p>5 rows × 45 columns</p>\n",
       "</div>"
      ],
      "text/plain": [
       "       num_of_days  Scholarship_x0_0  Scholarship_x0_1  Hypertension_x0_0  \\\n",
       "29694    -0.207606               1.0               0.0                1.0   \n",
       "43957    -0.142118               1.0               0.0                1.0   \n",
       "83223    -0.207606               1.0               0.0                1.0   \n",
       "66767    -0.666023               1.0               0.0                1.0   \n",
       "32398     0.447275               1.0               0.0                0.0   \n",
       "\n",
       "       Hypertension_x0_1  Diabetes_x0_0  Diabetes_x0_1  Handicapped_x0_0  \\\n",
       "29694                0.0            1.0            0.0               1.0   \n",
       "43957                0.0            1.0            0.0               1.0   \n",
       "83223                0.0            1.0            0.0               1.0   \n",
       "66767                0.0            1.0            0.0               1.0   \n",
       "32398                1.0            0.0            1.0               1.0   \n",
       "\n",
       "       Handicapped_x0_1  SMS_received_x0_0  ...  Appointment_weekday_x0_1  \\\n",
       "29694               0.0                1.0  ...                       0.0   \n",
       "43957               0.0                0.0  ...                       0.0   \n",
       "83223               0.0                0.0  ...                       1.0   \n",
       "66767               0.0                1.0  ...                       0.0   \n",
       "32398               0.0                1.0  ...                       0.0   \n",
       "\n",
       "       Appointment_weekday_x0_2  Appointment_weekday_x0_3  \\\n",
       "29694                       0.0                       0.0   \n",
       "43957                       0.0                       0.0   \n",
       "83223                       0.0                       0.0   \n",
       "66767                       0.0                       1.0   \n",
       "32398                       0.0                       1.0   \n",
       "\n",
       "       Appointment_weekday_x0_4  Appointment_weekday_x0_5  \\\n",
       "29694                       0.0                       0.0   \n",
       "43957                       1.0                       0.0   \n",
       "83223                       0.0                       0.0   \n",
       "66767                       0.0                       0.0   \n",
       "32398                       0.0                       0.0   \n",
       "\n",
       "       Scheduled_session_of_day_x0_EarlyMorning  \\\n",
       "29694                                       0.0   \n",
       "43957                                       1.0   \n",
       "83223                                       1.0   \n",
       "66767                                       0.0   \n",
       "32398                                       0.0   \n",
       "\n",
       "       Scheduled_session_of_day_x0_Eve  Scheduled_session_of_day_x0_Morning  \\\n",
       "29694                              1.0                                  0.0   \n",
       "43957                              0.0                                  0.0   \n",
       "83223                              0.0                                  0.0   \n",
       "66767                              1.0                                  0.0   \n",
       "32398                              0.0                                  1.0   \n",
       "\n",
       "       Scheduled_session_of_day_x0_Night  Scheduled_session_of_day_x0_Noon  \n",
       "29694                                0.0                               0.0  \n",
       "43957                                0.0                               0.0  \n",
       "83223                                0.0                               0.0  \n",
       "66767                                0.0                               0.0  \n",
       "32398                                0.0                               0.0  \n",
       "\n",
       "[5 rows x 45 columns]"
      ]
     },
     "execution_count": 164,
     "metadata": {},
     "output_type": "execute_result"
    }
   ],
   "source": [
    "X_train_final.head()"
   ]
  },
  {
   "cell_type": "code",
   "execution_count": 165,
   "metadata": {},
   "outputs": [
    {
     "data": {
      "text/html": [
       "<div>\n",
       "<style scoped>\n",
       "    .dataframe tbody tr th:only-of-type {\n",
       "        vertical-align: middle;\n",
       "    }\n",
       "\n",
       "    .dataframe tbody tr th {\n",
       "        vertical-align: top;\n",
       "    }\n",
       "\n",
       "    .dataframe thead th {\n",
       "        text-align: right;\n",
       "    }\n",
       "</style>\n",
       "<table border=\"1\" class=\"dataframe\">\n",
       "  <thead>\n",
       "    <tr style=\"text-align: right;\">\n",
       "      <th></th>\n",
       "      <th>num_of_days</th>\n",
       "      <th>Scholarship_x0_0</th>\n",
       "      <th>Scholarship_x0_1</th>\n",
       "      <th>Hypertension_x0_0</th>\n",
       "      <th>Hypertension_x0_1</th>\n",
       "      <th>Diabetes_x0_0</th>\n",
       "      <th>Diabetes_x0_1</th>\n",
       "      <th>Handicapped_x0_0</th>\n",
       "      <th>Handicapped_x0_1</th>\n",
       "      <th>SMS_received_x0_0</th>\n",
       "      <th>...</th>\n",
       "      <th>Appointment_weekday_x0_1</th>\n",
       "      <th>Appointment_weekday_x0_2</th>\n",
       "      <th>Appointment_weekday_x0_3</th>\n",
       "      <th>Appointment_weekday_x0_4</th>\n",
       "      <th>Appointment_weekday_x0_5</th>\n",
       "      <th>Scheduled_session_of_day_x0_EarlyMorning</th>\n",
       "      <th>Scheduled_session_of_day_x0_Eve</th>\n",
       "      <th>Scheduled_session_of_day_x0_Morning</th>\n",
       "      <th>Scheduled_session_of_day_x0_Night</th>\n",
       "      <th>Scheduled_session_of_day_x0_Noon</th>\n",
       "    </tr>\n",
       "  </thead>\n",
       "  <tbody>\n",
       "    <tr>\n",
       "      <th>98633</th>\n",
       "      <td>0.840204</td>\n",
       "      <td>1.0</td>\n",
       "      <td>0.0</td>\n",
       "      <td>1.0</td>\n",
       "      <td>0.0</td>\n",
       "      <td>1.0</td>\n",
       "      <td>0.0</td>\n",
       "      <td>1.0</td>\n",
       "      <td>0.0</td>\n",
       "      <td>0.0</td>\n",
       "      <td>...</td>\n",
       "      <td>0.0</td>\n",
       "      <td>1.0</td>\n",
       "      <td>0.0</td>\n",
       "      <td>0.0</td>\n",
       "      <td>0.0</td>\n",
       "      <td>0.0</td>\n",
       "      <td>0.0</td>\n",
       "      <td>1.0</td>\n",
       "      <td>0.0</td>\n",
       "      <td>0.0</td>\n",
       "    </tr>\n",
       "    <tr>\n",
       "      <th>56036</th>\n",
       "      <td>-0.404070</td>\n",
       "      <td>1.0</td>\n",
       "      <td>0.0</td>\n",
       "      <td>1.0</td>\n",
       "      <td>0.0</td>\n",
       "      <td>1.0</td>\n",
       "      <td>0.0</td>\n",
       "      <td>1.0</td>\n",
       "      <td>0.0</td>\n",
       "      <td>0.0</td>\n",
       "      <td>...</td>\n",
       "      <td>1.0</td>\n",
       "      <td>0.0</td>\n",
       "      <td>0.0</td>\n",
       "      <td>0.0</td>\n",
       "      <td>0.0</td>\n",
       "      <td>0.0</td>\n",
       "      <td>0.0</td>\n",
       "      <td>1.0</td>\n",
       "      <td>0.0</td>\n",
       "      <td>0.0</td>\n",
       "    </tr>\n",
       "    <tr>\n",
       "      <th>267</th>\n",
       "      <td>-0.666023</td>\n",
       "      <td>1.0</td>\n",
       "      <td>0.0</td>\n",
       "      <td>1.0</td>\n",
       "      <td>0.0</td>\n",
       "      <td>1.0</td>\n",
       "      <td>0.0</td>\n",
       "      <td>1.0</td>\n",
       "      <td>0.0</td>\n",
       "      <td>1.0</td>\n",
       "      <td>...</td>\n",
       "      <td>0.0</td>\n",
       "      <td>0.0</td>\n",
       "      <td>0.0</td>\n",
       "      <td>1.0</td>\n",
       "      <td>0.0</td>\n",
       "      <td>0.0</td>\n",
       "      <td>0.0</td>\n",
       "      <td>1.0</td>\n",
       "      <td>0.0</td>\n",
       "      <td>0.0</td>\n",
       "    </tr>\n",
       "    <tr>\n",
       "      <th>82513</th>\n",
       "      <td>0.709228</td>\n",
       "      <td>1.0</td>\n",
       "      <td>0.0</td>\n",
       "      <td>1.0</td>\n",
       "      <td>0.0</td>\n",
       "      <td>1.0</td>\n",
       "      <td>0.0</td>\n",
       "      <td>1.0</td>\n",
       "      <td>0.0</td>\n",
       "      <td>0.0</td>\n",
       "      <td>...</td>\n",
       "      <td>0.0</td>\n",
       "      <td>1.0</td>\n",
       "      <td>0.0</td>\n",
       "      <td>0.0</td>\n",
       "      <td>0.0</td>\n",
       "      <td>0.0</td>\n",
       "      <td>0.0</td>\n",
       "      <td>1.0</td>\n",
       "      <td>0.0</td>\n",
       "      <td>0.0</td>\n",
       "    </tr>\n",
       "    <tr>\n",
       "      <th>20923</th>\n",
       "      <td>-0.600534</td>\n",
       "      <td>1.0</td>\n",
       "      <td>0.0</td>\n",
       "      <td>1.0</td>\n",
       "      <td>0.0</td>\n",
       "      <td>1.0</td>\n",
       "      <td>0.0</td>\n",
       "      <td>1.0</td>\n",
       "      <td>0.0</td>\n",
       "      <td>1.0</td>\n",
       "      <td>...</td>\n",
       "      <td>1.0</td>\n",
       "      <td>0.0</td>\n",
       "      <td>0.0</td>\n",
       "      <td>0.0</td>\n",
       "      <td>0.0</td>\n",
       "      <td>1.0</td>\n",
       "      <td>0.0</td>\n",
       "      <td>0.0</td>\n",
       "      <td>0.0</td>\n",
       "      <td>0.0</td>\n",
       "    </tr>\n",
       "  </tbody>\n",
       "</table>\n",
       "<p>5 rows × 45 columns</p>\n",
       "</div>"
      ],
      "text/plain": [
       "       num_of_days  Scholarship_x0_0  Scholarship_x0_1  Hypertension_x0_0  \\\n",
       "98633     0.840204               1.0               0.0                1.0   \n",
       "56036    -0.404070               1.0               0.0                1.0   \n",
       "267      -0.666023               1.0               0.0                1.0   \n",
       "82513     0.709228               1.0               0.0                1.0   \n",
       "20923    -0.600534               1.0               0.0                1.0   \n",
       "\n",
       "       Hypertension_x0_1  Diabetes_x0_0  Diabetes_x0_1  Handicapped_x0_0  \\\n",
       "98633                0.0            1.0            0.0               1.0   \n",
       "56036                0.0            1.0            0.0               1.0   \n",
       "267                  0.0            1.0            0.0               1.0   \n",
       "82513                0.0            1.0            0.0               1.0   \n",
       "20923                0.0            1.0            0.0               1.0   \n",
       "\n",
       "       Handicapped_x0_1  SMS_received_x0_0  ...  Appointment_weekday_x0_1  \\\n",
       "98633               0.0                0.0  ...                       0.0   \n",
       "56036               0.0                0.0  ...                       1.0   \n",
       "267                 0.0                1.0  ...                       0.0   \n",
       "82513               0.0                0.0  ...                       0.0   \n",
       "20923               0.0                1.0  ...                       1.0   \n",
       "\n",
       "       Appointment_weekday_x0_2  Appointment_weekday_x0_3  \\\n",
       "98633                       1.0                       0.0   \n",
       "56036                       0.0                       0.0   \n",
       "267                         0.0                       0.0   \n",
       "82513                       1.0                       0.0   \n",
       "20923                       0.0                       0.0   \n",
       "\n",
       "       Appointment_weekday_x0_4  Appointment_weekday_x0_5  \\\n",
       "98633                       0.0                       0.0   \n",
       "56036                       0.0                       0.0   \n",
       "267                         1.0                       0.0   \n",
       "82513                       0.0                       0.0   \n",
       "20923                       0.0                       0.0   \n",
       "\n",
       "       Scheduled_session_of_day_x0_EarlyMorning  \\\n",
       "98633                                       0.0   \n",
       "56036                                       0.0   \n",
       "267                                         0.0   \n",
       "82513                                       0.0   \n",
       "20923                                       1.0   \n",
       "\n",
       "       Scheduled_session_of_day_x0_Eve  Scheduled_session_of_day_x0_Morning  \\\n",
       "98633                              0.0                                  1.0   \n",
       "56036                              0.0                                  1.0   \n",
       "267                                0.0                                  1.0   \n",
       "82513                              0.0                                  1.0   \n",
       "20923                              0.0                                  0.0   \n",
       "\n",
       "       Scheduled_session_of_day_x0_Night  Scheduled_session_of_day_x0_Noon  \n",
       "98633                                0.0                               0.0  \n",
       "56036                                0.0                               0.0  \n",
       "267                                  0.0                               0.0  \n",
       "82513                                0.0                               0.0  \n",
       "20923                                0.0                               0.0  \n",
       "\n",
       "[5 rows x 45 columns]"
      ]
     },
     "execution_count": 165,
     "metadata": {},
     "output_type": "execute_result"
    }
   ],
   "source": [
    "X_val_final.head()"
   ]
  },
  {
   "cell_type": "markdown",
   "metadata": {
    "colab_type": "text",
    "id": "LaCrCouj867P"
   },
   "source": [
    "### Defining Error Metrics"
   ]
  },
  {
   "cell_type": "code",
   "execution_count": 166,
   "metadata": {},
   "outputs": [],
   "source": [
    "def get_CR_CM(train_actual,train_predicted,test_actual,test_predicted):\n",
    "    print('''\n",
    "         ========================================\n",
    "           CLASSIFICATION REPORT FOR TRAIN DATA\n",
    "         ========================================\n",
    "        ''')\n",
    "    print(classification_report(train_actual, train_predicted, digits=4))\n",
    "\n",
    "    print('''\n",
    "             =============================================\n",
    "               CLASSIFICATION REPORT FOR VALIDATION DATA\n",
    "             =============================================\n",
    "            ''')\n",
    "    print(classification_report(test_actual, test_predicted, digits=4))\n",
    "\n",
    "    print('''\n",
    "             ========================================\n",
    "               Confusion Matrix FOR TRAIN DATA\n",
    "             ========================================\n",
    "            ''')\n",
    "    print(confusion_matrix(train_actual, train_predicted))\n",
    "\n",
    "    print('''\n",
    "             =============================================\n",
    "               Confusion matrix FOR VALIDATION DATA\n",
    "             =============================================\n",
    "            ''')\n",
    "    print(confusion_matrix(test_actual, test_predicted))\n",
    "    "
   ]
  },
  {
   "cell_type": "code",
   "execution_count": 167,
   "metadata": {
    "ExecuteTime": {
     "end_time": "2020-03-06T10:32:34.925827Z",
     "start_time": "2020-03-06T10:32:34.910844Z"
    },
    "colab": {},
    "colab_type": "code",
    "id": "JYJp3Qo5viNe"
   },
   "outputs": [],
   "source": [
    "scores = pd.DataFrame(columns=['Model','Train_Accuracy','Train_Recall','Train_Precision','Train_F1_Score','Test_Accuracy','Test_Recall','Test_Precision','Test_F1_Score'])\n",
    "\n",
    "def get_metrics(train_actual,train_predicted,test_actual,test_predicted,model_description,dataframe):\n",
    "    get_CR_CM(train_actual,train_predicted,test_actual,test_predicted)\n",
    "    train_accuracy = accuracy_score(train_actual,train_predicted)\n",
    "    train_recall   = recall_score(train_actual,train_predicted)\n",
    "    train_precision= precision_score(train_actual,train_predicted)\n",
    "    train_f1score  = f1_score(train_actual,train_predicted)\n",
    "    test_accuracy = accuracy_score(test_actual,test_predicted)\n",
    "    test_recall   = recall_score(test_actual,test_predicted)\n",
    "    test_precision= precision_score(test_actual,test_predicted)\n",
    "    test_f1score  = f1_score(test_actual,test_predicted)\n",
    "    dataframe = dataframe.append(pd.Series([model_description, train_accuracy,train_recall,train_precision,train_f1score,\n",
    "                                            test_accuracy,test_recall,test_precision,test_f1score],\n",
    "                                           index=scores.columns ), ignore_index=True)\n",
    "    return(dataframe)"
   ]
  },
  {
   "cell_type": "markdown",
   "metadata": {
    "colab_type": "text",
    "id": "2_QDNJJObgfI"
   },
   "source": [
    "# MODEL BUILDING"
   ]
  },
  {
   "cell_type": "markdown",
   "metadata": {
    "colab_type": "text",
    "id": "-hNOw6tMd5vZ"
   },
   "source": [
    "### 1. Logistic Regression"
   ]
  },
  {
   "cell_type": "code",
   "execution_count": 168,
   "metadata": {
    "colab": {},
    "colab_type": "code",
    "id": "kU2kFgufd5vZ"
   },
   "outputs": [],
   "source": [
    "log_mod = LogisticRegression(random_state=123)"
   ]
  },
  {
   "cell_type": "code",
   "execution_count": 188,
   "metadata": {
    "colab": {
     "base_uri": "https://localhost:8080/",
     "height": 101
    },
    "colab_type": "code",
    "id": "_7G00N2kd5ve",
    "outputId": "7c43edc8-19e0-45b2-8f08-e0e56d1aff2a"
   },
   "outputs": [],
   "source": [
    "log_mod.fit(X_train_final, y_train)"
   ]
  },
  {
   "cell_type": "code",
   "execution_count": 170,
   "metadata": {
    "colab": {},
    "colab_type": "code",
    "id": "677azofTd5vi"
   },
   "outputs": [],
   "source": [
    "y_pred_train = log_mod.predict(X_train_final)\n",
    "y_pred_val = log_mod.predict(X_val_final)"
   ]
  },
  {
   "cell_type": "markdown",
   "metadata": {
    "colab_type": "text",
    "id": "XbZMZ6ied5vl"
   },
   "source": [
    "##### Evaluating the model performance"
   ]
  },
  {
   "cell_type": "code",
   "execution_count": 100,
   "metadata": {},
   "outputs": [
    {
     "name": "stdout",
     "output_type": "stream",
     "text": [
      "\n",
      "         ========================================\n",
      "           CLASSIFICATION REPORT FOR TRAIN DATA\n",
      "         ========================================\n",
      "        \n",
      "              precision    recall  f1-score   support\n",
      "\n",
      "           0     0.7995    0.9925    0.8856     70566\n",
      "           1     0.3580    0.0165    0.0316     17855\n",
      "\n",
      "    accuracy                         0.7954     88421\n",
      "   macro avg     0.5788    0.5045    0.4586     88421\n",
      "weighted avg     0.7104    0.7954    0.7132     88421\n",
      "\n",
      "\n",
      "             =============================================\n",
      "               CLASSIFICATION REPORT FOR VALIDATION DATA\n",
      "             =============================================\n",
      "            \n",
      "              precision    recall  f1-score   support\n",
      "\n",
      "           0     0.7991    0.9917    0.8850     17642\n",
      "           1     0.3048    0.0143    0.0274      4464\n",
      "\n",
      "    accuracy                         0.7944     22106\n",
      "   macro avg     0.5519    0.5030    0.4562     22106\n",
      "weighted avg     0.6992    0.7944    0.7118     22106\n",
      "\n",
      "\n",
      "             ========================================\n",
      "               Confusion Matrix FOR TRAIN DATA\n",
      "             ========================================\n",
      "            \n",
      "[[70037   529]\n",
      " [17560   295]]\n",
      "\n",
      "             =============================================\n",
      "               Confusion matrix FOR VALIDATION DATA\n",
      "             =============================================\n",
      "            \n",
      "[[17496   146]\n",
      " [ 4400    64]]\n"
     ]
    },
    {
     "data": {
      "text/html": [
       "<div>\n",
       "<style scoped>\n",
       "    .dataframe tbody tr th:only-of-type {\n",
       "        vertical-align: middle;\n",
       "    }\n",
       "\n",
       "    .dataframe tbody tr th {\n",
       "        vertical-align: top;\n",
       "    }\n",
       "\n",
       "    .dataframe thead th {\n",
       "        text-align: right;\n",
       "    }\n",
       "</style>\n",
       "<table border=\"1\" class=\"dataframe\">\n",
       "  <thead>\n",
       "    <tr style=\"text-align: right;\">\n",
       "      <th></th>\n",
       "      <th>Model</th>\n",
       "      <th>Train_Accuracy</th>\n",
       "      <th>Train_Recall</th>\n",
       "      <th>Train_Precision</th>\n",
       "      <th>Train_F1_Score</th>\n",
       "      <th>Test_Accuracy</th>\n",
       "      <th>Test_Recall</th>\n",
       "      <th>Test_Precision</th>\n",
       "      <th>Test_F1_Score</th>\n",
       "    </tr>\n",
       "  </thead>\n",
       "  <tbody>\n",
       "    <tr>\n",
       "      <th>0</th>\n",
       "      <td>LogisticRegression</td>\n",
       "      <td>0.795422</td>\n",
       "      <td>0.016522</td>\n",
       "      <td>0.35801</td>\n",
       "      <td>0.031586</td>\n",
       "      <td>0.794354</td>\n",
       "      <td>0.014337</td>\n",
       "      <td>0.304762</td>\n",
       "      <td>0.027386</td>\n",
       "    </tr>\n",
       "  </tbody>\n",
       "</table>\n",
       "</div>"
      ],
      "text/plain": [
       "                Model  Train_Accuracy  Train_Recall  Train_Precision  \\\n",
       "0  LogisticRegression        0.795422      0.016522          0.35801   \n",
       "\n",
       "   Train_F1_Score  Test_Accuracy  Test_Recall  Test_Precision  Test_F1_Score  \n",
       "0        0.031586       0.794354     0.014337        0.304762       0.027386  "
      ]
     },
     "execution_count": 100,
     "metadata": {},
     "output_type": "execute_result"
    }
   ],
   "source": [
    "scores = get_metrics(y_train,y_pred_train,y_val,y_pred_val,\"LogisticRegression\",scores)\n",
    "scores"
   ]
  },
  {
   "cell_type": "markdown",
   "metadata": {},
   "source": [
    "## _Handling Imbalanced Data_\n",
    "\n",
    "### Class Weights of loss function\n",
    "\n",
    "The “balanced” mode uses the values of y to automatically adjust weights inversely proportional to class frequencies in the input data as n_samples / (n_classes * np.bincount(y))\n"
   ]
  },
  {
   "cell_type": "markdown",
   "metadata": {},
   "source": [
    "### 2. Logistic Regression with class_weight='balanced'"
   ]
  },
  {
   "cell_type": "code",
   "execution_count": 101,
   "metadata": {
    "colab": {},
    "colab_type": "code",
    "id": "kU2kFgufd5vZ"
   },
   "outputs": [],
   "source": [
    "log_mod = LogisticRegression(class_weight='balanced', random_state=123)"
   ]
  },
  {
   "cell_type": "code",
   "execution_count": 102,
   "metadata": {
    "colab": {
     "base_uri": "https://localhost:8080/",
     "height": 101
    },
    "colab_type": "code",
    "id": "_7G00N2kd5ve",
    "outputId": "7c43edc8-19e0-45b2-8f08-e0e56d1aff2a"
   },
   "outputs": [
    {
     "data": {
      "text/plain": [
       "LogisticRegression(class_weight='balanced', random_state=123)"
      ]
     },
     "execution_count": 102,
     "metadata": {},
     "output_type": "execute_result"
    }
   ],
   "source": [
    "log_mod.fit(X_train_final, y_train)"
   ]
  },
  {
   "cell_type": "code",
   "execution_count": 103,
   "metadata": {
    "colab": {},
    "colab_type": "code",
    "id": "677azofTd5vi"
   },
   "outputs": [],
   "source": [
    "y_pred_train = log_mod.predict(X_train_final)\n",
    "y_pred_val = log_mod.predict(X_val_final)"
   ]
  },
  {
   "cell_type": "markdown",
   "metadata": {
    "colab_type": "text",
    "id": "XbZMZ6ied5vl"
   },
   "source": [
    "##### Evaluating the model performance"
   ]
  },
  {
   "cell_type": "code",
   "execution_count": 104,
   "metadata": {
    "colab": {
     "base_uri": "https://localhost:8080/",
     "height": 84
    },
    "colab_type": "code",
    "id": "u9hLRmlZd5vm",
    "outputId": "5e84337d-d333-4619-baf7-44d2d5d6e55f"
   },
   "outputs": [
    {
     "name": "stdout",
     "output_type": "stream",
     "text": [
      "\n",
      "         ========================================\n",
      "           CLASSIFICATION REPORT FOR TRAIN DATA\n",
      "         ========================================\n",
      "        \n",
      "              precision    recall  f1-score   support\n",
      "\n",
      "           0     0.8698    0.6806    0.7637     70566\n",
      "           1     0.3212    0.5974    0.4178     17855\n",
      "\n",
      "    accuracy                         0.6638     88421\n",
      "   macro avg     0.5955    0.6390    0.5907     88421\n",
      "weighted avg     0.7590    0.6638    0.6938     88421\n",
      "\n",
      "\n",
      "             =============================================\n",
      "               CLASSIFICATION REPORT FOR VALIDATION DATA\n",
      "             =============================================\n",
      "            \n",
      "              precision    recall  f1-score   support\n",
      "\n",
      "           0     0.8709    0.6732    0.7594     17642\n",
      "           1     0.3192    0.6055    0.4180      4464\n",
      "\n",
      "    accuracy                         0.6595     22106\n",
      "   macro avg     0.5950    0.6394    0.5887     22106\n",
      "weighted avg     0.7595    0.6595    0.6905     22106\n",
      "\n",
      "\n",
      "             ========================================\n",
      "               Confusion Matrix FOR TRAIN DATA\n",
      "             ========================================\n",
      "            \n",
      "[[48027 22539]\n",
      " [ 7189 10666]]\n",
      "\n",
      "             =============================================\n",
      "               Confusion matrix FOR VALIDATION DATA\n",
      "             =============================================\n",
      "            \n",
      "[[11877  5765]\n",
      " [ 1761  2703]]\n"
     ]
    },
    {
     "data": {
      "text/html": [
       "<div>\n",
       "<style scoped>\n",
       "    .dataframe tbody tr th:only-of-type {\n",
       "        vertical-align: middle;\n",
       "    }\n",
       "\n",
       "    .dataframe tbody tr th {\n",
       "        vertical-align: top;\n",
       "    }\n",
       "\n",
       "    .dataframe thead th {\n",
       "        text-align: right;\n",
       "    }\n",
       "</style>\n",
       "<table border=\"1\" class=\"dataframe\">\n",
       "  <thead>\n",
       "    <tr style=\"text-align: right;\">\n",
       "      <th></th>\n",
       "      <th>Model</th>\n",
       "      <th>Train_Accuracy</th>\n",
       "      <th>Train_Recall</th>\n",
       "      <th>Train_Precision</th>\n",
       "      <th>Train_F1_Score</th>\n",
       "      <th>Test_Accuracy</th>\n",
       "      <th>Test_Recall</th>\n",
       "      <th>Test_Precision</th>\n",
       "      <th>Test_F1_Score</th>\n",
       "    </tr>\n",
       "  </thead>\n",
       "  <tbody>\n",
       "    <tr>\n",
       "      <th>0</th>\n",
       "      <td>LogisticRegression</td>\n",
       "      <td>0.795422</td>\n",
       "      <td>0.016522</td>\n",
       "      <td>0.358010</td>\n",
       "      <td>0.031586</td>\n",
       "      <td>0.794354</td>\n",
       "      <td>0.014337</td>\n",
       "      <td>0.304762</td>\n",
       "      <td>0.027386</td>\n",
       "    </tr>\n",
       "    <tr>\n",
       "      <th>1</th>\n",
       "      <td>LogisticRegression_Balanced</td>\n",
       "      <td>0.663790</td>\n",
       "      <td>0.597368</td>\n",
       "      <td>0.321217</td>\n",
       "      <td>0.417783</td>\n",
       "      <td>0.659549</td>\n",
       "      <td>0.605511</td>\n",
       "      <td>0.319202</td>\n",
       "      <td>0.418033</td>\n",
       "    </tr>\n",
       "  </tbody>\n",
       "</table>\n",
       "</div>"
      ],
      "text/plain": [
       "                         Model  Train_Accuracy  Train_Recall  Train_Precision  \\\n",
       "0           LogisticRegression        0.795422      0.016522         0.358010   \n",
       "1  LogisticRegression_Balanced        0.663790      0.597368         0.321217   \n",
       "\n",
       "   Train_F1_Score  Test_Accuracy  Test_Recall  Test_Precision  Test_F1_Score  \n",
       "0        0.031586       0.794354     0.014337        0.304762       0.027386  \n",
       "1        0.417783       0.659549     0.605511        0.319202       0.418033  "
      ]
     },
     "execution_count": 104,
     "metadata": {},
     "output_type": "execute_result"
    }
   ],
   "source": [
    "scores = get_metrics(y_train,y_pred_train,y_val,y_pred_val,\"LogisticRegression_Balanced\",scores)\n",
    "scores"
   ]
  },
  {
   "cell_type": "markdown",
   "metadata": {
    "colab_type": "text",
    "id": "WW1d5_zzd5wT"
   },
   "source": [
    "### 3. Decision Tree Classifier"
   ]
  },
  {
   "cell_type": "code",
   "execution_count": 105,
   "metadata": {
    "colab": {
     "base_uri": "https://localhost:8080/",
     "height": 118
    },
    "colab_type": "code",
    "id": "42_Uze_ud5wV",
    "outputId": "6feaa72f-e3d5-46a8-ee3d-d7cfcedc85b9"
   },
   "outputs": [
    {
     "data": {
      "text/plain": [
       "DecisionTreeClassifier(random_state=123)"
      ]
     },
     "execution_count": 105,
     "metadata": {},
     "output_type": "execute_result"
    }
   ],
   "source": [
    "# Create Decision Tree classifer object\n",
    "clf_dt = DecisionTreeClassifier(random_state=123)\n",
    "\n",
    "# Train Decision Tree Classifer\n",
    "clf_dt.fit(X_train_final,y_train)"
   ]
  },
  {
   "cell_type": "code",
   "execution_count": 106,
   "metadata": {
    "colab": {},
    "colab_type": "code",
    "id": "gnZ-6AoDd5wZ"
   },
   "outputs": [],
   "source": [
    "y_pred_train = clf_dt.predict(X_train_final)\n",
    "y_pred_val = clf_dt.predict(X_val_final)"
   ]
  },
  {
   "cell_type": "markdown",
   "metadata": {
    "colab_type": "text",
    "id": "_FC9zvT6d5wc"
   },
   "source": [
    "##### Evaluating the model performance"
   ]
  },
  {
   "cell_type": "code",
   "execution_count": 107,
   "metadata": {
    "colab": {
     "base_uri": "https://localhost:8080/",
     "height": 84
    },
    "colab_type": "code",
    "id": "eKaY_FKbd5wd",
    "outputId": "14b84934-ccdd-4a5a-985a-0744b8407822"
   },
   "outputs": [
    {
     "name": "stdout",
     "output_type": "stream",
     "text": [
      "\n",
      "         ========================================\n",
      "           CLASSIFICATION REPORT FOR TRAIN DATA\n",
      "         ========================================\n",
      "        \n",
      "              precision    recall  f1-score   support\n",
      "\n",
      "           0     0.8597    0.9819    0.9168     70566\n",
      "           1     0.8367    0.3670    0.5102     17855\n",
      "\n",
      "    accuracy                         0.8577     88421\n",
      "   macro avg     0.8482    0.6744    0.7135     88421\n",
      "weighted avg     0.8551    0.8577    0.8347     88421\n",
      "\n",
      "\n",
      "             =============================================\n",
      "               CLASSIFICATION REPORT FOR VALIDATION DATA\n",
      "             =============================================\n",
      "            \n",
      "              precision    recall  f1-score   support\n",
      "\n",
      "           0     0.8175    0.9197    0.8656     17642\n",
      "           1     0.3726    0.1884    0.2503      4464\n",
      "\n",
      "    accuracy                         0.7721     22106\n",
      "   macro avg     0.5950    0.5541    0.5579     22106\n",
      "weighted avg     0.7276    0.7721    0.7413     22106\n",
      "\n",
      "\n",
      "             ========================================\n",
      "               Confusion Matrix FOR TRAIN DATA\n",
      "             ========================================\n",
      "            \n",
      "[[69287  1279]\n",
      " [11303  6552]]\n",
      "\n",
      "             =============================================\n",
      "               Confusion matrix FOR VALIDATION DATA\n",
      "             =============================================\n",
      "            \n",
      "[[16226  1416]\n",
      " [ 3623   841]]\n"
     ]
    },
    {
     "data": {
      "text/html": [
       "<div>\n",
       "<style scoped>\n",
       "    .dataframe tbody tr th:only-of-type {\n",
       "        vertical-align: middle;\n",
       "    }\n",
       "\n",
       "    .dataframe tbody tr th {\n",
       "        vertical-align: top;\n",
       "    }\n",
       "\n",
       "    .dataframe thead th {\n",
       "        text-align: right;\n",
       "    }\n",
       "</style>\n",
       "<table border=\"1\" class=\"dataframe\">\n",
       "  <thead>\n",
       "    <tr style=\"text-align: right;\">\n",
       "      <th></th>\n",
       "      <th>Model</th>\n",
       "      <th>Train_Accuracy</th>\n",
       "      <th>Train_Recall</th>\n",
       "      <th>Train_Precision</th>\n",
       "      <th>Train_F1_Score</th>\n",
       "      <th>Test_Accuracy</th>\n",
       "      <th>Test_Recall</th>\n",
       "      <th>Test_Precision</th>\n",
       "      <th>Test_F1_Score</th>\n",
       "    </tr>\n",
       "  </thead>\n",
       "  <tbody>\n",
       "    <tr>\n",
       "      <th>0</th>\n",
       "      <td>LogisticRegression</td>\n",
       "      <td>0.795422</td>\n",
       "      <td>0.016522</td>\n",
       "      <td>0.358010</td>\n",
       "      <td>0.031586</td>\n",
       "      <td>0.794354</td>\n",
       "      <td>0.014337</td>\n",
       "      <td>0.304762</td>\n",
       "      <td>0.027386</td>\n",
       "    </tr>\n",
       "    <tr>\n",
       "      <th>1</th>\n",
       "      <td>LogisticRegression_Balanced</td>\n",
       "      <td>0.663790</td>\n",
       "      <td>0.597368</td>\n",
       "      <td>0.321217</td>\n",
       "      <td>0.417783</td>\n",
       "      <td>0.659549</td>\n",
       "      <td>0.605511</td>\n",
       "      <td>0.319202</td>\n",
       "      <td>0.418033</td>\n",
       "    </tr>\n",
       "    <tr>\n",
       "      <th>2</th>\n",
       "      <td>DecisionTree</td>\n",
       "      <td>0.857703</td>\n",
       "      <td>0.366956</td>\n",
       "      <td>0.836675</td>\n",
       "      <td>0.510161</td>\n",
       "      <td>0.772053</td>\n",
       "      <td>0.188396</td>\n",
       "      <td>0.372619</td>\n",
       "      <td>0.250260</td>\n",
       "    </tr>\n",
       "  </tbody>\n",
       "</table>\n",
       "</div>"
      ],
      "text/plain": [
       "                         Model  Train_Accuracy  Train_Recall  Train_Precision  \\\n",
       "0           LogisticRegression        0.795422      0.016522         0.358010   \n",
       "1  LogisticRegression_Balanced        0.663790      0.597368         0.321217   \n",
       "2                 DecisionTree        0.857703      0.366956         0.836675   \n",
       "\n",
       "   Train_F1_Score  Test_Accuracy  Test_Recall  Test_Precision  Test_F1_Score  \n",
       "0        0.031586       0.794354     0.014337        0.304762       0.027386  \n",
       "1        0.417783       0.659549     0.605511        0.319202       0.418033  \n",
       "2        0.510161       0.772053     0.188396        0.372619       0.250260  "
      ]
     },
     "execution_count": 107,
     "metadata": {},
     "output_type": "execute_result"
    }
   ],
   "source": [
    "scores = get_metrics(y_train,y_pred_train,y_val,y_pred_val,\"DecisionTree\",scores)\n",
    "scores"
   ]
  },
  {
   "cell_type": "markdown",
   "metadata": {
    "colab_type": "text",
    "id": "U4nOsqeQd5xt"
   },
   "source": [
    "### 4. Decision Tree with Grid-Search CV - Hyper-parameter Tuning"
   ]
  },
  {
   "cell_type": "code",
   "execution_count": 108,
   "metadata": {
    "colab": {},
    "colab_type": "code",
    "id": "7Db_siKVd5xu"
   },
   "outputs": [],
   "source": [
    "# set of parameters to test\n",
    "param_grid = {\"class_weight\":['balanced', None],\n",
    "              \"criterion\": [\"gini\", \"entropy\"],\n",
    "              \"max_depth\": [3, 5, 6],\n",
    "              \"min_samples_leaf\": [2, 5, 10],\n",
    "               \"max_leaf_nodes\": [None, 5, 10, 20]\n",
    "              }"
   ]
  },
  {
   "cell_type": "code",
   "execution_count": 109,
   "metadata": {},
   "outputs": [
    {
     "data": {
      "text/plain": [
       "GridSearchCV(cv=5, estimator=DecisionTreeClassifier(random_state=123),\n",
       "             param_grid={'class_weight': ['balanced', None],\n",
       "                         'criterion': ['gini', 'entropy'],\n",
       "                         'max_depth': [3, 5, 6],\n",
       "                         'max_leaf_nodes': [None, 5, 10, 20],\n",
       "                         'min_samples_leaf': [2, 5, 10]},\n",
       "             scoring='recall')"
      ]
     },
     "execution_count": 109,
     "metadata": {},
     "output_type": "execute_result"
    }
   ],
   "source": [
    "dt = tree.DecisionTreeClassifier(random_state=123)\n",
    "clf_dt_grid = GridSearchCV(dt, param_grid,cv=5,scoring='recall')\n",
    "clf_dt_grid.fit(X_train_final, y_train)"
   ]
  },
  {
   "cell_type": "code",
   "execution_count": 110,
   "metadata": {
    "colab": {
     "base_uri": "https://localhost:8080/",
     "height": 118
    },
    "colab_type": "code",
    "id": "aeaYPcF-d5x3",
    "outputId": "b767a2c8-827a-4948-d992-30f7bb314788"
   },
   "outputs": [
    {
     "data": {
      "text/plain": [
       "{'class_weight': 'balanced',\n",
       " 'criterion': 'entropy',\n",
       " 'max_depth': 3,\n",
       " 'max_leaf_nodes': 5,\n",
       " 'min_samples_leaf': 2}"
      ]
     },
     "execution_count": 110,
     "metadata": {},
     "output_type": "execute_result"
    }
   ],
   "source": [
    "clf_dt_grid.best_params_"
   ]
  },
  {
   "cell_type": "code",
   "execution_count": 111,
   "metadata": {
    "colab": {},
    "colab_type": "code",
    "id": "0BFwnRpxd5x6"
   },
   "outputs": [],
   "source": [
    "y_pred_train = clf_dt_grid.predict(X_train_final)\n",
    "y_pred_val = clf_dt_grid.predict(X_val_final)"
   ]
  },
  {
   "cell_type": "code",
   "execution_count": 112,
   "metadata": {
    "colab": {
     "base_uri": "https://localhost:8080/",
     "height": 202
    },
    "colab_type": "code",
    "id": "ZrPvmltvd5x-",
    "outputId": "90662edd-7ba8-4fa7-c8c5-6bf575be210a"
   },
   "outputs": [
    {
     "name": "stdout",
     "output_type": "stream",
     "text": [
      "\n",
      "         ========================================\n",
      "           CLASSIFICATION REPORT FOR TRAIN DATA\n",
      "         ========================================\n",
      "        \n",
      "              precision    recall  f1-score   support\n",
      "\n",
      "           0     0.9535    0.4181    0.5813     70566\n",
      "           1     0.2856    0.9194    0.4358     17855\n",
      "\n",
      "    accuracy                         0.5193     88421\n",
      "   macro avg     0.6196    0.6688    0.5086     88421\n",
      "weighted avg     0.8186    0.5193    0.5519     88421\n",
      "\n",
      "\n",
      "             =============================================\n",
      "               CLASSIFICATION REPORT FOR VALIDATION DATA\n",
      "             =============================================\n",
      "            \n",
      "              precision    recall  f1-score   support\n",
      "\n",
      "           0     0.9530    0.4119    0.5752     17642\n",
      "           1     0.2835    0.9198    0.4334      4464\n",
      "\n",
      "    accuracy                         0.5144     22106\n",
      "   macro avg     0.6183    0.6658    0.5043     22106\n",
      "weighted avg     0.8178    0.5144    0.5465     22106\n",
      "\n",
      "\n",
      "             ========================================\n",
      "               Confusion Matrix FOR TRAIN DATA\n",
      "             ========================================\n",
      "            \n",
      "[[29505 41061]\n",
      " [ 1439 16416]]\n",
      "\n",
      "             =============================================\n",
      "               Confusion matrix FOR VALIDATION DATA\n",
      "             =============================================\n",
      "            \n",
      "[[ 7266 10376]\n",
      " [  358  4106]]\n"
     ]
    },
    {
     "data": {
      "text/html": [
       "<div>\n",
       "<style scoped>\n",
       "    .dataframe tbody tr th:only-of-type {\n",
       "        vertical-align: middle;\n",
       "    }\n",
       "\n",
       "    .dataframe tbody tr th {\n",
       "        vertical-align: top;\n",
       "    }\n",
       "\n",
       "    .dataframe thead th {\n",
       "        text-align: right;\n",
       "    }\n",
       "</style>\n",
       "<table border=\"1\" class=\"dataframe\">\n",
       "  <thead>\n",
       "    <tr style=\"text-align: right;\">\n",
       "      <th></th>\n",
       "      <th>Model</th>\n",
       "      <th>Train_Accuracy</th>\n",
       "      <th>Train_Recall</th>\n",
       "      <th>Train_Precision</th>\n",
       "      <th>Train_F1_Score</th>\n",
       "      <th>Test_Accuracy</th>\n",
       "      <th>Test_Recall</th>\n",
       "      <th>Test_Precision</th>\n",
       "      <th>Test_F1_Score</th>\n",
       "    </tr>\n",
       "  </thead>\n",
       "  <tbody>\n",
       "    <tr>\n",
       "      <th>0</th>\n",
       "      <td>LogisticRegression</td>\n",
       "      <td>0.795422</td>\n",
       "      <td>0.016522</td>\n",
       "      <td>0.358010</td>\n",
       "      <td>0.031586</td>\n",
       "      <td>0.794354</td>\n",
       "      <td>0.014337</td>\n",
       "      <td>0.304762</td>\n",
       "      <td>0.027386</td>\n",
       "    </tr>\n",
       "    <tr>\n",
       "      <th>1</th>\n",
       "      <td>LogisticRegression_Balanced</td>\n",
       "      <td>0.663790</td>\n",
       "      <td>0.597368</td>\n",
       "      <td>0.321217</td>\n",
       "      <td>0.417783</td>\n",
       "      <td>0.659549</td>\n",
       "      <td>0.605511</td>\n",
       "      <td>0.319202</td>\n",
       "      <td>0.418033</td>\n",
       "    </tr>\n",
       "    <tr>\n",
       "      <th>2</th>\n",
       "      <td>DecisionTree</td>\n",
       "      <td>0.857703</td>\n",
       "      <td>0.366956</td>\n",
       "      <td>0.836675</td>\n",
       "      <td>0.510161</td>\n",
       "      <td>0.772053</td>\n",
       "      <td>0.188396</td>\n",
       "      <td>0.372619</td>\n",
       "      <td>0.250260</td>\n",
       "    </tr>\n",
       "    <tr>\n",
       "      <th>3</th>\n",
       "      <td>DecisionTree_BestParameters</td>\n",
       "      <td>0.519345</td>\n",
       "      <td>0.919406</td>\n",
       "      <td>0.285610</td>\n",
       "      <td>0.435831</td>\n",
       "      <td>0.514430</td>\n",
       "      <td>0.919803</td>\n",
       "      <td>0.283524</td>\n",
       "      <td>0.433442</td>\n",
       "    </tr>\n",
       "  </tbody>\n",
       "</table>\n",
       "</div>"
      ],
      "text/plain": [
       "                         Model  Train_Accuracy  Train_Recall  Train_Precision  \\\n",
       "0           LogisticRegression        0.795422      0.016522         0.358010   \n",
       "1  LogisticRegression_Balanced        0.663790      0.597368         0.321217   \n",
       "2                 DecisionTree        0.857703      0.366956         0.836675   \n",
       "3  DecisionTree_BestParameters        0.519345      0.919406         0.285610   \n",
       "\n",
       "   Train_F1_Score  Test_Accuracy  Test_Recall  Test_Precision  Test_F1_Score  \n",
       "0        0.031586       0.794354     0.014337        0.304762       0.027386  \n",
       "1        0.417783       0.659549     0.605511        0.319202       0.418033  \n",
       "2        0.510161       0.772053     0.188396        0.372619       0.250260  \n",
       "3        0.435831       0.514430     0.919803        0.283524       0.433442  "
      ]
     },
     "execution_count": 112,
     "metadata": {},
     "output_type": "execute_result"
    }
   ],
   "source": [
    "scores = get_metrics(y_train,y_pred_train,y_val,y_pred_val,\"DecisionTree_BestParameters\",scores)\n",
    "scores"
   ]
  },
  {
   "cell_type": "markdown",
   "metadata": {},
   "source": [
    "### 5. Decision Tree with RandomizedSearchCV - Hyper-parameter Tuning"
   ]
  },
  {
   "cell_type": "code",
   "execution_count": 113,
   "metadata": {},
   "outputs": [],
   "source": [
    "from sklearn.model_selection import RandomizedSearchCV\n",
    "from scipy.stats import uniform, truncnorm, randint\n",
    "\n",
    "clf3_dt = DecisionTreeClassifier(random_state=123, class_weight='balanced') "
   ]
  },
  {
   "cell_type": "code",
   "execution_count": 114,
   "metadata": {},
   "outputs": [
    {
     "name": "stdout",
     "output_type": "stream",
     "text": [
      "[4 5 6 4 4]\n",
      "[4 2 4 3]\n",
      "[5 4 5 3 5]\n"
     ]
    }
   ],
   "source": [
    "max_leaf_nodes = np.random.normal(loc=5, scale=1, size=5).astype(int)\n",
    "max_leaf_nodes[max_leaf_nodes <1] = 1\n",
    "print(max_leaf_nodes)\n",
    "max_depth = np.random.uniform(2,5,4).astype(int)\n",
    "print(max_depth)\n",
    "min_samples_split = np.random.uniform(2, 6, 5).astype(int)\n",
    "print(min_samples_split)"
   ]
  },
  {
   "cell_type": "code",
   "execution_count": 115,
   "metadata": {},
   "outputs": [],
   "source": [
    "## Set Up Hyperparameter Distributions\n",
    "\n",
    "# normally distributed max_leaf_nodes, with mean 5 stddev 1\n",
    "max_leaf_nodes = np.random.normal(loc=5, scale=1, size=5).astype(int)\n",
    "\n",
    "# uniform distribution from 2 to 5 \n",
    "max_depth = np.random.uniform(2,5,4).astype(int)\n",
    "\n",
    "# uniform distribution from 2 to 6\n",
    "min_samples_split = np.random.uniform(2, 6, 5).astype(int)\n",
    "\n",
    "model_params = {\n",
    "    'max_depth': list(max_depth),\n",
    "    'max_leaf_nodes': list(max_leaf_nodes),\n",
    "    'min_samples_split': list(min_samples_split)\n",
    "}"
   ]
  },
  {
   "cell_type": "code",
   "execution_count": 116,
   "metadata": {
    "scrolled": true
   },
   "outputs": [
    {
     "data": {
      "text/plain": [
       "RandomizedSearchCV(cv=5,\n",
       "                   estimator=DecisionTreeClassifier(class_weight='balanced',\n",
       "                                                    random_state=123),\n",
       "                   n_iter=600, n_jobs=-1,\n",
       "                   param_distributions={'max_depth': [4, 4, 4, 2],\n",
       "                                        'max_leaf_nodes': [4, 5, 4, 4, 3],\n",
       "                                        'min_samples_split': [3, 4, 3, 4, 3]},\n",
       "                   scoring='recall')"
      ]
     },
     "execution_count": 116,
     "metadata": {},
     "output_type": "execute_result"
    }
   ],
   "source": [
    "clf_random = RandomizedSearchCV(estimator=clf3_dt, param_distributions=model_params, n_iter=600, cv=5, scoring='recall', n_jobs=-1)\n",
    "clf_random.fit(X_train_final, y_train)"
   ]
  },
  {
   "cell_type": "code",
   "execution_count": 117,
   "metadata": {},
   "outputs": [
    {
     "name": "stdout",
     "output_type": "stream",
     "text": [
      "0.8983478017362083 {'min_samples_split': 3, 'max_leaf_nodes': 4, 'max_depth': 4}\n"
     ]
    }
   ],
   "source": [
    "print(clf_random.best_score_, clf_random.best_params_)"
   ]
  },
  {
   "cell_type": "code",
   "execution_count": 118,
   "metadata": {},
   "outputs": [
    {
     "name": "stdout",
     "output_type": "stream",
     "text": [
      "DecisionTreeClassifier(class_weight='balanced', max_depth=4, max_leaf_nodes=4,\n",
      "                       min_samples_split=3, random_state=123)\n"
     ]
    }
   ],
   "source": [
    "clf_dt_random = clf_random.best_estimator_\n",
    "print(clf_dt_random)"
   ]
  },
  {
   "cell_type": "code",
   "execution_count": 119,
   "metadata": {},
   "outputs": [],
   "source": [
    "y_pred_train = clf_dt_random.predict(X_train_final)\n",
    "y_pred_val = clf_dt_random.predict(X_val_final)"
   ]
  },
  {
   "cell_type": "code",
   "execution_count": 120,
   "metadata": {},
   "outputs": [
    {
     "name": "stdout",
     "output_type": "stream",
     "text": [
      "\n",
      "         ========================================\n",
      "           CLASSIFICATION REPORT FOR TRAIN DATA\n",
      "         ========================================\n",
      "        \n",
      "              precision    recall  f1-score   support\n",
      "\n",
      "           0     0.9535    0.4181    0.5813     70566\n",
      "           1     0.2856    0.9194    0.4358     17855\n",
      "\n",
      "    accuracy                         0.5193     88421\n",
      "   macro avg     0.6196    0.6688    0.5086     88421\n",
      "weighted avg     0.8186    0.5193    0.5519     88421\n",
      "\n",
      "\n",
      "             =============================================\n",
      "               CLASSIFICATION REPORT FOR VALIDATION DATA\n",
      "             =============================================\n",
      "            \n",
      "              precision    recall  f1-score   support\n",
      "\n",
      "           0     0.9530    0.4119    0.5752     17642\n",
      "           1     0.2835    0.9198    0.4334      4464\n",
      "\n",
      "    accuracy                         0.5144     22106\n",
      "   macro avg     0.6183    0.6658    0.5043     22106\n",
      "weighted avg     0.8178    0.5144    0.5465     22106\n",
      "\n",
      "\n",
      "             ========================================\n",
      "               Confusion Matrix FOR TRAIN DATA\n",
      "             ========================================\n",
      "            \n",
      "[[29505 41061]\n",
      " [ 1439 16416]]\n",
      "\n",
      "             =============================================\n",
      "               Confusion matrix FOR VALIDATION DATA\n",
      "             =============================================\n",
      "            \n",
      "[[ 7266 10376]\n",
      " [  358  4106]]\n"
     ]
    },
    {
     "data": {
      "text/html": [
       "<div>\n",
       "<style scoped>\n",
       "    .dataframe tbody tr th:only-of-type {\n",
       "        vertical-align: middle;\n",
       "    }\n",
       "\n",
       "    .dataframe tbody tr th {\n",
       "        vertical-align: top;\n",
       "    }\n",
       "\n",
       "    .dataframe thead th {\n",
       "        text-align: right;\n",
       "    }\n",
       "</style>\n",
       "<table border=\"1\" class=\"dataframe\">\n",
       "  <thead>\n",
       "    <tr style=\"text-align: right;\">\n",
       "      <th></th>\n",
       "      <th>Model</th>\n",
       "      <th>Train_Accuracy</th>\n",
       "      <th>Train_Recall</th>\n",
       "      <th>Train_Precision</th>\n",
       "      <th>Train_F1_Score</th>\n",
       "      <th>Test_Accuracy</th>\n",
       "      <th>Test_Recall</th>\n",
       "      <th>Test_Precision</th>\n",
       "      <th>Test_F1_Score</th>\n",
       "    </tr>\n",
       "  </thead>\n",
       "  <tbody>\n",
       "    <tr>\n",
       "      <th>0</th>\n",
       "      <td>LogisticRegression</td>\n",
       "      <td>0.795422</td>\n",
       "      <td>0.016522</td>\n",
       "      <td>0.358010</td>\n",
       "      <td>0.031586</td>\n",
       "      <td>0.794354</td>\n",
       "      <td>0.014337</td>\n",
       "      <td>0.304762</td>\n",
       "      <td>0.027386</td>\n",
       "    </tr>\n",
       "    <tr>\n",
       "      <th>1</th>\n",
       "      <td>LogisticRegression_Balanced</td>\n",
       "      <td>0.663790</td>\n",
       "      <td>0.597368</td>\n",
       "      <td>0.321217</td>\n",
       "      <td>0.417783</td>\n",
       "      <td>0.659549</td>\n",
       "      <td>0.605511</td>\n",
       "      <td>0.319202</td>\n",
       "      <td>0.418033</td>\n",
       "    </tr>\n",
       "    <tr>\n",
       "      <th>2</th>\n",
       "      <td>DecisionTree</td>\n",
       "      <td>0.857703</td>\n",
       "      <td>0.366956</td>\n",
       "      <td>0.836675</td>\n",
       "      <td>0.510161</td>\n",
       "      <td>0.772053</td>\n",
       "      <td>0.188396</td>\n",
       "      <td>0.372619</td>\n",
       "      <td>0.250260</td>\n",
       "    </tr>\n",
       "    <tr>\n",
       "      <th>3</th>\n",
       "      <td>DecisionTree_BestParameters</td>\n",
       "      <td>0.519345</td>\n",
       "      <td>0.919406</td>\n",
       "      <td>0.285610</td>\n",
       "      <td>0.435831</td>\n",
       "      <td>0.514430</td>\n",
       "      <td>0.919803</td>\n",
       "      <td>0.283524</td>\n",
       "      <td>0.433442</td>\n",
       "    </tr>\n",
       "    <tr>\n",
       "      <th>4</th>\n",
       "      <td>DecisionTree_RandomizedSearch</td>\n",
       "      <td>0.519345</td>\n",
       "      <td>0.919406</td>\n",
       "      <td>0.285610</td>\n",
       "      <td>0.435831</td>\n",
       "      <td>0.514430</td>\n",
       "      <td>0.919803</td>\n",
       "      <td>0.283524</td>\n",
       "      <td>0.433442</td>\n",
       "    </tr>\n",
       "  </tbody>\n",
       "</table>\n",
       "</div>"
      ],
      "text/plain": [
       "                           Model  Train_Accuracy  Train_Recall  \\\n",
       "0             LogisticRegression        0.795422      0.016522   \n",
       "1    LogisticRegression_Balanced        0.663790      0.597368   \n",
       "2                   DecisionTree        0.857703      0.366956   \n",
       "3    DecisionTree_BestParameters        0.519345      0.919406   \n",
       "4  DecisionTree_RandomizedSearch        0.519345      0.919406   \n",
       "\n",
       "   Train_Precision  Train_F1_Score  Test_Accuracy  Test_Recall  \\\n",
       "0         0.358010        0.031586       0.794354     0.014337   \n",
       "1         0.321217        0.417783       0.659549     0.605511   \n",
       "2         0.836675        0.510161       0.772053     0.188396   \n",
       "3         0.285610        0.435831       0.514430     0.919803   \n",
       "4         0.285610        0.435831       0.514430     0.919803   \n",
       "\n",
       "   Test_Precision  Test_F1_Score  \n",
       "0        0.304762       0.027386  \n",
       "1        0.319202       0.418033  \n",
       "2        0.372619       0.250260  \n",
       "3        0.283524       0.433442  \n",
       "4        0.283524       0.433442  "
      ]
     },
     "execution_count": 120,
     "metadata": {},
     "output_type": "execute_result"
    }
   ],
   "source": [
    "scores = get_metrics(y_train,y_pred_train,y_val,y_pred_val,\"DecisionTree_RandomizedSearch\",scores)\n",
    "scores"
   ]
  },
  {
   "cell_type": "markdown",
   "metadata": {
    "colab_type": "text",
    "id": "BJPF5VqGd5yQ"
   },
   "source": [
    "# 6. AdaBoostClassifier"
   ]
  },
  {
   "cell_type": "code",
   "execution_count": 171,
   "metadata": {
    "colab": {
     "base_uri": "https://localhost:8080/",
     "height": 286
    },
    "colab_type": "code",
    "id": "VmBV0srQd5yw",
    "outputId": "4506efb8-d61b-48f0-a29f-546eee64b170"
   },
   "outputs": [
    {
     "data": {
      "text/plain": [
       "AdaBoostClassifier(base_estimator=DecisionTreeClassifier(class_weight='balanced'),\n",
       "                   learning_rate=0.4, n_estimators=100, random_state=123)"
      ]
     },
     "execution_count": 171,
     "metadata": {},
     "output_type": "execute_result"
    }
   ],
   "source": [
    "clf_ada = AdaBoostClassifier(DecisionTreeClassifier(criterion=\"gini\",class_weight='balanced'),n_estimators=100,learning_rate = 0.4,random_state=123)\n",
    "clf_ada.fit(X_train_final, y_train)"
   ]
  },
  {
   "cell_type": "code",
   "execution_count": 122,
   "metadata": {
    "colab": {},
    "colab_type": "code",
    "id": "pqDZPxeqd5y1"
   },
   "outputs": [],
   "source": [
    "y_pred_train = clf_ada.predict(X_train_final)\n",
    "y_pred_val = clf_ada.predict(X_val_final)"
   ]
  },
  {
   "cell_type": "code",
   "execution_count": 123,
   "metadata": {},
   "outputs": [
    {
     "name": "stdout",
     "output_type": "stream",
     "text": [
      "\n",
      "         ========================================\n",
      "           CLASSIFICATION REPORT FOR TRAIN DATA\n",
      "         ========================================\n",
      "        \n",
      "              precision    recall  f1-score   support\n",
      "\n",
      "           0     0.9501    0.7550    0.8414     70566\n",
      "           1     0.4654    0.8432    0.5998     17855\n",
      "\n",
      "    accuracy                         0.7728     88421\n",
      "   macro avg     0.7078    0.7991    0.7206     88421\n",
      "weighted avg     0.8522    0.7728    0.7926     88421\n",
      "\n",
      "\n",
      "             =============================================\n",
      "               CLASSIFICATION REPORT FOR VALIDATION DATA\n",
      "             =============================================\n",
      "            \n",
      "              precision    recall  f1-score   support\n",
      "\n",
      "           0     0.8535    0.7114    0.7760     17642\n",
      "           1     0.3121    0.5175    0.3893      4464\n",
      "\n",
      "    accuracy                         0.6722     22106\n",
      "   macro avg     0.5828    0.6144    0.5827     22106\n",
      "weighted avg     0.7442    0.6722    0.6979     22106\n",
      "\n",
      "\n",
      "             ========================================\n",
      "               Confusion Matrix FOR TRAIN DATA\n",
      "             ========================================\n",
      "            \n",
      "[[53275 17291]\n",
      " [ 2800 15055]]\n",
      "\n",
      "             =============================================\n",
      "               Confusion matrix FOR VALIDATION DATA\n",
      "             =============================================\n",
      "            \n",
      "[[12550  5092]\n",
      " [ 2154  2310]]\n"
     ]
    },
    {
     "data": {
      "text/html": [
       "<div>\n",
       "<style scoped>\n",
       "    .dataframe tbody tr th:only-of-type {\n",
       "        vertical-align: middle;\n",
       "    }\n",
       "\n",
       "    .dataframe tbody tr th {\n",
       "        vertical-align: top;\n",
       "    }\n",
       "\n",
       "    .dataframe thead th {\n",
       "        text-align: right;\n",
       "    }\n",
       "</style>\n",
       "<table border=\"1\" class=\"dataframe\">\n",
       "  <thead>\n",
       "    <tr style=\"text-align: right;\">\n",
       "      <th></th>\n",
       "      <th>Model</th>\n",
       "      <th>Train_Accuracy</th>\n",
       "      <th>Train_Recall</th>\n",
       "      <th>Train_Precision</th>\n",
       "      <th>Train_F1_Score</th>\n",
       "      <th>Test_Accuracy</th>\n",
       "      <th>Test_Recall</th>\n",
       "      <th>Test_Precision</th>\n",
       "      <th>Test_F1_Score</th>\n",
       "    </tr>\n",
       "  </thead>\n",
       "  <tbody>\n",
       "    <tr>\n",
       "      <th>0</th>\n",
       "      <td>LogisticRegression</td>\n",
       "      <td>0.795422</td>\n",
       "      <td>0.016522</td>\n",
       "      <td>0.358010</td>\n",
       "      <td>0.031586</td>\n",
       "      <td>0.794354</td>\n",
       "      <td>0.014337</td>\n",
       "      <td>0.304762</td>\n",
       "      <td>0.027386</td>\n",
       "    </tr>\n",
       "    <tr>\n",
       "      <th>1</th>\n",
       "      <td>LogisticRegression_Balanced</td>\n",
       "      <td>0.663790</td>\n",
       "      <td>0.597368</td>\n",
       "      <td>0.321217</td>\n",
       "      <td>0.417783</td>\n",
       "      <td>0.659549</td>\n",
       "      <td>0.605511</td>\n",
       "      <td>0.319202</td>\n",
       "      <td>0.418033</td>\n",
       "    </tr>\n",
       "    <tr>\n",
       "      <th>2</th>\n",
       "      <td>DecisionTree</td>\n",
       "      <td>0.857703</td>\n",
       "      <td>0.366956</td>\n",
       "      <td>0.836675</td>\n",
       "      <td>0.510161</td>\n",
       "      <td>0.772053</td>\n",
       "      <td>0.188396</td>\n",
       "      <td>0.372619</td>\n",
       "      <td>0.250260</td>\n",
       "    </tr>\n",
       "    <tr>\n",
       "      <th>3</th>\n",
       "      <td>DecisionTree_BestParameters</td>\n",
       "      <td>0.519345</td>\n",
       "      <td>0.919406</td>\n",
       "      <td>0.285610</td>\n",
       "      <td>0.435831</td>\n",
       "      <td>0.514430</td>\n",
       "      <td>0.919803</td>\n",
       "      <td>0.283524</td>\n",
       "      <td>0.433442</td>\n",
       "    </tr>\n",
       "    <tr>\n",
       "      <th>4</th>\n",
       "      <td>DecisionTree_RandomizedSearch</td>\n",
       "      <td>0.519345</td>\n",
       "      <td>0.919406</td>\n",
       "      <td>0.285610</td>\n",
       "      <td>0.435831</td>\n",
       "      <td>0.514430</td>\n",
       "      <td>0.919803</td>\n",
       "      <td>0.283524</td>\n",
       "      <td>0.433442</td>\n",
       "    </tr>\n",
       "    <tr>\n",
       "      <th>5</th>\n",
       "      <td>Adaboost</td>\n",
       "      <td>0.772780</td>\n",
       "      <td>0.843181</td>\n",
       "      <td>0.465436</td>\n",
       "      <td>0.599789</td>\n",
       "      <td>0.672216</td>\n",
       "      <td>0.517473</td>\n",
       "      <td>0.312078</td>\n",
       "      <td>0.389348</td>\n",
       "    </tr>\n",
       "  </tbody>\n",
       "</table>\n",
       "</div>"
      ],
      "text/plain": [
       "                           Model  Train_Accuracy  Train_Recall  \\\n",
       "0             LogisticRegression        0.795422      0.016522   \n",
       "1    LogisticRegression_Balanced        0.663790      0.597368   \n",
       "2                   DecisionTree        0.857703      0.366956   \n",
       "3    DecisionTree_BestParameters        0.519345      0.919406   \n",
       "4  DecisionTree_RandomizedSearch        0.519345      0.919406   \n",
       "5                       Adaboost        0.772780      0.843181   \n",
       "\n",
       "   Train_Precision  Train_F1_Score  Test_Accuracy  Test_Recall  \\\n",
       "0         0.358010        0.031586       0.794354     0.014337   \n",
       "1         0.321217        0.417783       0.659549     0.605511   \n",
       "2         0.836675        0.510161       0.772053     0.188396   \n",
       "3         0.285610        0.435831       0.514430     0.919803   \n",
       "4         0.285610        0.435831       0.514430     0.919803   \n",
       "5         0.465436        0.599789       0.672216     0.517473   \n",
       "\n",
       "   Test_Precision  Test_F1_Score  \n",
       "0        0.304762       0.027386  \n",
       "1        0.319202       0.418033  \n",
       "2        0.372619       0.250260  \n",
       "3        0.283524       0.433442  \n",
       "4        0.283524       0.433442  \n",
       "5        0.312078       0.389348  "
      ]
     },
     "execution_count": 123,
     "metadata": {},
     "output_type": "execute_result"
    }
   ],
   "source": [
    "scores = get_metrics(y_train,y_pred_train,y_val,y_pred_val,\"Adaboost\",scores)\n",
    "scores"
   ]
  },
  {
   "cell_type": "markdown",
   "metadata": {},
   "source": [
    "### 7. Adaboost Classifier with Grid Search CV"
   ]
  },
  {
   "cell_type": "code",
   "execution_count": 124,
   "metadata": {
    "scrolled": true
   },
   "outputs": [],
   "source": [
    "# GridSearchCV\n",
    "param_grid = {'n_estimators' : [100, 200, 300],\n",
    "              'learning_rate' : [0.2, 0.3, 0.4]}\n",
    "\n",
    "clf_grid_ada = GridSearchCV(AdaBoostClassifier(DecisionTreeClassifier()), param_grid, scoring='recall',n_jobs=-1)\n"
   ]
  },
  {
   "cell_type": "code",
   "execution_count": 125,
   "metadata": {},
   "outputs": [
    {
     "data": {
      "text/plain": [
       "GridSearchCV(estimator=AdaBoostClassifier(base_estimator=DecisionTreeClassifier()),\n",
       "             n_jobs=-1,\n",
       "             param_grid={'learning_rate': [0.2, 0.3, 0.4],\n",
       "                         'n_estimators': [100, 200, 300]},\n",
       "             scoring='recall')"
      ]
     },
     "execution_count": 125,
     "metadata": {},
     "output_type": "execute_result"
    }
   ],
   "source": [
    "clf_grid_ada.fit(X_train_final, y_train)"
   ]
  },
  {
   "cell_type": "code",
   "execution_count": 126,
   "metadata": {},
   "outputs": [
    {
     "name": "stdout",
     "output_type": "stream",
     "text": [
      "AdaBoostClassifier(base_estimator=DecisionTreeClassifier(), learning_rate=0.4,\n",
      "                   n_estimators=200)\n",
      "0.1841500980117614 {'learning_rate': 0.4, 'n_estimators': 200}\n"
     ]
    }
   ],
   "source": [
    "best_ada_model = clf_grid_ada.best_estimator_\n",
    "print(best_ada_model)\n",
    "print (clf_grid_ada.best_score_, clf_grid_ada.best_params_) "
   ]
  },
  {
   "cell_type": "code",
   "execution_count": 127,
   "metadata": {},
   "outputs": [],
   "source": [
    "y_pred_train = best_ada_model.predict(X_train_final)\n",
    "y_pred_val = best_ada_model.predict(X_val_final)"
   ]
  },
  {
   "cell_type": "code",
   "execution_count": 128,
   "metadata": {},
   "outputs": [
    {
     "name": "stdout",
     "output_type": "stream",
     "text": [
      "\n",
      "         ========================================\n",
      "           CLASSIFICATION REPORT FOR TRAIN DATA\n",
      "         ========================================\n",
      "        \n",
      "              precision    recall  f1-score   support\n",
      "\n",
      "           0     0.8646    0.9742    0.9162     70566\n",
      "           1     0.7959    0.3972    0.5299     17855\n",
      "\n",
      "    accuracy                         0.8577     88421\n",
      "   macro avg     0.8303    0.6857    0.7230     88421\n",
      "weighted avg     0.8507    0.8577    0.8382     88421\n",
      "\n",
      "\n",
      "             =============================================\n",
      "               CLASSIFICATION REPORT FOR VALIDATION DATA\n",
      "             =============================================\n",
      "            \n",
      "              precision    recall  f1-score   support\n",
      "\n",
      "           0     0.8174    0.9223    0.8667     17642\n",
      "           1     0.3770    0.1857    0.2488      4464\n",
      "\n",
      "    accuracy                         0.7736     22106\n",
      "   macro avg     0.5972    0.5540    0.5578     22106\n",
      "weighted avg     0.7285    0.7736    0.7419     22106\n",
      "\n",
      "\n",
      "             ========================================\n",
      "               Confusion Matrix FOR TRAIN DATA\n",
      "             ========================================\n",
      "            \n",
      "[[68747  1819]\n",
      " [10763  7092]]\n",
      "\n",
      "             =============================================\n",
      "               Confusion matrix FOR VALIDATION DATA\n",
      "             =============================================\n",
      "            \n",
      "[[16272  1370]\n",
      " [ 3635   829]]\n"
     ]
    },
    {
     "data": {
      "text/html": [
       "<div>\n",
       "<style scoped>\n",
       "    .dataframe tbody tr th:only-of-type {\n",
       "        vertical-align: middle;\n",
       "    }\n",
       "\n",
       "    .dataframe tbody tr th {\n",
       "        vertical-align: top;\n",
       "    }\n",
       "\n",
       "    .dataframe thead th {\n",
       "        text-align: right;\n",
       "    }\n",
       "</style>\n",
       "<table border=\"1\" class=\"dataframe\">\n",
       "  <thead>\n",
       "    <tr style=\"text-align: right;\">\n",
       "      <th></th>\n",
       "      <th>Model</th>\n",
       "      <th>Train_Accuracy</th>\n",
       "      <th>Train_Recall</th>\n",
       "      <th>Train_Precision</th>\n",
       "      <th>Train_F1_Score</th>\n",
       "      <th>Test_Accuracy</th>\n",
       "      <th>Test_Recall</th>\n",
       "      <th>Test_Precision</th>\n",
       "      <th>Test_F1_Score</th>\n",
       "    </tr>\n",
       "  </thead>\n",
       "  <tbody>\n",
       "    <tr>\n",
       "      <th>0</th>\n",
       "      <td>LogisticRegression</td>\n",
       "      <td>0.795422</td>\n",
       "      <td>0.016522</td>\n",
       "      <td>0.358010</td>\n",
       "      <td>0.031586</td>\n",
       "      <td>0.794354</td>\n",
       "      <td>0.014337</td>\n",
       "      <td>0.304762</td>\n",
       "      <td>0.027386</td>\n",
       "    </tr>\n",
       "    <tr>\n",
       "      <th>1</th>\n",
       "      <td>LogisticRegression_Balanced</td>\n",
       "      <td>0.663790</td>\n",
       "      <td>0.597368</td>\n",
       "      <td>0.321217</td>\n",
       "      <td>0.417783</td>\n",
       "      <td>0.659549</td>\n",
       "      <td>0.605511</td>\n",
       "      <td>0.319202</td>\n",
       "      <td>0.418033</td>\n",
       "    </tr>\n",
       "    <tr>\n",
       "      <th>2</th>\n",
       "      <td>DecisionTree</td>\n",
       "      <td>0.857703</td>\n",
       "      <td>0.366956</td>\n",
       "      <td>0.836675</td>\n",
       "      <td>0.510161</td>\n",
       "      <td>0.772053</td>\n",
       "      <td>0.188396</td>\n",
       "      <td>0.372619</td>\n",
       "      <td>0.250260</td>\n",
       "    </tr>\n",
       "    <tr>\n",
       "      <th>3</th>\n",
       "      <td>DecisionTree_BestParameters</td>\n",
       "      <td>0.519345</td>\n",
       "      <td>0.919406</td>\n",
       "      <td>0.285610</td>\n",
       "      <td>0.435831</td>\n",
       "      <td>0.514430</td>\n",
       "      <td>0.919803</td>\n",
       "      <td>0.283524</td>\n",
       "      <td>0.433442</td>\n",
       "    </tr>\n",
       "    <tr>\n",
       "      <th>4</th>\n",
       "      <td>DecisionTree_RandomizedSearch</td>\n",
       "      <td>0.519345</td>\n",
       "      <td>0.919406</td>\n",
       "      <td>0.285610</td>\n",
       "      <td>0.435831</td>\n",
       "      <td>0.514430</td>\n",
       "      <td>0.919803</td>\n",
       "      <td>0.283524</td>\n",
       "      <td>0.433442</td>\n",
       "    </tr>\n",
       "    <tr>\n",
       "      <th>5</th>\n",
       "      <td>Adaboost</td>\n",
       "      <td>0.772780</td>\n",
       "      <td>0.843181</td>\n",
       "      <td>0.465436</td>\n",
       "      <td>0.599789</td>\n",
       "      <td>0.672216</td>\n",
       "      <td>0.517473</td>\n",
       "      <td>0.312078</td>\n",
       "      <td>0.389348</td>\n",
       "    </tr>\n",
       "    <tr>\n",
       "      <th>6</th>\n",
       "      <td>Adaboost_BestParameters</td>\n",
       "      <td>0.857703</td>\n",
       "      <td>0.397200</td>\n",
       "      <td>0.795870</td>\n",
       "      <td>0.529926</td>\n",
       "      <td>0.773591</td>\n",
       "      <td>0.185708</td>\n",
       "      <td>0.376990</td>\n",
       "      <td>0.248837</td>\n",
       "    </tr>\n",
       "  </tbody>\n",
       "</table>\n",
       "</div>"
      ],
      "text/plain": [
       "                           Model  Train_Accuracy  Train_Recall  \\\n",
       "0             LogisticRegression        0.795422      0.016522   \n",
       "1    LogisticRegression_Balanced        0.663790      0.597368   \n",
       "2                   DecisionTree        0.857703      0.366956   \n",
       "3    DecisionTree_BestParameters        0.519345      0.919406   \n",
       "4  DecisionTree_RandomizedSearch        0.519345      0.919406   \n",
       "5                       Adaboost        0.772780      0.843181   \n",
       "6        Adaboost_BestParameters        0.857703      0.397200   \n",
       "\n",
       "   Train_Precision  Train_F1_Score  Test_Accuracy  Test_Recall  \\\n",
       "0         0.358010        0.031586       0.794354     0.014337   \n",
       "1         0.321217        0.417783       0.659549     0.605511   \n",
       "2         0.836675        0.510161       0.772053     0.188396   \n",
       "3         0.285610        0.435831       0.514430     0.919803   \n",
       "4         0.285610        0.435831       0.514430     0.919803   \n",
       "5         0.465436        0.599789       0.672216     0.517473   \n",
       "6         0.795870        0.529926       0.773591     0.185708   \n",
       "\n",
       "   Test_Precision  Test_F1_Score  \n",
       "0        0.304762       0.027386  \n",
       "1        0.319202       0.418033  \n",
       "2        0.372619       0.250260  \n",
       "3        0.283524       0.433442  \n",
       "4        0.283524       0.433442  \n",
       "5        0.312078       0.389348  \n",
       "6        0.376990       0.248837  "
      ]
     },
     "execution_count": 128,
     "metadata": {},
     "output_type": "execute_result"
    }
   ],
   "source": [
    "scores = get_metrics(y_train,y_pred_train,y_val,y_pred_val,\"Adaboost_BestParameters\",scores)\n",
    "scores"
   ]
  },
  {
   "cell_type": "markdown",
   "metadata": {},
   "source": [
    "### 8. Gradient Boosting Classifier"
   ]
  },
  {
   "cell_type": "code",
   "execution_count": 129,
   "metadata": {},
   "outputs": [],
   "source": [
    "clf_GBM = GradientBoostingClassifier(n_estimators=50,\n",
    "                                       learning_rate=0.3,\n",
    "                                       subsample=0.8)"
   ]
  },
  {
   "cell_type": "code",
   "execution_count": 130,
   "metadata": {},
   "outputs": [
    {
     "data": {
      "text/plain": [
       "GradientBoostingClassifier(learning_rate=0.3, n_estimators=50, subsample=0.8)"
      ]
     },
     "execution_count": 130,
     "metadata": {},
     "output_type": "execute_result"
    }
   ],
   "source": [
    "clf_GBM.fit(X=X_train_final, y=y_train)"
   ]
  },
  {
   "cell_type": "code",
   "execution_count": 131,
   "metadata": {},
   "outputs": [],
   "source": [
    "y_pred_train = clf_GBM.predict(X_train_final)\n",
    "y_pred_val = clf_GBM.predict(X_val_final)"
   ]
  },
  {
   "cell_type": "code",
   "execution_count": 132,
   "metadata": {},
   "outputs": [
    {
     "name": "stdout",
     "output_type": "stream",
     "text": [
      "\n",
      "         ========================================\n",
      "           CLASSIFICATION REPORT FOR TRAIN DATA\n",
      "         ========================================\n",
      "        \n",
      "              precision    recall  f1-score   support\n",
      "\n",
      "           0     0.7997    0.9984    0.8881     70566\n",
      "           1     0.6472    0.0118    0.0232     17855\n",
      "\n",
      "    accuracy                         0.7992     88421\n",
      "   macro avg     0.7235    0.5051    0.4556     88421\n",
      "weighted avg     0.7689    0.7992    0.7134     88421\n",
      "\n",
      "\n",
      "             =============================================\n",
      "               CLASSIFICATION REPORT FOR VALIDATION DATA\n",
      "             =============================================\n",
      "            \n",
      "              precision    recall  f1-score   support\n",
      "\n",
      "           0     0.7990    0.9977    0.8873     17642\n",
      "           1     0.4675    0.0081    0.0159      4464\n",
      "\n",
      "    accuracy                         0.7978     22106\n",
      "   macro avg     0.6333    0.5029    0.4516     22106\n",
      "weighted avg     0.7321    0.7978    0.7114     22106\n",
      "\n",
      "\n",
      "             ========================================\n",
      "               Confusion Matrix FOR TRAIN DATA\n",
      "             ========================================\n",
      "            \n",
      "[[70451   115]\n",
      " [17644   211]]\n",
      "\n",
      "             =============================================\n",
      "               Confusion matrix FOR VALIDATION DATA\n",
      "             =============================================\n",
      "            \n",
      "[[17601    41]\n",
      " [ 4428    36]]\n"
     ]
    },
    {
     "data": {
      "text/html": [
       "<div>\n",
       "<style scoped>\n",
       "    .dataframe tbody tr th:only-of-type {\n",
       "        vertical-align: middle;\n",
       "    }\n",
       "\n",
       "    .dataframe tbody tr th {\n",
       "        vertical-align: top;\n",
       "    }\n",
       "\n",
       "    .dataframe thead th {\n",
       "        text-align: right;\n",
       "    }\n",
       "</style>\n",
       "<table border=\"1\" class=\"dataframe\">\n",
       "  <thead>\n",
       "    <tr style=\"text-align: right;\">\n",
       "      <th></th>\n",
       "      <th>Model</th>\n",
       "      <th>Train_Accuracy</th>\n",
       "      <th>Train_Recall</th>\n",
       "      <th>Train_Precision</th>\n",
       "      <th>Train_F1_Score</th>\n",
       "      <th>Test_Accuracy</th>\n",
       "      <th>Test_Recall</th>\n",
       "      <th>Test_Precision</th>\n",
       "      <th>Test_F1_Score</th>\n",
       "    </tr>\n",
       "  </thead>\n",
       "  <tbody>\n",
       "    <tr>\n",
       "      <th>0</th>\n",
       "      <td>LogisticRegression</td>\n",
       "      <td>0.795422</td>\n",
       "      <td>0.016522</td>\n",
       "      <td>0.358010</td>\n",
       "      <td>0.031586</td>\n",
       "      <td>0.794354</td>\n",
       "      <td>0.014337</td>\n",
       "      <td>0.304762</td>\n",
       "      <td>0.027386</td>\n",
       "    </tr>\n",
       "    <tr>\n",
       "      <th>1</th>\n",
       "      <td>LogisticRegression_Balanced</td>\n",
       "      <td>0.663790</td>\n",
       "      <td>0.597368</td>\n",
       "      <td>0.321217</td>\n",
       "      <td>0.417783</td>\n",
       "      <td>0.659549</td>\n",
       "      <td>0.605511</td>\n",
       "      <td>0.319202</td>\n",
       "      <td>0.418033</td>\n",
       "    </tr>\n",
       "    <tr>\n",
       "      <th>2</th>\n",
       "      <td>DecisionTree</td>\n",
       "      <td>0.857703</td>\n",
       "      <td>0.366956</td>\n",
       "      <td>0.836675</td>\n",
       "      <td>0.510161</td>\n",
       "      <td>0.772053</td>\n",
       "      <td>0.188396</td>\n",
       "      <td>0.372619</td>\n",
       "      <td>0.250260</td>\n",
       "    </tr>\n",
       "    <tr>\n",
       "      <th>3</th>\n",
       "      <td>DecisionTree_BestParameters</td>\n",
       "      <td>0.519345</td>\n",
       "      <td>0.919406</td>\n",
       "      <td>0.285610</td>\n",
       "      <td>0.435831</td>\n",
       "      <td>0.514430</td>\n",
       "      <td>0.919803</td>\n",
       "      <td>0.283524</td>\n",
       "      <td>0.433442</td>\n",
       "    </tr>\n",
       "    <tr>\n",
       "      <th>4</th>\n",
       "      <td>DecisionTree_RandomizedSearch</td>\n",
       "      <td>0.519345</td>\n",
       "      <td>0.919406</td>\n",
       "      <td>0.285610</td>\n",
       "      <td>0.435831</td>\n",
       "      <td>0.514430</td>\n",
       "      <td>0.919803</td>\n",
       "      <td>0.283524</td>\n",
       "      <td>0.433442</td>\n",
       "    </tr>\n",
       "    <tr>\n",
       "      <th>5</th>\n",
       "      <td>Adaboost</td>\n",
       "      <td>0.772780</td>\n",
       "      <td>0.843181</td>\n",
       "      <td>0.465436</td>\n",
       "      <td>0.599789</td>\n",
       "      <td>0.672216</td>\n",
       "      <td>0.517473</td>\n",
       "      <td>0.312078</td>\n",
       "      <td>0.389348</td>\n",
       "    </tr>\n",
       "    <tr>\n",
       "      <th>6</th>\n",
       "      <td>Adaboost_BestParameters</td>\n",
       "      <td>0.857703</td>\n",
       "      <td>0.397200</td>\n",
       "      <td>0.795870</td>\n",
       "      <td>0.529926</td>\n",
       "      <td>0.773591</td>\n",
       "      <td>0.185708</td>\n",
       "      <td>0.376990</td>\n",
       "      <td>0.248837</td>\n",
       "    </tr>\n",
       "    <tr>\n",
       "      <th>7</th>\n",
       "      <td>GBM</td>\n",
       "      <td>0.799154</td>\n",
       "      <td>0.011817</td>\n",
       "      <td>0.647239</td>\n",
       "      <td>0.023211</td>\n",
       "      <td>0.797838</td>\n",
       "      <td>0.008065</td>\n",
       "      <td>0.467532</td>\n",
       "      <td>0.015856</td>\n",
       "    </tr>\n",
       "  </tbody>\n",
       "</table>\n",
       "</div>"
      ],
      "text/plain": [
       "                           Model  Train_Accuracy  Train_Recall  \\\n",
       "0             LogisticRegression        0.795422      0.016522   \n",
       "1    LogisticRegression_Balanced        0.663790      0.597368   \n",
       "2                   DecisionTree        0.857703      0.366956   \n",
       "3    DecisionTree_BestParameters        0.519345      0.919406   \n",
       "4  DecisionTree_RandomizedSearch        0.519345      0.919406   \n",
       "5                       Adaboost        0.772780      0.843181   \n",
       "6        Adaboost_BestParameters        0.857703      0.397200   \n",
       "7                            GBM        0.799154      0.011817   \n",
       "\n",
       "   Train_Precision  Train_F1_Score  Test_Accuracy  Test_Recall  \\\n",
       "0         0.358010        0.031586       0.794354     0.014337   \n",
       "1         0.321217        0.417783       0.659549     0.605511   \n",
       "2         0.836675        0.510161       0.772053     0.188396   \n",
       "3         0.285610        0.435831       0.514430     0.919803   \n",
       "4         0.285610        0.435831       0.514430     0.919803   \n",
       "5         0.465436        0.599789       0.672216     0.517473   \n",
       "6         0.795870        0.529926       0.773591     0.185708   \n",
       "7         0.647239        0.023211       0.797838     0.008065   \n",
       "\n",
       "   Test_Precision  Test_F1_Score  \n",
       "0        0.304762       0.027386  \n",
       "1        0.319202       0.418033  \n",
       "2        0.372619       0.250260  \n",
       "3        0.283524       0.433442  \n",
       "4        0.283524       0.433442  \n",
       "5        0.312078       0.389348  \n",
       "6        0.376990       0.248837  \n",
       "7        0.467532       0.015856  "
      ]
     },
     "execution_count": 132,
     "metadata": {},
     "output_type": "execute_result"
    }
   ],
   "source": [
    "scores = get_metrics(y_train,y_pred_train,y_val,y_pred_val,\"GBM\",scores)\n",
    "scores"
   ]
  },
  {
   "cell_type": "markdown",
   "metadata": {},
   "source": [
    "### Handling Class Imbalance using Synthetic Minority Oversampling Technique\n",
    "#### Oversample Using SMOTE"
   ]
  },
  {
   "cell_type": "code",
   "execution_count": 175,
   "metadata": {},
   "outputs": [
    {
     "name": "stdout",
     "output_type": "stream",
     "text": [
      "Collecting imblearn\n",
      "  Downloading imblearn-0.0-py2.py3-none-any.whl (1.9 kB)\n",
      "Collecting imbalanced-learn\n",
      "  Downloading imbalanced_learn-0.9.0-py3-none-any.whl (199 kB)\n",
      "Requirement already satisfied: numpy>=1.14.6 in c:\\users\\pratyush\\anaconda3\\lib\\site-packages (from imbalanced-learn->imblearn) (1.19.2)\n",
      "Requirement already satisfied: joblib>=0.11 in c:\\users\\pratyush\\anaconda3\\lib\\site-packages (from imbalanced-learn->imblearn) (0.17.0)\n",
      "Requirement already satisfied: scipy>=1.1.0 in c:\\users\\pratyush\\anaconda3\\lib\\site-packages (from imbalanced-learn->imblearn) (1.5.2)\n",
      "Requirement already satisfied: scikit-learn>=1.0.1 in c:\\users\\pratyush\\anaconda3\\lib\\site-packages (from imbalanced-learn->imblearn) (1.0.2)\n",
      "Requirement already satisfied: threadpoolctl>=2.0.0 in c:\\users\\pratyush\\anaconda3\\lib\\site-packages (from imbalanced-learn->imblearn) (2.1.0)\n",
      "Installing collected packages: imbalanced-learn, imblearn\n",
      "Successfully installed imbalanced-learn-0.9.0 imblearn-0.0\n"
     ]
    }
   ],
   "source": [
    "!pip install imblearn\n",
    "from imblearn.over_sampling import SMOTE"
   ]
  },
  {
   "cell_type": "code",
   "execution_count": 179,
   "metadata": {
    "colab": {},
    "colab_type": "code",
    "id": "GS2gnzI1d5v1"
   },
   "outputs": [],
   "source": [
    "smote = SMOTE(random_state=123)\n",
    "os_train_X, os_train_y = smote.fit_sample(X_train_final, y_train)"
   ]
  },
  {
   "cell_type": "code",
   "execution_count": 135,
   "metadata": {
    "colab": {
     "base_uri": "https://localhost:8080/",
     "height": 279
    },
    "colab_type": "code",
    "id": "UMskhdRcNBtf",
    "outputId": "28b1d7d0-13b2-46a7-f5c8-114daca1f809"
   },
   "outputs": [
    {
     "data": {
      "image/png": "[encoded data removed]",
      "text/plain": [
       "<Figure size 432x288 with 1 Axes>"
      ]
     },
     "metadata": {
      "needs_background": "light"
     },
     "output_type": "display_data"
    }
   ],
   "source": [
    "# observe that data has been balanced\n",
    "pd.Series(os_train_y).value_counts().plot.bar()\n",
    "plt.show()"
   ]
  },
  {
   "cell_type": "code",
   "execution_count": 136,
   "metadata": {},
   "outputs": [],
   "source": [
    "os_train_X = pd.DataFrame(data=os_train_X)\n",
    "os_train_y= pd.DataFrame(data=os_train_y)"
   ]
  },
  {
   "cell_type": "code",
   "execution_count": 137,
   "metadata": {},
   "outputs": [
    {
     "name": "stdout",
     "output_type": "stream",
     "text": [
      "(141132, 1)\n",
      "(141132, 45)\n"
     ]
    }
   ],
   "source": [
    "print(os_train_y.shape)\n",
    "print(os_train_X.shape)"
   ]
  },
  {
   "cell_type": "code",
   "execution_count": 138,
   "metadata": {},
   "outputs": [
    {
     "data": {
      "text/plain": [
       "Index(['No-show'], dtype='object')"
      ]
     },
     "execution_count": 138,
     "metadata": {},
     "output_type": "execute_result"
    }
   ],
   "source": [
    "os_train_y.columns"
   ]
  },
  {
   "cell_type": "code",
   "execution_count": 139,
   "metadata": {},
   "outputs": [
    {
     "name": "stdout",
     "output_type": "stream",
     "text": [
      "length of oversampled data is  141132\n",
      "Number of 'No-show' patients in oversampled data 70566\n",
      "Number of non 'No-show' patients  70566\n",
      "Proportion of 'No-show' patients in oversampled data is 0.5\n",
      "Proportion of non 'No-show' patients in oversampled data is 0.5\n"
     ]
    }
   ],
   "source": [
    "# we can Check the numbers of our data\n",
    "print(\"length of oversampled data is \",len(os_train_X))\n",
    "print(\"Number of 'No-show' patients in oversampled data\",len(os_train_y[os_train_y['No-show']==1]))\n",
    "print(\"Number of non 'No-show' patients \",len(os_train_y[os_train_y['No-show']==0]))\n",
    "\n",
    "print(\"Proportion of 'No-show' patients in oversampled data is\",len(os_train_y[os_train_y['No-show']==1])/len(os_train_X))\n",
    "print(\"Proportion of non 'No-show' patients in oversampled data is\",len(os_train_y[os_train_y['No-show']==0])/len(os_train_X))\n"
   ]
  },
  {
   "cell_type": "markdown",
   "metadata": {},
   "source": [
    "### 9. GBM with SMOTe"
   ]
  },
  {
   "cell_type": "code",
   "execution_count": 140,
   "metadata": {
    "colab": {},
    "colab_type": "code",
    "id": "inX3Rx-Kd5v4"
   },
   "outputs": [],
   "source": [
    "clf_GBM_smot = GradientBoostingClassifier(n_estimators=100,\n",
    "                                       learning_rate=0.01,\n",
    "                                       subsample=0.8, random_state=123)"
   ]
  },
  {
   "cell_type": "code",
   "execution_count": 141,
   "metadata": {
    "colab": {
     "base_uri": "https://localhost:8080/",
     "height": 101
    },
    "colab_type": "code",
    "id": "fM8luwkHd5v6",
    "outputId": "552973f9-89d7-4c5c-f910-ceb644300454"
   },
   "outputs": [
    {
     "data": {
      "text/plain": [
       "GradientBoostingClassifier(learning_rate=0.01, random_state=123, subsample=0.8)"
      ]
     },
     "execution_count": 141,
     "metadata": {},
     "output_type": "execute_result"
    }
   ],
   "source": [
    "clf_GBM_smot.fit(os_train_X, os_train_y)"
   ]
  },
  {
   "cell_type": "code",
   "execution_count": 142,
   "metadata": {
    "colab": {},
    "colab_type": "code",
    "id": "pg7r-yoPd5v-"
   },
   "outputs": [],
   "source": [
    "y_pred_train = clf_GBM_smot.predict(os_train_X)\n",
    "y_pred_val = clf_GBM_smot.predict(X_val_final)"
   ]
  },
  {
   "cell_type": "markdown",
   "metadata": {
    "colab_type": "text",
    "id": "Pj2wz7c1d5wC"
   },
   "source": [
    "##### Evaluating the model performance"
   ]
  },
  {
   "cell_type": "code",
   "execution_count": 143,
   "metadata": {
    "colab": {
     "base_uri": "https://localhost:8080/",
     "height": 84
    },
    "colab_type": "code",
    "id": "FIIRNJuPd5wD",
    "outputId": "2501fb52-7391-4507-9ac2-e6d5dd1a9c64"
   },
   "outputs": [
    {
     "name": "stdout",
     "output_type": "stream",
     "text": [
      "\n",
      "         ========================================\n",
      "           CLASSIFICATION REPORT FOR TRAIN DATA\n",
      "         ========================================\n",
      "        \n",
      "              precision    recall  f1-score   support\n",
      "\n",
      "           0     0.8064    0.4840    0.6050     70566\n",
      "           1     0.6314    0.8838    0.7366     70566\n",
      "\n",
      "    accuracy                         0.6839    141132\n",
      "   macro avg     0.7189    0.6839    0.6708    141132\n",
      "weighted avg     0.7189    0.6839    0.6708    141132\n",
      "\n",
      "\n",
      "             =============================================\n",
      "               CLASSIFICATION REPORT FOR VALIDATION DATA\n",
      "             =============================================\n",
      "            \n",
      "              precision    recall  f1-score   support\n",
      "\n",
      "           0     0.9306    0.4779    0.6315     17642\n",
      "           1     0.2940    0.8591    0.4380      4464\n",
      "\n",
      "    accuracy                         0.5549     22106\n",
      "   macro avg     0.6123    0.6685    0.5348     22106\n",
      "weighted avg     0.8020    0.5549    0.5924     22106\n",
      "\n",
      "\n",
      "             ========================================\n",
      "               Confusion Matrix FOR TRAIN DATA\n",
      "             ========================================\n",
      "            \n",
      "[[34157 36409]\n",
      " [ 8199 62367]]\n",
      "\n",
      "             =============================================\n",
      "               Confusion matrix FOR VALIDATION DATA\n",
      "             =============================================\n",
      "            \n",
      "[[8431 9211]\n",
      " [ 629 3835]]\n"
     ]
    },
    {
     "data": {
      "text/html": [
       "<div>\n",
       "<style scoped>\n",
       "    .dataframe tbody tr th:only-of-type {\n",
       "        vertical-align: middle;\n",
       "    }\n",
       "\n",
       "    .dataframe tbody tr th {\n",
       "        vertical-align: top;\n",
       "    }\n",
       "\n",
       "    .dataframe thead th {\n",
       "        text-align: right;\n",
       "    }\n",
       "</style>\n",
       "<table border=\"1\" class=\"dataframe\">\n",
       "  <thead>\n",
       "    <tr style=\"text-align: right;\">\n",
       "      <th></th>\n",
       "      <th>Model</th>\n",
       "      <th>Train_Accuracy</th>\n",
       "      <th>Train_Recall</th>\n",
       "      <th>Train_Precision</th>\n",
       "      <th>Train_F1_Score</th>\n",
       "      <th>Test_Accuracy</th>\n",
       "      <th>Test_Recall</th>\n",
       "      <th>Test_Precision</th>\n",
       "      <th>Test_F1_Score</th>\n",
       "    </tr>\n",
       "  </thead>\n",
       "  <tbody>\n",
       "    <tr>\n",
       "      <th>0</th>\n",
       "      <td>LogisticRegression</td>\n",
       "      <td>0.795422</td>\n",
       "      <td>0.016522</td>\n",
       "      <td>0.358010</td>\n",
       "      <td>0.031586</td>\n",
       "      <td>0.794354</td>\n",
       "      <td>0.014337</td>\n",
       "      <td>0.304762</td>\n",
       "      <td>0.027386</td>\n",
       "    </tr>\n",
       "    <tr>\n",
       "      <th>1</th>\n",
       "      <td>LogisticRegression_Balanced</td>\n",
       "      <td>0.663790</td>\n",
       "      <td>0.597368</td>\n",
       "      <td>0.321217</td>\n",
       "      <td>0.417783</td>\n",
       "      <td>0.659549</td>\n",
       "      <td>0.605511</td>\n",
       "      <td>0.319202</td>\n",
       "      <td>0.418033</td>\n",
       "    </tr>\n",
       "    <tr>\n",
       "      <th>2</th>\n",
       "      <td>DecisionTree</td>\n",
       "      <td>0.857703</td>\n",
       "      <td>0.366956</td>\n",
       "      <td>0.836675</td>\n",
       "      <td>0.510161</td>\n",
       "      <td>0.772053</td>\n",
       "      <td>0.188396</td>\n",
       "      <td>0.372619</td>\n",
       "      <td>0.250260</td>\n",
       "    </tr>\n",
       "    <tr>\n",
       "      <th>3</th>\n",
       "      <td>DecisionTree_BestParameters</td>\n",
       "      <td>0.519345</td>\n",
       "      <td>0.919406</td>\n",
       "      <td>0.285610</td>\n",
       "      <td>0.435831</td>\n",
       "      <td>0.514430</td>\n",
       "      <td>0.919803</td>\n",
       "      <td>0.283524</td>\n",
       "      <td>0.433442</td>\n",
       "    </tr>\n",
       "    <tr>\n",
       "      <th>4</th>\n",
       "      <td>DecisionTree_RandomizedSearch</td>\n",
       "      <td>0.519345</td>\n",
       "      <td>0.919406</td>\n",
       "      <td>0.285610</td>\n",
       "      <td>0.435831</td>\n",
       "      <td>0.514430</td>\n",
       "      <td>0.919803</td>\n",
       "      <td>0.283524</td>\n",
       "      <td>0.433442</td>\n",
       "    </tr>\n",
       "    <tr>\n",
       "      <th>5</th>\n",
       "      <td>Adaboost</td>\n",
       "      <td>0.772780</td>\n",
       "      <td>0.843181</td>\n",
       "      <td>0.465436</td>\n",
       "      <td>0.599789</td>\n",
       "      <td>0.672216</td>\n",
       "      <td>0.517473</td>\n",
       "      <td>0.312078</td>\n",
       "      <td>0.389348</td>\n",
       "    </tr>\n",
       "    <tr>\n",
       "      <th>6</th>\n",
       "      <td>Adaboost_BestParameters</td>\n",
       "      <td>0.857703</td>\n",
       "      <td>0.397200</td>\n",
       "      <td>0.795870</td>\n",
       "      <td>0.529926</td>\n",
       "      <td>0.773591</td>\n",
       "      <td>0.185708</td>\n",
       "      <td>0.376990</td>\n",
       "      <td>0.248837</td>\n",
       "    </tr>\n",
       "    <tr>\n",
       "      <th>7</th>\n",
       "      <td>GBM</td>\n",
       "      <td>0.799154</td>\n",
       "      <td>0.011817</td>\n",
       "      <td>0.647239</td>\n",
       "      <td>0.023211</td>\n",
       "      <td>0.797838</td>\n",
       "      <td>0.008065</td>\n",
       "      <td>0.467532</td>\n",
       "      <td>0.015856</td>\n",
       "    </tr>\n",
       "    <tr>\n",
       "      <th>8</th>\n",
       "      <td>GBM_SMOTe</td>\n",
       "      <td>0.683927</td>\n",
       "      <td>0.883811</td>\n",
       "      <td>0.631398</td>\n",
       "      <td>0.736580</td>\n",
       "      <td>0.554872</td>\n",
       "      <td>0.859095</td>\n",
       "      <td>0.293960</td>\n",
       "      <td>0.438035</td>\n",
       "    </tr>\n",
       "  </tbody>\n",
       "</table>\n",
       "</div>"
      ],
      "text/plain": [
       "                           Model  Train_Accuracy  Train_Recall  \\\n",
       "0             LogisticRegression        0.795422      0.016522   \n",
       "1    LogisticRegression_Balanced        0.663790      0.597368   \n",
       "2                   DecisionTree        0.857703      0.366956   \n",
       "3    DecisionTree_BestParameters        0.519345      0.919406   \n",
       "4  DecisionTree_RandomizedSearch        0.519345      0.919406   \n",
       "5                       Adaboost        0.772780      0.843181   \n",
       "6        Adaboost_BestParameters        0.857703      0.397200   \n",
       "7                            GBM        0.799154      0.011817   \n",
       "8                      GBM_SMOTe        0.683927      0.883811   \n",
       "\n",
       "   Train_Precision  Train_F1_Score  Test_Accuracy  Test_Recall  \\\n",
       "0         0.358010        0.031586       0.794354     0.014337   \n",
       "1         0.321217        0.417783       0.659549     0.605511   \n",
       "2         0.836675        0.510161       0.772053     0.188396   \n",
       "3         0.285610        0.435831       0.514430     0.919803   \n",
       "4         0.285610        0.435831       0.514430     0.919803   \n",
       "5         0.465436        0.599789       0.672216     0.517473   \n",
       "6         0.795870        0.529926       0.773591     0.185708   \n",
       "7         0.647239        0.023211       0.797838     0.008065   \n",
       "8         0.631398        0.736580       0.554872     0.859095   \n",
       "\n",
       "   Test_Precision  Test_F1_Score  \n",
       "0        0.304762       0.027386  \n",
       "1        0.319202       0.418033  \n",
       "2        0.372619       0.250260  \n",
       "3        0.283524       0.433442  \n",
       "4        0.283524       0.433442  \n",
       "5        0.312078       0.389348  \n",
       "6        0.376990       0.248837  \n",
       "7        0.467532       0.015856  \n",
       "8        0.293960       0.438035  "
      ]
     },
     "execution_count": 143,
     "metadata": {},
     "output_type": "execute_result"
    }
   ],
   "source": [
    "scores = get_metrics(os_train_y,y_pred_train,y_val,y_pred_val,\"GBM_SMOTe\",scores)\n",
    "scores"
   ]
  },
  {
   "cell_type": "markdown",
   "metadata": {},
   "source": [
    "### 10. XGBoost Classifier"
   ]
  },
  {
   "cell_type": "code",
   "execution_count": 144,
   "metadata": {},
   "outputs": [],
   "source": [
    "from xgboost import XGBClassifier"
   ]
  },
  {
   "cell_type": "code",
   "execution_count": 145,
   "metadata": {},
   "outputs": [
    {
     "data": {
      "text/plain": [
       "XGBClassifier(base_score=0.5, booster=None, colsample_bylevel=1,\n",
       "              colsample_bynode=1, colsample_bytree=1, gamma=0.5, gpu_id=-1,\n",
       "              importance_type='gain', interaction_constraints=None,\n",
       "              learning_rate=0.1, max_delta_step=0, max_depth=6,\n",
       "              min_child_weight=1, missing=nan, monotone_constraints=None,\n",
       "              n_estimators=400, n_jobs=-1, num_parallel_tree=1, random_state=0,\n",
       "              reg_alpha=0, reg_lambda=1, scale_pos_weight=1, subsample=1,\n",
       "              tree_method=None, validate_parameters=False, verbosity=None)"
      ]
     },
     "execution_count": 145,
     "metadata": {},
     "output_type": "execute_result"
    }
   ],
   "source": [
    "clf_XGB = XGBClassifier(n_estimators=400, gamma=0.5,learning_rate=0.1,n_jobs=-1)\n",
    "clf_XGB.fit(X_train_final, y_train)"
   ]
  },
  {
   "cell_type": "code",
   "execution_count": 146,
   "metadata": {},
   "outputs": [],
   "source": [
    "y_pred_train = clf_XGB.predict(X_train_final)\n",
    "y_pred_val = clf_XGB.predict(X_val_final)"
   ]
  },
  {
   "cell_type": "code",
   "execution_count": 147,
   "metadata": {},
   "outputs": [
    {
     "name": "stdout",
     "output_type": "stream",
     "text": [
      "\n",
      "         ========================================\n",
      "           CLASSIFICATION REPORT FOR TRAIN DATA\n",
      "         ========================================\n",
      "        \n",
      "              precision    recall  f1-score   support\n",
      "\n",
      "           0     0.8042    0.9964    0.8901     70566\n",
      "           1     0.7452    0.0411    0.0779     17855\n",
      "\n",
      "    accuracy                         0.8035     88421\n",
      "   macro avg     0.7747    0.5188    0.4840     88421\n",
      "weighted avg     0.7923    0.8035    0.7261     88421\n",
      "\n",
      "\n",
      "             =============================================\n",
      "               CLASSIFICATION REPORT FOR VALIDATION DATA\n",
      "             =============================================\n",
      "            \n",
      "              precision    recall  f1-score   support\n",
      "\n",
      "           0     0.8011    0.9949    0.8875     17642\n",
      "           1     0.5408    0.0237    0.0455      4464\n",
      "\n",
      "    accuracy                         0.7988     22106\n",
      "   macro avg     0.6710    0.5093    0.4665     22106\n",
      "weighted avg     0.7485    0.7988    0.7175     22106\n",
      "\n",
      "\n",
      "             ========================================\n",
      "               Confusion Matrix FOR TRAIN DATA\n",
      "             ========================================\n",
      "            \n",
      "[[70315   251]\n",
      " [17121   734]]\n",
      "\n",
      "             =============================================\n",
      "               Confusion matrix FOR VALIDATION DATA\n",
      "             =============================================\n",
      "            \n",
      "[[17552    90]\n",
      " [ 4358   106]]\n"
     ]
    },
    {
     "data": {
      "text/html": [
       "<div>\n",
       "<style scoped>\n",
       "    .dataframe tbody tr th:only-of-type {\n",
       "        vertical-align: middle;\n",
       "    }\n",
       "\n",
       "    .dataframe tbody tr th {\n",
       "        vertical-align: top;\n",
       "    }\n",
       "\n",
       "    .dataframe thead th {\n",
       "        text-align: right;\n",
       "    }\n",
       "</style>\n",
       "<table border=\"1\" class=\"dataframe\">\n",
       "  <thead>\n",
       "    <tr style=\"text-align: right;\">\n",
       "      <th></th>\n",
       "      <th>Model</th>\n",
       "      <th>Train_Accuracy</th>\n",
       "      <th>Train_Recall</th>\n",
       "      <th>Train_Precision</th>\n",
       "      <th>Train_F1_Score</th>\n",
       "      <th>Test_Accuracy</th>\n",
       "      <th>Test_Recall</th>\n",
       "      <th>Test_Precision</th>\n",
       "      <th>Test_F1_Score</th>\n",
       "    </tr>\n",
       "  </thead>\n",
       "  <tbody>\n",
       "    <tr>\n",
       "      <th>0</th>\n",
       "      <td>LogisticRegression</td>\n",
       "      <td>0.795422</td>\n",
       "      <td>0.016522</td>\n",
       "      <td>0.358010</td>\n",
       "      <td>0.031586</td>\n",
       "      <td>0.794354</td>\n",
       "      <td>0.014337</td>\n",
       "      <td>0.304762</td>\n",
       "      <td>0.027386</td>\n",
       "    </tr>\n",
       "    <tr>\n",
       "      <th>1</th>\n",
       "      <td>LogisticRegression_Balanced</td>\n",
       "      <td>0.663790</td>\n",
       "      <td>0.597368</td>\n",
       "      <td>0.321217</td>\n",
       "      <td>0.417783</td>\n",
       "      <td>0.659549</td>\n",
       "      <td>0.605511</td>\n",
       "      <td>0.319202</td>\n",
       "      <td>0.418033</td>\n",
       "    </tr>\n",
       "    <tr>\n",
       "      <th>2</th>\n",
       "      <td>DecisionTree</td>\n",
       "      <td>0.857703</td>\n",
       "      <td>0.366956</td>\n",
       "      <td>0.836675</td>\n",
       "      <td>0.510161</td>\n",
       "      <td>0.772053</td>\n",
       "      <td>0.188396</td>\n",
       "      <td>0.372619</td>\n",
       "      <td>0.250260</td>\n",
       "    </tr>\n",
       "    <tr>\n",
       "      <th>3</th>\n",
       "      <td>DecisionTree_BestParameters</td>\n",
       "      <td>0.519345</td>\n",
       "      <td>0.919406</td>\n",
       "      <td>0.285610</td>\n",
       "      <td>0.435831</td>\n",
       "      <td>0.514430</td>\n",
       "      <td>0.919803</td>\n",
       "      <td>0.283524</td>\n",
       "      <td>0.433442</td>\n",
       "    </tr>\n",
       "    <tr>\n",
       "      <th>4</th>\n",
       "      <td>DecisionTree_RandomizedSearch</td>\n",
       "      <td>0.519345</td>\n",
       "      <td>0.919406</td>\n",
       "      <td>0.285610</td>\n",
       "      <td>0.435831</td>\n",
       "      <td>0.514430</td>\n",
       "      <td>0.919803</td>\n",
       "      <td>0.283524</td>\n",
       "      <td>0.433442</td>\n",
       "    </tr>\n",
       "    <tr>\n",
       "      <th>5</th>\n",
       "      <td>Adaboost</td>\n",
       "      <td>0.772780</td>\n",
       "      <td>0.843181</td>\n",
       "      <td>0.465436</td>\n",
       "      <td>0.599789</td>\n",
       "      <td>0.672216</td>\n",
       "      <td>0.517473</td>\n",
       "      <td>0.312078</td>\n",
       "      <td>0.389348</td>\n",
       "    </tr>\n",
       "    <tr>\n",
       "      <th>6</th>\n",
       "      <td>Adaboost_BestParameters</td>\n",
       "      <td>0.857703</td>\n",
       "      <td>0.397200</td>\n",
       "      <td>0.795870</td>\n",
       "      <td>0.529926</td>\n",
       "      <td>0.773591</td>\n",
       "      <td>0.185708</td>\n",
       "      <td>0.376990</td>\n",
       "      <td>0.248837</td>\n",
       "    </tr>\n",
       "    <tr>\n",
       "      <th>7</th>\n",
       "      <td>GBM</td>\n",
       "      <td>0.799154</td>\n",
       "      <td>0.011817</td>\n",
       "      <td>0.647239</td>\n",
       "      <td>0.023211</td>\n",
       "      <td>0.797838</td>\n",
       "      <td>0.008065</td>\n",
       "      <td>0.467532</td>\n",
       "      <td>0.015856</td>\n",
       "    </tr>\n",
       "    <tr>\n",
       "      <th>8</th>\n",
       "      <td>GBM_SMOTe</td>\n",
       "      <td>0.683927</td>\n",
       "      <td>0.883811</td>\n",
       "      <td>0.631398</td>\n",
       "      <td>0.736580</td>\n",
       "      <td>0.554872</td>\n",
       "      <td>0.859095</td>\n",
       "      <td>0.293960</td>\n",
       "      <td>0.438035</td>\n",
       "    </tr>\n",
       "    <tr>\n",
       "      <th>9</th>\n",
       "      <td>XGBoost</td>\n",
       "      <td>0.803531</td>\n",
       "      <td>0.041109</td>\n",
       "      <td>0.745178</td>\n",
       "      <td>0.077919</td>\n",
       "      <td>0.798788</td>\n",
       "      <td>0.023746</td>\n",
       "      <td>0.540816</td>\n",
       "      <td>0.045494</td>\n",
       "    </tr>\n",
       "  </tbody>\n",
       "</table>\n",
       "</div>"
      ],
      "text/plain": [
       "                           Model  Train_Accuracy  Train_Recall  \\\n",
       "0             LogisticRegression        0.795422      0.016522   \n",
       "1    LogisticRegression_Balanced        0.663790      0.597368   \n",
       "2                   DecisionTree        0.857703      0.366956   \n",
       "3    DecisionTree_BestParameters        0.519345      0.919406   \n",
       "4  DecisionTree_RandomizedSearch        0.519345      0.919406   \n",
       "5                       Adaboost        0.772780      0.843181   \n",
       "6        Adaboost_BestParameters        0.857703      0.397200   \n",
       "7                            GBM        0.799154      0.011817   \n",
       "8                      GBM_SMOTe        0.683927      0.883811   \n",
       "9                        XGBoost        0.803531      0.041109   \n",
       "\n",
       "   Train_Precision  Train_F1_Score  Test_Accuracy  Test_Recall  \\\n",
       "0         0.358010        0.031586       0.794354     0.014337   \n",
       "1         0.321217        0.417783       0.659549     0.605511   \n",
       "2         0.836675        0.510161       0.772053     0.188396   \n",
       "3         0.285610        0.435831       0.514430     0.919803   \n",
       "4         0.285610        0.435831       0.514430     0.919803   \n",
       "5         0.465436        0.599789       0.672216     0.517473   \n",
       "6         0.795870        0.529926       0.773591     0.185708   \n",
       "7         0.647239        0.023211       0.797838     0.008065   \n",
       "8         0.631398        0.736580       0.554872     0.859095   \n",
       "9         0.745178        0.077919       0.798788     0.023746   \n",
       "\n",
       "   Test_Precision  Test_F1_Score  \n",
       "0        0.304762       0.027386  \n",
       "1        0.319202       0.418033  \n",
       "2        0.372619       0.250260  \n",
       "3        0.283524       0.433442  \n",
       "4        0.283524       0.433442  \n",
       "5        0.312078       0.389348  \n",
       "6        0.376990       0.248837  \n",
       "7        0.467532       0.015856  \n",
       "8        0.293960       0.438035  \n",
       "9        0.540816       0.045494  "
      ]
     },
     "execution_count": 147,
     "metadata": {},
     "output_type": "execute_result"
    }
   ],
   "source": [
    "scores = get_metrics(y_train,y_pred_train,y_val,y_pred_val,\"XGBoost\",scores)\n",
    "scores"
   ]
  },
  {
   "cell_type": "code",
   "execution_count": 149,
   "metadata": {},
   "outputs": [
    {
     "data": {
      "text/plain": [
       "0    0.798068\n",
       "1    0.201932\n",
       "Name: No-show, dtype: float64"
      ]
     },
     "execution_count": 149,
     "metadata": {},
     "output_type": "execute_result"
    }
   ],
   "source": [
    "y_train.value_counts(normalize=True)"
   ]
  },
  {
   "cell_type": "markdown",
   "metadata": {},
   "source": [
    "### 11. XGBoost with Grid Search CV"
   ]
  },
  {
   "cell_type": "code",
   "execution_count": 150,
   "metadata": {},
   "outputs": [],
   "source": [
    "clf_XGB_grid = XGBClassifier()\n",
    " \n",
    "# Use a grid over parameters of interest\n",
    "param_grid = {\n",
    "     'colsample_bytree': np.linspace(0.6, 0.8, 2),\n",
    "     'n_estimators':[100, 200],\n",
    "     'max_depth': [3, 4],\n",
    "     'gamma': [0.2,0.3,0.4],\n",
    "     'learning_rate': [0.001, 0.01, 0.1, 1, 10],\n",
    "     'scale_pos_weight':[4]\n",
    "}"
   ]
  },
  {
   "cell_type": "code",
   "execution_count": 151,
   "metadata": {},
   "outputs": [],
   "source": [
    "# from sklearn.model_selection import RepeatedStratifiedKFold\n",
    "# cv = RepeatedStratifiedKFold(n_splits=10, n_repeats=3, random_state=1)\n",
    "\n",
    "CV_XGB = GridSearchCV(estimator=clf_XGB_grid, param_grid=param_grid, n_jobs=-1, scoring='roc_auc')"
   ]
  },
  {
   "cell_type": "code",
   "execution_count": 152,
   "metadata": {},
   "outputs": [
    {
     "name": "stdout",
     "output_type": "stream",
     "text": [
      "CPU times: user 22.2 s, sys: 640 ms, total: 22.9 s\n",
      "Wall time: 23min 6s\n"
     ]
    },
    {
     "data": {
      "text/plain": [
       "GridSearchCV(estimator=XGBClassifier(base_score=None, booster=None,\n",
       "                                     colsample_bylevel=None,\n",
       "                                     colsample_bynode=None,\n",
       "                                     colsample_bytree=None, gamma=None,\n",
       "                                     gpu_id=None, importance_type='gain',\n",
       "                                     interaction_constraints=None,\n",
       "                                     learning_rate=None, max_delta_step=None,\n",
       "                                     max_depth=None, min_child_weight=None,\n",
       "                                     missing=nan, monotone_constraints=None,\n",
       "                                     n_estimators=100, n_jobs=None,\n",
       "                                     num_parallel_tree=None, random_state=None,\n",
       "                                     reg_alpha=None, reg_lambda=None,\n",
       "                                     scale_pos_weight=None, subsample=None,\n",
       "                                     tree_method=None,\n",
       "                                     validate_parameters=False,\n",
       "                                     verbosity=None),\n",
       "             n_jobs=-1,\n",
       "             param_grid={'colsample_bytree': array([0.6, 0.8]),\n",
       "                         'gamma': [0.2, 0.3, 0.4],\n",
       "                         'learning_rate': [0.001, 0.01, 0.1, 1, 10],\n",
       "                         'max_depth': [3, 4], 'n_estimators': [100, 200],\n",
       "                         'scale_pos_weight': [4]},\n",
       "             scoring='roc_auc')"
      ]
     },
     "execution_count": 152,
     "metadata": {},
     "output_type": "execute_result"
    }
   ],
   "source": [
    "%time CV_XGB.fit(X = X_train_final, y=y_train)"
   ]
  },
  {
   "cell_type": "code",
   "execution_count": 153,
   "metadata": {},
   "outputs": [
    {
     "name": "stdout",
     "output_type": "stream",
     "text": [
      "0.7310829707164922 {'colsample_bytree': 0.8, 'gamma': 0.3, 'learning_rate': 0.1, 'max_depth': 4, 'n_estimators': 200, 'scale_pos_weight': 4}\n"
     ]
    }
   ],
   "source": [
    "# Find best model\n",
    "best_xgb_model = CV_XGB.best_estimator_\n",
    "print (CV_XGB.best_score_, CV_XGB.best_params_)"
   ]
  },
  {
   "cell_type": "code",
   "execution_count": 154,
   "metadata": {},
   "outputs": [
    {
     "data": {
      "text/plain": [
       "XGBClassifier(base_score=0.5, booster=None, colsample_bylevel=1,\n",
       "              colsample_bynode=1, colsample_bytree=0.8, gamma=0.3, gpu_id=-1,\n",
       "              importance_type='gain', interaction_constraints=None,\n",
       "              learning_rate=0.1, max_delta_step=0, max_depth=4,\n",
       "              min_child_weight=1, missing=nan, monotone_constraints=None,\n",
       "              n_estimators=200, n_jobs=0, num_parallel_tree=1, random_state=0,\n",
       "              reg_alpha=0, reg_lambda=1, scale_pos_weight=4, subsample=1,\n",
       "              tree_method=None, validate_parameters=False, verbosity=None)"
      ]
     },
     "execution_count": 154,
     "metadata": {},
     "output_type": "execute_result"
    }
   ],
   "source": [
    "best_xgb_model"
   ]
  },
  {
   "cell_type": "code",
   "execution_count": 155,
   "metadata": {},
   "outputs": [],
   "source": [
    "y_pred_train=best_xgb_model.predict(X_train_final)\n",
    "y_pred_val=best_xgb_model.predict(X_val_final)"
   ]
  },
  {
   "cell_type": "code",
   "execution_count": 156,
   "metadata": {},
   "outputs": [
    {
     "name": "stdout",
     "output_type": "stream",
     "text": [
      "\n",
      "         ========================================\n",
      "           CLASSIFICATION REPORT FOR TRAIN DATA\n",
      "         ========================================\n",
      "        \n",
      "              precision    recall  f1-score   support\n",
      "\n",
      "           0     0.9303    0.5267    0.6726     70566\n",
      "           1     0.3109    0.8440    0.4544     17855\n",
      "\n",
      "    accuracy                         0.5908     88421\n",
      "   macro avg     0.6206    0.6853    0.5635     88421\n",
      "weighted avg     0.8052    0.5908    0.6285     88421\n",
      "\n",
      "\n",
      "             =============================================\n",
      "               CLASSIFICATION REPORT FOR VALIDATION DATA\n",
      "             =============================================\n",
      "            \n",
      "              precision    recall  f1-score   support\n",
      "\n",
      "           0     0.9226    0.5185    0.6639     17642\n",
      "           1     0.3032    0.8282    0.4439      4464\n",
      "\n",
      "    accuracy                         0.5810     22106\n",
      "   macro avg     0.6129    0.6733    0.5539     22106\n",
      "weighted avg     0.7976    0.5810    0.6195     22106\n",
      "\n",
      "\n",
      "             ========================================\n",
      "               Confusion Matrix FOR TRAIN DATA\n",
      "             ========================================\n",
      "            \n",
      "[[37166 33400]\n",
      " [ 2786 15069]]\n",
      "\n",
      "             =============================================\n",
      "               Confusion matrix FOR VALIDATION DATA\n",
      "             =============================================\n",
      "            \n",
      "[[9147 8495]\n",
      " [ 767 3697]]\n"
     ]
    },
    {
     "data": {
      "text/html": [
       "<div>\n",
       "<style scoped>\n",
       "    .dataframe tbody tr th:only-of-type {\n",
       "        vertical-align: middle;\n",
       "    }\n",
       "\n",
       "    .dataframe tbody tr th {\n",
       "        vertical-align: top;\n",
       "    }\n",
       "\n",
       "    .dataframe thead th {\n",
       "        text-align: right;\n",
       "    }\n",
       "</style>\n",
       "<table border=\"1\" class=\"dataframe\">\n",
       "  <thead>\n",
       "    <tr style=\"text-align: right;\">\n",
       "      <th></th>\n",
       "      <th>Model</th>\n",
       "      <th>Train_Accuracy</th>\n",
       "      <th>Train_Recall</th>\n",
       "      <th>Train_Precision</th>\n",
       "      <th>Train_F1_Score</th>\n",
       "      <th>Test_Accuracy</th>\n",
       "      <th>Test_Recall</th>\n",
       "      <th>Test_Precision</th>\n",
       "      <th>Test_F1_Score</th>\n",
       "    </tr>\n",
       "  </thead>\n",
       "  <tbody>\n",
       "    <tr>\n",
       "      <th>0</th>\n",
       "      <td>LogisticRegression</td>\n",
       "      <td>0.795422</td>\n",
       "      <td>0.016522</td>\n",
       "      <td>0.358010</td>\n",
       "      <td>0.031586</td>\n",
       "      <td>0.794354</td>\n",
       "      <td>0.014337</td>\n",
       "      <td>0.304762</td>\n",
       "      <td>0.027386</td>\n",
       "    </tr>\n",
       "    <tr>\n",
       "      <th>1</th>\n",
       "      <td>LogisticRegression_Balanced</td>\n",
       "      <td>0.663790</td>\n",
       "      <td>0.597368</td>\n",
       "      <td>0.321217</td>\n",
       "      <td>0.417783</td>\n",
       "      <td>0.659549</td>\n",
       "      <td>0.605511</td>\n",
       "      <td>0.319202</td>\n",
       "      <td>0.418033</td>\n",
       "    </tr>\n",
       "    <tr>\n",
       "      <th>2</th>\n",
       "      <td>DecisionTree</td>\n",
       "      <td>0.857703</td>\n",
       "      <td>0.366956</td>\n",
       "      <td>0.836675</td>\n",
       "      <td>0.510161</td>\n",
       "      <td>0.772053</td>\n",
       "      <td>0.188396</td>\n",
       "      <td>0.372619</td>\n",
       "      <td>0.250260</td>\n",
       "    </tr>\n",
       "    <tr>\n",
       "      <th>3</th>\n",
       "      <td>DecisionTree_BestParameters</td>\n",
       "      <td>0.519345</td>\n",
       "      <td>0.919406</td>\n",
       "      <td>0.285610</td>\n",
       "      <td>0.435831</td>\n",
       "      <td>0.514430</td>\n",
       "      <td>0.919803</td>\n",
       "      <td>0.283524</td>\n",
       "      <td>0.433442</td>\n",
       "    </tr>\n",
       "    <tr>\n",
       "      <th>4</th>\n",
       "      <td>DecisionTree_RandomizedSearch</td>\n",
       "      <td>0.519345</td>\n",
       "      <td>0.919406</td>\n",
       "      <td>0.285610</td>\n",
       "      <td>0.435831</td>\n",
       "      <td>0.514430</td>\n",
       "      <td>0.919803</td>\n",
       "      <td>0.283524</td>\n",
       "      <td>0.433442</td>\n",
       "    </tr>\n",
       "    <tr>\n",
       "      <th>5</th>\n",
       "      <td>Adaboost</td>\n",
       "      <td>0.772780</td>\n",
       "      <td>0.843181</td>\n",
       "      <td>0.465436</td>\n",
       "      <td>0.599789</td>\n",
       "      <td>0.672216</td>\n",
       "      <td>0.517473</td>\n",
       "      <td>0.312078</td>\n",
       "      <td>0.389348</td>\n",
       "    </tr>\n",
       "    <tr>\n",
       "      <th>6</th>\n",
       "      <td>Adaboost_BestParameters</td>\n",
       "      <td>0.857703</td>\n",
       "      <td>0.397200</td>\n",
       "      <td>0.795870</td>\n",
       "      <td>0.529926</td>\n",
       "      <td>0.773591</td>\n",
       "      <td>0.185708</td>\n",
       "      <td>0.376990</td>\n",
       "      <td>0.248837</td>\n",
       "    </tr>\n",
       "    <tr>\n",
       "      <th>7</th>\n",
       "      <td>GBM</td>\n",
       "      <td>0.799154</td>\n",
       "      <td>0.011817</td>\n",
       "      <td>0.647239</td>\n",
       "      <td>0.023211</td>\n",
       "      <td>0.797838</td>\n",
       "      <td>0.008065</td>\n",
       "      <td>0.467532</td>\n",
       "      <td>0.015856</td>\n",
       "    </tr>\n",
       "    <tr>\n",
       "      <th>8</th>\n",
       "      <td>GBM_SMOTe</td>\n",
       "      <td>0.683927</td>\n",
       "      <td>0.883811</td>\n",
       "      <td>0.631398</td>\n",
       "      <td>0.736580</td>\n",
       "      <td>0.554872</td>\n",
       "      <td>0.859095</td>\n",
       "      <td>0.293960</td>\n",
       "      <td>0.438035</td>\n",
       "    </tr>\n",
       "    <tr>\n",
       "      <th>9</th>\n",
       "      <td>XGBoost</td>\n",
       "      <td>0.803531</td>\n",
       "      <td>0.041109</td>\n",
       "      <td>0.745178</td>\n",
       "      <td>0.077919</td>\n",
       "      <td>0.798788</td>\n",
       "      <td>0.023746</td>\n",
       "      <td>0.540816</td>\n",
       "      <td>0.045494</td>\n",
       "    </tr>\n",
       "    <tr>\n",
       "      <th>10</th>\n",
       "      <td>XGBoost_BestParameters</td>\n",
       "      <td>0.590753</td>\n",
       "      <td>0.843965</td>\n",
       "      <td>0.310900</td>\n",
       "      <td>0.454406</td>\n",
       "      <td>0.581019</td>\n",
       "      <td>0.828181</td>\n",
       "      <td>0.303232</td>\n",
       "      <td>0.443924</td>\n",
       "    </tr>\n",
       "  </tbody>\n",
       "</table>\n",
       "</div>"
      ],
      "text/plain": [
       "                            Model  Train_Accuracy  Train_Recall  \\\n",
       "0              LogisticRegression        0.795422      0.016522   \n",
       "1     LogisticRegression_Balanced        0.663790      0.597368   \n",
       "2                    DecisionTree        0.857703      0.366956   \n",
       "3     DecisionTree_BestParameters        0.519345      0.919406   \n",
       "4   DecisionTree_RandomizedSearch        0.519345      0.919406   \n",
       "5                        Adaboost        0.772780      0.843181   \n",
       "6         Adaboost_BestParameters        0.857703      0.397200   \n",
       "7                             GBM        0.799154      0.011817   \n",
       "8                       GBM_SMOTe        0.683927      0.883811   \n",
       "9                         XGBoost        0.803531      0.041109   \n",
       "10         XGBoost_BestParameters        0.590753      0.843965   \n",
       "\n",
       "    Train_Precision  Train_F1_Score  Test_Accuracy  Test_Recall  \\\n",
       "0          0.358010        0.031586       0.794354     0.014337   \n",
       "1          0.321217        0.417783       0.659549     0.605511   \n",
       "2          0.836675        0.510161       0.772053     0.188396   \n",
       "3          0.285610        0.435831       0.514430     0.919803   \n",
       "4          0.285610        0.435831       0.514430     0.919803   \n",
       "5          0.465436        0.599789       0.672216     0.517473   \n",
       "6          0.795870        0.529926       0.773591     0.185708   \n",
       "7          0.647239        0.023211       0.797838     0.008065   \n",
       "8          0.631398        0.736580       0.554872     0.859095   \n",
       "9          0.745178        0.077919       0.798788     0.023746   \n",
       "10         0.310900        0.454406       0.581019     0.828181   \n",
       "\n",
       "    Test_Precision  Test_F1_Score  \n",
       "0         0.304762       0.027386  \n",
       "1         0.319202       0.418033  \n",
       "2         0.372619       0.250260  \n",
       "3         0.283524       0.433442  \n",
       "4         0.283524       0.433442  \n",
       "5         0.312078       0.389348  \n",
       "6         0.376990       0.248837  \n",
       "7         0.467532       0.015856  \n",
       "8         0.293960       0.438035  \n",
       "9         0.540816       0.045494  \n",
       "10        0.303232       0.443924  "
      ]
     },
     "execution_count": 156,
     "metadata": {},
     "output_type": "execute_result"
    }
   ],
   "source": [
    "scores = get_metrics(y_train,y_pred_train,y_val,y_pred_val,\"XGBoost_BestParameters\",scores)\n",
    "scores"
   ]
  }
 ],
 "metadata": {
  "accelerator": "GPU",
  "colab": {
   "collapsed_sections": [],
   "name": "Copy of Prediction_of_Patient_No_show_Activity_03_09_2020.ipynb",
   "provenance": []
  },
  "kernelspec": {
   "display_name": "Python 3",
   "language": "python",
   "name": "python3"
  },
  "language_info": {
   "codemirror_mode": {
    "name": "ipython",
    "version": 3
   },
   "file_extension": ".py",
   "mimetype": "text/x-python",
   "name": "python",
   "nbconvert_exporter": "python",
   "pygments_lexer": "ipython3",
   "version": "3.8.5"
  },
  "toc": {
   "base_numbering": 1,
   "nav_menu": {},
   "number_sections": true,
   "sideBar": true,
   "skip_h1_title": false,
   "title_cell": "Table of Contents",
   "title_sidebar": "Contents",
   "toc_cell": true,
   "toc_position": {},
   "toc_section_display": true,
   "toc_window_display": false
  }
 },
 "nbformat": 4,
 "nbformat_minor": 4
}
